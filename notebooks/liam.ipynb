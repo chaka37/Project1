{
 "cells": [
  {
   "cell_type": "code",
   "execution_count": 15,
   "metadata": {},
   "outputs": [],
   "source": [
    "import pandas as pd\n",
    "from pathlib import Path"
   ]
  },
  {
   "cell_type": "code",
   "execution_count": 16,
   "metadata": {},
   "outputs": [],
   "source": [
    "csv_2_path = Path(\"../data/raw data/DataBreaches(2004-2021).csv\")\n",
    "csv_2_data = pd.read_csv(csv_2_path, index_col=\"Year\")"
   ]
  },
  {
   "cell_type": "code",
   "execution_count": 17,
   "metadata": {},
   "outputs": [
    {
     "data": {
      "text/html": [
       "<div>\n",
       "<style scoped>\n",
       "    .dataframe tbody tr th:only-of-type {\n",
       "        vertical-align: middle;\n",
       "    }\n",
       "\n",
       "    .dataframe tbody tr th {\n",
       "        vertical-align: top;\n",
       "    }\n",
       "\n",
       "    .dataframe thead th {\n",
       "        text-align: right;\n",
       "    }\n",
       "</style>\n",
       "<table border=\"1\" class=\"dataframe\">\n",
       "  <thead>\n",
       "    <tr style=\"text-align: right;\">\n",
       "      <th></th>\n",
       "      <th>Entity</th>\n",
       "      <th>Records</th>\n",
       "      <th>Organization type</th>\n",
       "      <th>Method</th>\n",
       "    </tr>\n",
       "    <tr>\n",
       "      <th>Year</th>\n",
       "      <th></th>\n",
       "      <th></th>\n",
       "      <th></th>\n",
       "      <th></th>\n",
       "    </tr>\n",
       "  </thead>\n",
       "  <tbody>\n",
       "    <tr>\n",
       "      <th>2016</th>\n",
       "      <td>21st Century Oncology</td>\n",
       "      <td>2200000</td>\n",
       "      <td>healthcare</td>\n",
       "      <td>hacked</td>\n",
       "    </tr>\n",
       "    <tr>\n",
       "      <th>2020</th>\n",
       "      <td>500px</td>\n",
       "      <td>14870304</td>\n",
       "      <td>social networking</td>\n",
       "      <td>hacked</td>\n",
       "    </tr>\n",
       "    <tr>\n",
       "      <th>2020</th>\n",
       "      <td>Accendo Insurance Co.</td>\n",
       "      <td>175350</td>\n",
       "      <td>healthcare</td>\n",
       "      <td>poor security</td>\n",
       "    </tr>\n",
       "    <tr>\n",
       "      <th>2013</th>\n",
       "      <td>Adobe Systems Incorporated</td>\n",
       "      <td>152000000</td>\n",
       "      <td>tech</td>\n",
       "      <td>hacked</td>\n",
       "    </tr>\n",
       "    <tr>\n",
       "      <th>2019</th>\n",
       "      <td>Adobe Inc.</td>\n",
       "      <td>7500000</td>\n",
       "      <td>tech</td>\n",
       "      <td>poor security</td>\n",
       "    </tr>\n",
       "  </tbody>\n",
       "</table>\n",
       "</div>"
      ],
      "text/plain": [
       "                          Entity    Records  Organization type         Method\n",
       "Year                                                                         \n",
       "2016       21st Century Oncology    2200000         healthcare         hacked\n",
       "2020                       500px   14870304  social networking         hacked\n",
       "2020       Accendo Insurance Co.     175350         healthcare  poor security\n",
       "2013  Adobe Systems Incorporated  152000000               tech         hacked\n",
       "2019                  Adobe Inc.    7500000               tech  poor security"
      ]
     },
     "execution_count": 17,
     "metadata": {},
     "output_type": "execute_result"
    }
   ],
   "source": [
    "csv_2_data.head()"
   ]
  },
  {
   "cell_type": "code",
   "execution_count": 18,
   "metadata": {},
   "outputs": [
    {
     "data": {
      "text/plain": [
       "Entity               0\n",
       "Records              0\n",
       "Organization type    0\n",
       "Method               0\n",
       "dtype: int64"
      ]
     },
     "execution_count": 18,
     "metadata": {},
     "output_type": "execute_result"
    }
   ],
   "source": [
    "csv_2_data.isnull().sum()"
   ]
  },
  {
   "cell_type": "code",
   "execution_count": 19,
   "metadata": {},
   "outputs": [
    {
     "data": {
      "text/html": [
       "<div>\n",
       "<style scoped>\n",
       "    .dataframe tbody tr th:only-of-type {\n",
       "        vertical-align: middle;\n",
       "    }\n",
       "\n",
       "    .dataframe tbody tr th {\n",
       "        vertical-align: top;\n",
       "    }\n",
       "\n",
       "    .dataframe thead th {\n",
       "        text-align: right;\n",
       "    }\n",
       "</style>\n",
       "<table border=\"1\" class=\"dataframe\">\n",
       "  <thead>\n",
       "    <tr style=\"text-align: right;\">\n",
       "      <th></th>\n",
       "      <th>Entity</th>\n",
       "      <th>Records</th>\n",
       "      <th>Organization type</th>\n",
       "      <th>Method</th>\n",
       "    </tr>\n",
       "    <tr>\n",
       "      <th>Year</th>\n",
       "      <th></th>\n",
       "      <th></th>\n",
       "      <th></th>\n",
       "      <th></th>\n",
       "    </tr>\n",
       "  </thead>\n",
       "  <tbody>\n",
       "    <tr>\n",
       "      <th>2004</th>\n",
       "      <td>Japanet Takata</td>\n",
       "      <td>510000</td>\n",
       "      <td>shopping</td>\n",
       "      <td>inside job</td>\n",
       "    </tr>\n",
       "    <tr>\n",
       "      <th>2005</th>\n",
       "      <td>Bank of America</td>\n",
       "      <td>1200000</td>\n",
       "      <td>financial</td>\n",
       "      <td>lost / stolen media</td>\n",
       "    </tr>\n",
       "    <tr>\n",
       "      <th>2005</th>\n",
       "      <td>Citigroup</td>\n",
       "      <td>3900000</td>\n",
       "      <td>financial</td>\n",
       "      <td>lost / stolen media</td>\n",
       "    </tr>\n",
       "    <tr>\n",
       "      <th>2005</th>\n",
       "      <td>CardSystems Solutions Inc. (MasterCard, Visa, ...</td>\n",
       "      <td>40000000</td>\n",
       "      <td>financial</td>\n",
       "      <td>hacked</td>\n",
       "    </tr>\n",
       "    <tr>\n",
       "      <th>2005</th>\n",
       "      <td>DSW Inc.</td>\n",
       "      <td>1400000</td>\n",
       "      <td>retail</td>\n",
       "      <td>hacked</td>\n",
       "    </tr>\n",
       "    <tr>\n",
       "      <th>...</th>\n",
       "      <td>...</td>\n",
       "      <td>...</td>\n",
       "      <td>...</td>\n",
       "      <td>...</td>\n",
       "    </tr>\n",
       "    <tr>\n",
       "      <th>2021</th>\n",
       "      <td>Apple, Inc./BlueToad</td>\n",
       "      <td>12367232</td>\n",
       "      <td>tech, retail</td>\n",
       "      <td>accidentally published</td>\n",
       "    </tr>\n",
       "    <tr>\n",
       "      <th>2021</th>\n",
       "      <td>Ankle &amp; Foot Center of Tampa Bay, Inc.</td>\n",
       "      <td>156000</td>\n",
       "      <td>healthcare</td>\n",
       "      <td>hacked</td>\n",
       "    </tr>\n",
       "    <tr>\n",
       "      <th>2021</th>\n",
       "      <td>Anthem Inc.</td>\n",
       "      <td>80000000</td>\n",
       "      <td>healthcare</td>\n",
       "      <td>hacked</td>\n",
       "    </tr>\n",
       "    <tr>\n",
       "      <th>2021</th>\n",
       "      <td>T-Mobile</td>\n",
       "      <td>45000000</td>\n",
       "      <td>telecom</td>\n",
       "      <td>hacked</td>\n",
       "    </tr>\n",
       "    <tr>\n",
       "      <th>2021</th>\n",
       "      <td>AOL</td>\n",
       "      <td>92000000</td>\n",
       "      <td>web</td>\n",
       "      <td>inside job, hacked</td>\n",
       "    </tr>\n",
       "  </tbody>\n",
       "</table>\n",
       "<p>295 rows × 4 columns</p>\n",
       "</div>"
      ],
      "text/plain": [
       "                                                 Entity   Records  \\\n",
       "Year                                                                \n",
       "2004                                     Japanet Takata    510000   \n",
       "2005                                    Bank of America   1200000   \n",
       "2005                                          Citigroup   3900000   \n",
       "2005  CardSystems Solutions Inc. (MasterCard, Visa, ...  40000000   \n",
       "2005                                           DSW Inc.   1400000   \n",
       "...                                                 ...       ...   \n",
       "2021                               Apple, Inc./BlueToad  12367232   \n",
       "2021             Ankle & Foot Center of Tampa Bay, Inc.    156000   \n",
       "2021                                        Anthem Inc.  80000000   \n",
       "2021                                           T-Mobile  45000000   \n",
       "2021                                                AOL  92000000   \n",
       "\n",
       "     Organization type                  Method  \n",
       "Year                                            \n",
       "2004          shopping              inside job  \n",
       "2005         financial     lost / stolen media  \n",
       "2005         financial     lost / stolen media  \n",
       "2005         financial                  hacked  \n",
       "2005            retail                  hacked  \n",
       "...                ...                     ...  \n",
       "2021      tech, retail  accidentally published  \n",
       "2021        healthcare                  hacked  \n",
       "2021        healthcare                  hacked  \n",
       "2021           telecom                  hacked  \n",
       "2021               web      inside job, hacked  \n",
       "\n",
       "[295 rows x 4 columns]"
      ]
     },
     "execution_count": 19,
     "metadata": {},
     "output_type": "execute_result"
    }
   ],
   "source": [
    "csv_2_data.sort_index(ascending=True)"
   ]
  },
  {
   "cell_type": "code",
   "execution_count": 20,
   "metadata": {},
   "outputs": [
    {
     "data": {
      "text/plain": [
       "hacked                                                  156\n",
       "poor security                                            36\n",
       "lost / stolen media                                      32\n",
       "inside job                                               18\n",
       "accidentally published                                   17\n",
       "lost / stolen computer                                   15\n",
       "unknown                                                   4\n",
       "improper setting, hacked                                  2\n",
       "poor security/inside job                                  2\n",
       "intentionally lost                                        1\n",
       "accidentally exposed                                      1\n",
       "publicly accessible Amazon Web Services (AWS) server      1\n",
       "rogue contractor                                          1\n",
       "misconfiguration/poor security                            1\n",
       "Poor security                                             1\n",
       "data exposed by misconfiguration                          1\n",
       "unprotected api                                           1\n",
       "poor security / hacked                                    1\n",
       "accidentally uploaded                                     1\n",
       "unsecured S3 bucket                                       1\n",
       "inside job, hacked                                        1\n",
       "social engineering                                        1\n",
       "Name: Method, dtype: int64"
      ]
     },
     "execution_count": 20,
     "metadata": {},
     "output_type": "execute_result"
    }
   ],
   "source": [
    "#Possible pyviz chart, after merging csvs\n",
    "csv_2_data['Method'].value_counts()"
   ]
  },
  {
   "cell_type": "code",
   "execution_count": 21,
   "metadata": {},
   "outputs": [
    {
     "data": {
      "text/plain": [
       "web                                                                         49\n",
       "healthcare                                                                  45\n",
       "financial                                                                   36\n",
       "government                                                                  27\n",
       "retail                                                                      20\n",
       "tech                                                                        14\n",
       "telecoms                                                                    12\n",
       "academic                                                                    12\n",
       "gaming                                                                      10\n",
       "social network                                                               8\n",
       "military                                                                     6\n",
       "transport                                                                    5\n",
       "energy                                                                       3\n",
       "hotel                                                                        3\n",
       "social media                                                                 2\n",
       "government, healthcare                                                       2\n",
       "media                                                                        2\n",
       "tech, retail                                                                 2\n",
       "telecommunications                                                           2\n",
       "phone accessories                                                            1\n",
       "government, database                                                         1\n",
       "web, tech                                                                    1\n",
       "web, gaming                                                                  1\n",
       "market analysis                                                              1\n",
       "Consumer Goods                                                               1\n",
       "ticket distribution                                                          1\n",
       "telecom                                                                      1\n",
       "military, healthcare                                                         1\n",
       "Telephone directory                                                          1\n",
       "Clinical Laboratory                                                          1\n",
       "government, military                                                         1\n",
       "online marketing                                                             1\n",
       "mobile carrier                                                               1\n",
       "tech, web                                                                    1\n",
       "Question & Answer                                                            1\n",
       "local search                                                                 1\n",
       "fashion                                                                      1\n",
       "QR code payment                                                              1\n",
       "advertising                                                                  1\n",
       "educational services                                                         1\n",
       "banking                                                                      1\n",
       "game                                                                         1\n",
       "background check                                                             1\n",
       "restaurant                                                                   1\n",
       "financial, credit reporting                                                  1\n",
       "data broker                                                                  1\n",
       "financial service company                                                    1\n",
       "personal and demographic data about residents and their properties of US     1\n",
       "special public corporation                                                   1\n",
       "shopping                                                                     1\n",
       "social networking                                                            1\n",
       "web, military                                                                1\n",
       "genealogy                                                                    1\n",
       "publisher (magazine)                                                         1\n",
       "Name: Organization type, dtype: int64"
      ]
     },
     "execution_count": 21,
     "metadata": {},
     "output_type": "execute_result"
    }
   ],
   "source": [
    "#Possible pyviz chart, after merging csvs\n",
    "csv_2_data['Organization type'].value_counts()\n"
   ]
  },
  {
   "cell_type": "code",
   "execution_count": 22,
   "metadata": {},
   "outputs": [],
   "source": [
    "csv_3_path = Path(\"../data/raw data/PRC Data Breach Chronology - 1.13.20.csv\")\n",
    "csv_3_data = pd.read_csv(csv_3_path)"
   ]
  },
  {
   "cell_type": "code",
   "execution_count": 23,
   "metadata": {},
   "outputs": [
    {
     "data": {
      "text/plain": [
       "HACK    2533\n",
       "DISC    1861\n",
       "PHYS    1733\n",
       "PORT    1172\n",
       "UNKN     704\n",
       "INSD     606\n",
       "STAT     249\n",
       "CARD      68\n",
       "Name: Type of breach, dtype: int64"
      ]
     },
     "execution_count": 23,
     "metadata": {},
     "output_type": "execute_result"
    }
   ],
   "source": [
    "csv_3_data['Type of breach'].value_counts()"
   ]
  }
 ],
 "metadata": {
  "interpreter": {
   "hash": "cb86128c1ac9f07ffc1f4bb13376016a1c6f30ec6b9a9be6835586b914d1cdaf"
  },
  "kernelspec": {
   "display_name": "Python 3.7.11 ('dev')",
   "language": "python",
   "name": "python3"
  },
  "language_info": {
   "codemirror_mode": {
    "name": "ipython",
    "version": 3
   },
   "file_extension": ".py",
   "mimetype": "text/x-python",
   "name": "python",
   "nbconvert_exporter": "python",
   "pygments_lexer": "ipython3",
   "version": "3.7.11"
  },
  "orig_nbformat": 4
 },
 "nbformat": 4,
 "nbformat_minor": 2
}
