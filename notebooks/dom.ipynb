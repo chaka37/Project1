{
 "cells": [
  {
   "cell_type": "code",
   "execution_count": 133,
   "metadata": {},
   "outputs": [],
   "source": [
    "# Initial imports\n",
    "\n",
    "import pandas as pd\n",
    "import numpy as np\n",
    "import datetime as dt\n",
    "import plotly.express as px\n",
    "import os\n",
    "import hvplot.pandas\n",
    "import scipy.stats\n",
    "from pathlib import Path\n",
    "\n",
    "%matplotlib inline"
   ]
  },
  {
   "cell_type": "code",
   "execution_count": 65,
   "metadata": {},
   "outputs": [
    {
     "data": {
      "text/html": [
       "<div>\n",
       "<style scoped>\n",
       "    .dataframe tbody tr th:only-of-type {\n",
       "        vertical-align: middle;\n",
       "    }\n",
       "\n",
       "    .dataframe tbody tr th {\n",
       "        vertical-align: top;\n",
       "    }\n",
       "\n",
       "    .dataframe thead th {\n",
       "        text-align: right;\n",
       "    }\n",
       "</style>\n",
       "<table border=\"1\" class=\"dataframe\">\n",
       "  <thead>\n",
       "    <tr style=\"text-align: right;\">\n",
       "      <th></th>\n",
       "      <th>Title</th>\n",
       "      <th>Name</th>\n",
       "      <th>Domain</th>\n",
       "      <th>BreachDate</th>\n",
       "      <th>AddedDate</th>\n",
       "      <th>PwnCount</th>\n",
       "      <th>Description</th>\n",
       "      <th>0</th>\n",
       "      <th>1</th>\n",
       "      <th>2</th>\n",
       "      <th>3</th>\n",
       "      <th>Unnamed: 11</th>\n",
       "      <th>Unnamed: 12</th>\n",
       "      <th>Unnamed: 13</th>\n",
       "      <th>Unnamed: 14</th>\n",
       "      <th>Unnamed: 15</th>\n",
       "    </tr>\n",
       "  </thead>\n",
       "  <tbody>\n",
       "    <tr>\n",
       "      <th>0</th>\n",
       "      <td>000webhost</td>\n",
       "      <td>000webhost</td>\n",
       "      <td>000webhost.com</td>\n",
       "      <td>2015-03-01</td>\n",
       "      <td>2015-10-26T23:35:45Z</td>\n",
       "      <td>13545468</td>\n",
       "      <td>In approximately March 2015</td>\n",
       "      <td>the free web hosting provider &lt;a href=\"http://...</td>\n",
       "      <td>email addresses and plain text passwords.</td>\n",
       "      <td>Email addresses</td>\n",
       "      <td>IP addresses</td>\n",
       "      <td>Names</td>\n",
       "      <td>Passwords</td>\n",
       "      <td>NaN</td>\n",
       "      <td>NaN</td>\n",
       "      <td>NaN</td>\n",
       "    </tr>\n",
       "    <tr>\n",
       "      <th>1</th>\n",
       "      <td>17</td>\n",
       "      <td>17Media</td>\n",
       "      <td>17app.co</td>\n",
       "      <td>2016-04-19</td>\n",
       "      <td>2016-07-08T01:55:03Z</td>\n",
       "      <td>4009640</td>\n",
       "      <td>In April 2016</td>\n",
       "      <td>customer data obtained from the streaming app ...</td>\n",
       "      <td>usernames and passwords stored as unsalted MD5...</td>\n",
       "      <td>Device information</td>\n",
       "      <td>Email addresses</td>\n",
       "      <td>IP addresses</td>\n",
       "      <td>Passwords</td>\n",
       "      <td>NaN</td>\n",
       "      <td>NaN</td>\n",
       "      <td>NaN</td>\n",
       "    </tr>\n",
       "    <tr>\n",
       "      <th>2</th>\n",
       "      <td>Acne.org</td>\n",
       "      <td>AcneOrg</td>\n",
       "      <td>acne.org</td>\n",
       "      <td>2014-11-25</td>\n",
       "      <td>2016-03-06T11:07:41Z</td>\n",
       "      <td>432943</td>\n",
       "      <td>In November 2014</td>\n",
       "      <td>the acne website &lt;a href=\"http://www.acne.org/...</td>\n",
       "      <td>birth dates and passwords.</td>\n",
       "      <td>Dates of birth</td>\n",
       "      <td>Email addresses</td>\n",
       "      <td>IP addresses</td>\n",
       "      <td>Passwords</td>\n",
       "      <td>NaN</td>\n",
       "      <td>NaN</td>\n",
       "      <td>NaN</td>\n",
       "    </tr>\n",
       "    <tr>\n",
       "      <th>3</th>\n",
       "      <td>Adobe</td>\n",
       "      <td>Adobe</td>\n",
       "      <td>adobe.com</td>\n",
       "      <td>2013-10-04</td>\n",
       "      <td>2013-12-04T00:00:00Z</td>\n",
       "      <td>152445165</td>\n",
       "      <td>In October 2013</td>\n",
       "      <td>153 million Adobe accounts were breached with ...</td>\n",
       "      <td>username</td>\n",
       "      <td>email</td>\n",
       "      <td>&lt;em&gt;encrypted&lt;/em&gt; password and a password hin...</td>\n",
       "      <td>Email addresses</td>\n",
       "      <td>Password hints</td>\n",
       "      <td>Passwords</td>\n",
       "      <td>Usernames</td>\n",
       "      <td>NaN</td>\n",
       "    </tr>\n",
       "    <tr>\n",
       "      <th>4</th>\n",
       "      <td>Adult Friend Finder</td>\n",
       "      <td>AdultFriendFinder</td>\n",
       "      <td>adultfriendfinder.com</td>\n",
       "      <td>2015-05-21</td>\n",
       "      <td>2015-05-22T06:03:44Z</td>\n",
       "      <td>3867997</td>\n",
       "      <td>In May 2015</td>\n",
       "      <td>the adult hookup site &lt;a href=\"http://www.bbc....</td>\n",
       "      <td>Dates of birth</td>\n",
       "      <td>Email addresses</td>\n",
       "      <td>Genders</td>\n",
       "      <td>Geographic locations</td>\n",
       "      <td>NaN</td>\n",
       "      <td>NaN</td>\n",
       "      <td>NaN</td>\n",
       "      <td>NaN</td>\n",
       "    </tr>\n",
       "    <tr>\n",
       "      <th>...</th>\n",
       "      <td>...</td>\n",
       "      <td>...</td>\n",
       "      <td>...</td>\n",
       "      <td>...</td>\n",
       "      <td>...</td>\n",
       "      <td>...</td>\n",
       "      <td>...</td>\n",
       "      <td>...</td>\n",
       "      <td>...</td>\n",
       "      <td>...</td>\n",
       "      <td>...</td>\n",
       "      <td>...</td>\n",
       "      <td>...</td>\n",
       "      <td>...</td>\n",
       "      <td>...</td>\n",
       "      <td>...</td>\n",
       "    </tr>\n",
       "    <tr>\n",
       "      <th>124</th>\n",
       "      <td>XSplit</td>\n",
       "      <td>XSplit</td>\n",
       "      <td>xsplit.com</td>\n",
       "      <td>2013-11-07</td>\n",
       "      <td>2015-08-08T04:28:48Z</td>\n",
       "      <td>2983472</td>\n",
       "      <td>In November 2013</td>\n",
       "      <td>the makers of gaming live streaming and record...</td>\n",
       "      <td>email addresses</td>\n",
       "      <td>usernames and hashed passwords.</td>\n",
       "      <td>Email addresses</td>\n",
       "      <td>Names</td>\n",
       "      <td>Passwords</td>\n",
       "      <td>Usernames</td>\n",
       "      <td>NaN</td>\n",
       "      <td>NaN</td>\n",
       "    </tr>\n",
       "    <tr>\n",
       "      <th>125</th>\n",
       "      <td>Yahoo</td>\n",
       "      <td>Yahoo</td>\n",
       "      <td>yahoo.com</td>\n",
       "      <td>2012-07-11</td>\n",
       "      <td>2013-12-04T00:00:00Z</td>\n",
       "      <td>453427</td>\n",
       "      <td>In July 2012</td>\n",
       "      <td>Yahoo! had their online publishing service &amp;qu...</td>\n",
       "      <td>a staggering &lt;a href=\"http://www.troyhunt.com/...</td>\n",
       "      <td>Email addresses</td>\n",
       "      <td>Passwords</td>\n",
       "      <td>NaN</td>\n",
       "      <td>NaN</td>\n",
       "      <td>NaN</td>\n",
       "      <td>NaN</td>\n",
       "      <td>NaN</td>\n",
       "    </tr>\n",
       "    <tr>\n",
       "      <th>126</th>\n",
       "      <td>Yandex Dump</td>\n",
       "      <td>Yandex</td>\n",
       "      <td>forum.btcsec.com</td>\n",
       "      <td>2014-09-07</td>\n",
       "      <td>2014-09-12T04:50:32Z</td>\n",
       "      <td>1186564</td>\n",
       "      <td>In September 2014</td>\n",
       "      <td>&lt;a href=\"http://habrahabr.ru/post/235949/\" tar...</td>\n",
       "      <td>the Russian search engine giants who also prov...</td>\n",
       "      <td>Email addresses</td>\n",
       "      <td>Passwords</td>\n",
       "      <td>NaN</td>\n",
       "      <td>NaN</td>\n",
       "      <td>NaN</td>\n",
       "      <td>NaN</td>\n",
       "      <td>NaN</td>\n",
       "    </tr>\n",
       "    <tr>\n",
       "      <th>127</th>\n",
       "      <td>YouPorn</td>\n",
       "      <td>YouPorn</td>\n",
       "      <td>youporn.com</td>\n",
       "      <td>2012-02-21</td>\n",
       "      <td>2015-07-30T05:32:00Z</td>\n",
       "      <td>1327567</td>\n",
       "      <td>In February 2012</td>\n",
       "      <td>the adult website YouPorn &lt;a href=\"http://www....</td>\n",
       "      <td>Email addresses</td>\n",
       "      <td>Passwords</td>\n",
       "      <td>NaN</td>\n",
       "      <td>NaN</td>\n",
       "      <td>NaN</td>\n",
       "      <td>NaN</td>\n",
       "      <td>NaN</td>\n",
       "      <td>NaN</td>\n",
       "    </tr>\n",
       "    <tr>\n",
       "      <th>128</th>\n",
       "      <td>Спрашивай.ру</td>\n",
       "      <td>SprashivaiRu</td>\n",
       "      <td>sprashivai.ru</td>\n",
       "      <td>2015-05-11</td>\n",
       "      <td>2015-05-12T23:50:08Z</td>\n",
       "      <td>3474763</td>\n",
       "      <td>In May 2015</td>\n",
       "      <td>&lt;a href=\"http://sprashivai.ru/\" target=\"_blank...</td>\n",
       "      <td>the leaked data included email addresses</td>\n",
       "      <td>birth dates and other personally identifiable ...</td>\n",
       "      <td>Dates of birth</td>\n",
       "      <td>Email addresses</td>\n",
       "      <td>Genders</td>\n",
       "      <td>Geographic locations</td>\n",
       "      <td>NaN</td>\n",
       "      <td>NaN</td>\n",
       "    </tr>\n",
       "  </tbody>\n",
       "</table>\n",
       "<p>129 rows × 16 columns</p>\n",
       "</div>"
      ],
      "text/plain": [
       "                   Title               Name                 Domain  \\\n",
       "0             000webhost         000webhost         000webhost.com   \n",
       "1                     17            17Media               17app.co   \n",
       "2               Acne.org            AcneOrg               acne.org   \n",
       "3                  Adobe              Adobe              adobe.com   \n",
       "4    Adult Friend Finder  AdultFriendFinder  adultfriendfinder.com   \n",
       "..                   ...                ...                    ...   \n",
       "124               XSplit             XSplit             xsplit.com   \n",
       "125                Yahoo              Yahoo              yahoo.com   \n",
       "126          Yandex Dump             Yandex       forum.btcsec.com   \n",
       "127              YouPorn            YouPorn            youporn.com   \n",
       "128         Спрашивай.ру       SprashivaiRu          sprashivai.ru   \n",
       "\n",
       "     BreachDate             AddedDate   PwnCount                  Description  \\\n",
       "0    2015-03-01  2015-10-26T23:35:45Z   13545468  In approximately March 2015   \n",
       "1    2016-04-19  2016-07-08T01:55:03Z    4009640                In April 2016   \n",
       "2    2014-11-25  2016-03-06T11:07:41Z     432943             In November 2014   \n",
       "3    2013-10-04  2013-12-04T00:00:00Z  152445165              In October 2013   \n",
       "4    2015-05-21  2015-05-22T06:03:44Z    3867997                  In May 2015   \n",
       "..          ...                   ...        ...                          ...   \n",
       "124  2013-11-07  2015-08-08T04:28:48Z    2983472             In November 2013   \n",
       "125  2012-07-11  2013-12-04T00:00:00Z     453427                 In July 2012   \n",
       "126  2014-09-07  2014-09-12T04:50:32Z    1186564            In September 2014   \n",
       "127  2012-02-21  2015-07-30T05:32:00Z    1327567             In February 2012   \n",
       "128  2015-05-11  2015-05-12T23:50:08Z    3474763                  In May 2015   \n",
       "\n",
       "                                                     0  \\\n",
       "0    the free web hosting provider <a href=\"http://...   \n",
       "1    customer data obtained from the streaming app ...   \n",
       "2    the acne website <a href=\"http://www.acne.org/...   \n",
       "3    153 million Adobe accounts were breached with ...   \n",
       "4    the adult hookup site <a href=\"http://www.bbc....   \n",
       "..                                                 ...   \n",
       "124  the makers of gaming live streaming and record...   \n",
       "125  Yahoo! had their online publishing service &qu...   \n",
       "126  <a href=\"http://habrahabr.ru/post/235949/\" tar...   \n",
       "127  the adult website YouPorn <a href=\"http://www....   \n",
       "128  <a href=\"http://sprashivai.ru/\" target=\"_blank...   \n",
       "\n",
       "                                                     1  \\\n",
       "0            email addresses and plain text passwords.   \n",
       "1    usernames and passwords stored as unsalted MD5...   \n",
       "2                           birth dates and passwords.   \n",
       "3                                             username   \n",
       "4                                       Dates of birth   \n",
       "..                                                 ...   \n",
       "124                                    email addresses   \n",
       "125  a staggering <a href=\"http://www.troyhunt.com/...   \n",
       "126  the Russian search engine giants who also prov...   \n",
       "127                                    Email addresses   \n",
       "128           the leaked data included email addresses   \n",
       "\n",
       "                                                     2  \\\n",
       "0                                      Email addresses   \n",
       "1                                   Device information   \n",
       "2                                       Dates of birth   \n",
       "3                                                email   \n",
       "4                                      Email addresses   \n",
       "..                                                 ...   \n",
       "124                    usernames and hashed passwords.   \n",
       "125                                    Email addresses   \n",
       "126                                    Email addresses   \n",
       "127                                          Passwords   \n",
       "128  birth dates and other personally identifiable ...   \n",
       "\n",
       "                                                     3           Unnamed: 11  \\\n",
       "0                                         IP addresses                 Names   \n",
       "1                                      Email addresses          IP addresses   \n",
       "2                                      Email addresses          IP addresses   \n",
       "3    <em>encrypted</em> password and a password hin...       Email addresses   \n",
       "4                                              Genders  Geographic locations   \n",
       "..                                                 ...                   ...   \n",
       "124                                    Email addresses                 Names   \n",
       "125                                          Passwords                   NaN   \n",
       "126                                          Passwords                   NaN   \n",
       "127                                                NaN                   NaN   \n",
       "128                                     Dates of birth       Email addresses   \n",
       "\n",
       "        Unnamed: 12           Unnamed: 13 Unnamed: 14 Unnamed: 15  \n",
       "0         Passwords                   NaN         NaN         NaN  \n",
       "1         Passwords                   NaN         NaN         NaN  \n",
       "2         Passwords                   NaN         NaN         NaN  \n",
       "3    Password hints             Passwords   Usernames         NaN  \n",
       "4               NaN                   NaN         NaN         NaN  \n",
       "..              ...                   ...         ...         ...  \n",
       "124       Passwords             Usernames         NaN         NaN  \n",
       "125             NaN                   NaN         NaN         NaN  \n",
       "126             NaN                   NaN         NaN         NaN  \n",
       "127             NaN                   NaN         NaN         NaN  \n",
       "128         Genders  Geographic locations         NaN         NaN  \n",
       "\n",
       "[129 rows x 16 columns]"
      ]
     },
     "execution_count": 65,
     "metadata": {},
     "output_type": "execute_result"
    }
   ],
   "source": [
    "# Reading Data Breaches CSV\n",
    "\n",
    "csvpath = Path(\"../data/raw data/Domenic csv 090316.csv\")\n",
    "data_breaches = pd.read_csv(csvpath)\n",
    "\n",
    "data_breaches"
   ]
  },
  {
   "cell_type": "code",
   "execution_count": 66,
   "metadata": {},
   "outputs": [
    {
     "data": {
      "text/plain": [
       "Title            0\n",
       "Name             0\n",
       "Domain           0\n",
       "BreachDate       0\n",
       "AddedDate        0\n",
       "PwnCount         0\n",
       "Description      0\n",
       "0                0\n",
       "1                0\n",
       "2                0\n",
       "3                6\n",
       "Unnamed: 11     13\n",
       "Unnamed: 12     49\n",
       "Unnamed: 13     88\n",
       "Unnamed: 14    112\n",
       "Unnamed: 15    120\n",
       "dtype: int64"
      ]
     },
     "execution_count": 66,
     "metadata": {},
     "output_type": "execute_result"
    }
   ],
   "source": [
    "# Count nulls\n",
    "\n",
    "\n",
    "data_breaches.isnull().sum()\n",
    "\n"
   ]
  },
  {
   "cell_type": "code",
   "execution_count": 67,
   "metadata": {},
   "outputs": [],
   "source": [
    "# Drop nulls\n",
    "\n",
    "#data_breaches = data_breaches.dropna()\n",
    "\n",
    "#data_breaches\n"
   ]
  },
  {
   "cell_type": "code",
   "execution_count": 68,
   "metadata": {},
   "outputs": [
    {
     "data": {
      "text/html": [
       "<div>\n",
       "<style scoped>\n",
       "    .dataframe tbody tr th:only-of-type {\n",
       "        vertical-align: middle;\n",
       "    }\n",
       "\n",
       "    .dataframe tbody tr th {\n",
       "        vertical-align: top;\n",
       "    }\n",
       "\n",
       "    .dataframe thead th {\n",
       "        text-align: right;\n",
       "    }\n",
       "</style>\n",
       "<table border=\"1\" class=\"dataframe\">\n",
       "  <thead>\n",
       "    <tr style=\"text-align: right;\">\n",
       "      <th></th>\n",
       "      <th>Title</th>\n",
       "      <th>Company Name</th>\n",
       "      <th>Domain</th>\n",
       "      <th>Year of Breach</th>\n",
       "      <th>Date Made Public</th>\n",
       "      <th>Total Records</th>\n",
       "      <th>Description</th>\n",
       "      <th>0</th>\n",
       "      <th>1</th>\n",
       "      <th>2</th>\n",
       "      <th>3</th>\n",
       "      <th>Description of Incident</th>\n",
       "      <th>Unnamed: 12</th>\n",
       "      <th>Unnamed: 13</th>\n",
       "      <th>Unnamed: 14</th>\n",
       "      <th>Unnamed: 15</th>\n",
       "    </tr>\n",
       "  </thead>\n",
       "  <tbody>\n",
       "    <tr>\n",
       "      <th>0</th>\n",
       "      <td>000webhost</td>\n",
       "      <td>000webhost</td>\n",
       "      <td>000webhost.com</td>\n",
       "      <td>2015-03-01</td>\n",
       "      <td>2015-10-26T23:35:45Z</td>\n",
       "      <td>13545468</td>\n",
       "      <td>In approximately March 2015</td>\n",
       "      <td>the free web hosting provider &lt;a href=\"http://...</td>\n",
       "      <td>email addresses and plain text passwords.</td>\n",
       "      <td>Email addresses</td>\n",
       "      <td>IP addresses</td>\n",
       "      <td>Names</td>\n",
       "      <td>Passwords</td>\n",
       "      <td>NaN</td>\n",
       "      <td>NaN</td>\n",
       "      <td>NaN</td>\n",
       "    </tr>\n",
       "    <tr>\n",
       "      <th>1</th>\n",
       "      <td>17</td>\n",
       "      <td>17Media</td>\n",
       "      <td>17app.co</td>\n",
       "      <td>2016-04-19</td>\n",
       "      <td>2016-07-08T01:55:03Z</td>\n",
       "      <td>4009640</td>\n",
       "      <td>In April 2016</td>\n",
       "      <td>customer data obtained from the streaming app ...</td>\n",
       "      <td>usernames and passwords stored as unsalted MD5...</td>\n",
       "      <td>Device information</td>\n",
       "      <td>Email addresses</td>\n",
       "      <td>IP addresses</td>\n",
       "      <td>Passwords</td>\n",
       "      <td>NaN</td>\n",
       "      <td>NaN</td>\n",
       "      <td>NaN</td>\n",
       "    </tr>\n",
       "    <tr>\n",
       "      <th>2</th>\n",
       "      <td>Acne.org</td>\n",
       "      <td>AcneOrg</td>\n",
       "      <td>acne.org</td>\n",
       "      <td>2014-11-25</td>\n",
       "      <td>2016-03-06T11:07:41Z</td>\n",
       "      <td>432943</td>\n",
       "      <td>In November 2014</td>\n",
       "      <td>the acne website &lt;a href=\"http://www.acne.org/...</td>\n",
       "      <td>birth dates and passwords.</td>\n",
       "      <td>Dates of birth</td>\n",
       "      <td>Email addresses</td>\n",
       "      <td>IP addresses</td>\n",
       "      <td>Passwords</td>\n",
       "      <td>NaN</td>\n",
       "      <td>NaN</td>\n",
       "      <td>NaN</td>\n",
       "    </tr>\n",
       "    <tr>\n",
       "      <th>3</th>\n",
       "      <td>Adobe</td>\n",
       "      <td>Adobe</td>\n",
       "      <td>adobe.com</td>\n",
       "      <td>2013-10-04</td>\n",
       "      <td>2013-12-04T00:00:00Z</td>\n",
       "      <td>152445165</td>\n",
       "      <td>In October 2013</td>\n",
       "      <td>153 million Adobe accounts were breached with ...</td>\n",
       "      <td>username</td>\n",
       "      <td>email</td>\n",
       "      <td>&lt;em&gt;encrypted&lt;/em&gt; password and a password hin...</td>\n",
       "      <td>Email addresses</td>\n",
       "      <td>Password hints</td>\n",
       "      <td>Passwords</td>\n",
       "      <td>Usernames</td>\n",
       "      <td>NaN</td>\n",
       "    </tr>\n",
       "    <tr>\n",
       "      <th>4</th>\n",
       "      <td>Adult Friend Finder</td>\n",
       "      <td>AdultFriendFinder</td>\n",
       "      <td>adultfriendfinder.com</td>\n",
       "      <td>2015-05-21</td>\n",
       "      <td>2015-05-22T06:03:44Z</td>\n",
       "      <td>3867997</td>\n",
       "      <td>In May 2015</td>\n",
       "      <td>the adult hookup site &lt;a href=\"http://www.bbc....</td>\n",
       "      <td>Dates of birth</td>\n",
       "      <td>Email addresses</td>\n",
       "      <td>Genders</td>\n",
       "      <td>Geographic locations</td>\n",
       "      <td>NaN</td>\n",
       "      <td>NaN</td>\n",
       "      <td>NaN</td>\n",
       "      <td>NaN</td>\n",
       "    </tr>\n",
       "    <tr>\n",
       "      <th>...</th>\n",
       "      <td>...</td>\n",
       "      <td>...</td>\n",
       "      <td>...</td>\n",
       "      <td>...</td>\n",
       "      <td>...</td>\n",
       "      <td>...</td>\n",
       "      <td>...</td>\n",
       "      <td>...</td>\n",
       "      <td>...</td>\n",
       "      <td>...</td>\n",
       "      <td>...</td>\n",
       "      <td>...</td>\n",
       "      <td>...</td>\n",
       "      <td>...</td>\n",
       "      <td>...</td>\n",
       "      <td>...</td>\n",
       "    </tr>\n",
       "    <tr>\n",
       "      <th>124</th>\n",
       "      <td>XSplit</td>\n",
       "      <td>XSplit</td>\n",
       "      <td>xsplit.com</td>\n",
       "      <td>2013-11-07</td>\n",
       "      <td>2015-08-08T04:28:48Z</td>\n",
       "      <td>2983472</td>\n",
       "      <td>In November 2013</td>\n",
       "      <td>the makers of gaming live streaming and record...</td>\n",
       "      <td>email addresses</td>\n",
       "      <td>usernames and hashed passwords.</td>\n",
       "      <td>Email addresses</td>\n",
       "      <td>Names</td>\n",
       "      <td>Passwords</td>\n",
       "      <td>Usernames</td>\n",
       "      <td>NaN</td>\n",
       "      <td>NaN</td>\n",
       "    </tr>\n",
       "    <tr>\n",
       "      <th>125</th>\n",
       "      <td>Yahoo</td>\n",
       "      <td>Yahoo</td>\n",
       "      <td>yahoo.com</td>\n",
       "      <td>2012-07-11</td>\n",
       "      <td>2013-12-04T00:00:00Z</td>\n",
       "      <td>453427</td>\n",
       "      <td>In July 2012</td>\n",
       "      <td>Yahoo! had their online publishing service &amp;qu...</td>\n",
       "      <td>a staggering &lt;a href=\"http://www.troyhunt.com/...</td>\n",
       "      <td>Email addresses</td>\n",
       "      <td>Passwords</td>\n",
       "      <td>NaN</td>\n",
       "      <td>NaN</td>\n",
       "      <td>NaN</td>\n",
       "      <td>NaN</td>\n",
       "      <td>NaN</td>\n",
       "    </tr>\n",
       "    <tr>\n",
       "      <th>126</th>\n",
       "      <td>Yandex Dump</td>\n",
       "      <td>Yandex</td>\n",
       "      <td>forum.btcsec.com</td>\n",
       "      <td>2014-09-07</td>\n",
       "      <td>2014-09-12T04:50:32Z</td>\n",
       "      <td>1186564</td>\n",
       "      <td>In September 2014</td>\n",
       "      <td>&lt;a href=\"http://habrahabr.ru/post/235949/\" tar...</td>\n",
       "      <td>the Russian search engine giants who also prov...</td>\n",
       "      <td>Email addresses</td>\n",
       "      <td>Passwords</td>\n",
       "      <td>NaN</td>\n",
       "      <td>NaN</td>\n",
       "      <td>NaN</td>\n",
       "      <td>NaN</td>\n",
       "      <td>NaN</td>\n",
       "    </tr>\n",
       "    <tr>\n",
       "      <th>127</th>\n",
       "      <td>YouPorn</td>\n",
       "      <td>YouPorn</td>\n",
       "      <td>youporn.com</td>\n",
       "      <td>2012-02-21</td>\n",
       "      <td>2015-07-30T05:32:00Z</td>\n",
       "      <td>1327567</td>\n",
       "      <td>In February 2012</td>\n",
       "      <td>the adult website YouPorn &lt;a href=\"http://www....</td>\n",
       "      <td>Email addresses</td>\n",
       "      <td>Passwords</td>\n",
       "      <td>NaN</td>\n",
       "      <td>NaN</td>\n",
       "      <td>NaN</td>\n",
       "      <td>NaN</td>\n",
       "      <td>NaN</td>\n",
       "      <td>NaN</td>\n",
       "    </tr>\n",
       "    <tr>\n",
       "      <th>128</th>\n",
       "      <td>Спрашивай.ру</td>\n",
       "      <td>SprashivaiRu</td>\n",
       "      <td>sprashivai.ru</td>\n",
       "      <td>2015-05-11</td>\n",
       "      <td>2015-05-12T23:50:08Z</td>\n",
       "      <td>3474763</td>\n",
       "      <td>In May 2015</td>\n",
       "      <td>&lt;a href=\"http://sprashivai.ru/\" target=\"_blank...</td>\n",
       "      <td>the leaked data included email addresses</td>\n",
       "      <td>birth dates and other personally identifiable ...</td>\n",
       "      <td>Dates of birth</td>\n",
       "      <td>Email addresses</td>\n",
       "      <td>Genders</td>\n",
       "      <td>Geographic locations</td>\n",
       "      <td>NaN</td>\n",
       "      <td>NaN</td>\n",
       "    </tr>\n",
       "  </tbody>\n",
       "</table>\n",
       "<p>129 rows × 16 columns</p>\n",
       "</div>"
      ],
      "text/plain": [
       "                   Title       Company Name                 Domain  \\\n",
       "0             000webhost         000webhost         000webhost.com   \n",
       "1                     17            17Media               17app.co   \n",
       "2               Acne.org            AcneOrg               acne.org   \n",
       "3                  Adobe              Adobe              adobe.com   \n",
       "4    Adult Friend Finder  AdultFriendFinder  adultfriendfinder.com   \n",
       "..                   ...                ...                    ...   \n",
       "124               XSplit             XSplit             xsplit.com   \n",
       "125                Yahoo              Yahoo              yahoo.com   \n",
       "126          Yandex Dump             Yandex       forum.btcsec.com   \n",
       "127              YouPorn            YouPorn            youporn.com   \n",
       "128         Спрашивай.ру       SprashivaiRu          sprashivai.ru   \n",
       "\n",
       "    Year of Breach      Date Made Public  Total Records  \\\n",
       "0       2015-03-01  2015-10-26T23:35:45Z       13545468   \n",
       "1       2016-04-19  2016-07-08T01:55:03Z        4009640   \n",
       "2       2014-11-25  2016-03-06T11:07:41Z         432943   \n",
       "3       2013-10-04  2013-12-04T00:00:00Z      152445165   \n",
       "4       2015-05-21  2015-05-22T06:03:44Z        3867997   \n",
       "..             ...                   ...            ...   \n",
       "124     2013-11-07  2015-08-08T04:28:48Z        2983472   \n",
       "125     2012-07-11  2013-12-04T00:00:00Z         453427   \n",
       "126     2014-09-07  2014-09-12T04:50:32Z        1186564   \n",
       "127     2012-02-21  2015-07-30T05:32:00Z        1327567   \n",
       "128     2015-05-11  2015-05-12T23:50:08Z        3474763   \n",
       "\n",
       "                     Description  \\\n",
       "0    In approximately March 2015   \n",
       "1                  In April 2016   \n",
       "2               In November 2014   \n",
       "3                In October 2013   \n",
       "4                    In May 2015   \n",
       "..                           ...   \n",
       "124             In November 2013   \n",
       "125                 In July 2012   \n",
       "126            In September 2014   \n",
       "127             In February 2012   \n",
       "128                  In May 2015   \n",
       "\n",
       "                                                     0  \\\n",
       "0    the free web hosting provider <a href=\"http://...   \n",
       "1    customer data obtained from the streaming app ...   \n",
       "2    the acne website <a href=\"http://www.acne.org/...   \n",
       "3    153 million Adobe accounts were breached with ...   \n",
       "4    the adult hookup site <a href=\"http://www.bbc....   \n",
       "..                                                 ...   \n",
       "124  the makers of gaming live streaming and record...   \n",
       "125  Yahoo! had their online publishing service &qu...   \n",
       "126  <a href=\"http://habrahabr.ru/post/235949/\" tar...   \n",
       "127  the adult website YouPorn <a href=\"http://www....   \n",
       "128  <a href=\"http://sprashivai.ru/\" target=\"_blank...   \n",
       "\n",
       "                                                     1  \\\n",
       "0            email addresses and plain text passwords.   \n",
       "1    usernames and passwords stored as unsalted MD5...   \n",
       "2                           birth dates and passwords.   \n",
       "3                                             username   \n",
       "4                                       Dates of birth   \n",
       "..                                                 ...   \n",
       "124                                    email addresses   \n",
       "125  a staggering <a href=\"http://www.troyhunt.com/...   \n",
       "126  the Russian search engine giants who also prov...   \n",
       "127                                    Email addresses   \n",
       "128           the leaked data included email addresses   \n",
       "\n",
       "                                                     2  \\\n",
       "0                                      Email addresses   \n",
       "1                                   Device information   \n",
       "2                                       Dates of birth   \n",
       "3                                                email   \n",
       "4                                      Email addresses   \n",
       "..                                                 ...   \n",
       "124                    usernames and hashed passwords.   \n",
       "125                                    Email addresses   \n",
       "126                                    Email addresses   \n",
       "127                                          Passwords   \n",
       "128  birth dates and other personally identifiable ...   \n",
       "\n",
       "                                                     3  \\\n",
       "0                                         IP addresses   \n",
       "1                                      Email addresses   \n",
       "2                                      Email addresses   \n",
       "3    <em>encrypted</em> password and a password hin...   \n",
       "4                                              Genders   \n",
       "..                                                 ...   \n",
       "124                                    Email addresses   \n",
       "125                                          Passwords   \n",
       "126                                          Passwords   \n",
       "127                                                NaN   \n",
       "128                                     Dates of birth   \n",
       "\n",
       "    Description of Incident     Unnamed: 12           Unnamed: 13 Unnamed: 14  \\\n",
       "0                     Names       Passwords                   NaN         NaN   \n",
       "1              IP addresses       Passwords                   NaN         NaN   \n",
       "2              IP addresses       Passwords                   NaN         NaN   \n",
       "3           Email addresses  Password hints             Passwords   Usernames   \n",
       "4      Geographic locations             NaN                   NaN         NaN   \n",
       "..                      ...             ...                   ...         ...   \n",
       "124                   Names       Passwords             Usernames         NaN   \n",
       "125                     NaN             NaN                   NaN         NaN   \n",
       "126                     NaN             NaN                   NaN         NaN   \n",
       "127                     NaN             NaN                   NaN         NaN   \n",
       "128         Email addresses         Genders  Geographic locations         NaN   \n",
       "\n",
       "    Unnamed: 15  \n",
       "0           NaN  \n",
       "1           NaN  \n",
       "2           NaN  \n",
       "3           NaN  \n",
       "4           NaN  \n",
       "..          ...  \n",
       "124         NaN  \n",
       "125         NaN  \n",
       "126         NaN  \n",
       "127         NaN  \n",
       "128         NaN  \n",
       "\n",
       "[129 rows x 16 columns]"
      ]
     },
     "execution_count": 68,
     "metadata": {},
     "output_type": "execute_result"
    }
   ],
   "source": [
    "# Rename Columns\n",
    "\n",
    "\n",
    "data_breaches.rename(columns = {'Name':'Company Name', 'BreachDate':'Year of Breach', 'AddedDate':'Date Made Public','Unnamed: 11': 'Description of Incident', 'PwnCount': 'Total Records'}, inplace = True)\n",
    "\n",
    "data_breaches"
   ]
  },
  {
   "cell_type": "code",
   "execution_count": 69,
   "metadata": {},
   "outputs": [
    {
     "data": {
      "text/html": [
       "<div>\n",
       "<style scoped>\n",
       "    .dataframe tbody tr th:only-of-type {\n",
       "        vertical-align: middle;\n",
       "    }\n",
       "\n",
       "    .dataframe tbody tr th {\n",
       "        vertical-align: top;\n",
       "    }\n",
       "\n",
       "    .dataframe thead th {\n",
       "        text-align: right;\n",
       "    }\n",
       "</style>\n",
       "<table border=\"1\" class=\"dataframe\">\n",
       "  <thead>\n",
       "    <tr style=\"text-align: right;\">\n",
       "      <th></th>\n",
       "      <th>Title</th>\n",
       "      <th>Company Name</th>\n",
       "      <th>Domain</th>\n",
       "      <th>Year of Breach</th>\n",
       "      <th>Date Made Public</th>\n",
       "      <th>Total Records</th>\n",
       "      <th>Description</th>\n",
       "      <th>0</th>\n",
       "      <th>1</th>\n",
       "      <th>2</th>\n",
       "      <th>3</th>\n",
       "      <th>Description of Incident</th>\n",
       "      <th>Unnamed: 12</th>\n",
       "      <th>Unnamed: 13</th>\n",
       "      <th>Unnamed: 14</th>\n",
       "      <th>Unnamed: 15</th>\n",
       "      <th>Data Loss</th>\n",
       "    </tr>\n",
       "  </thead>\n",
       "  <tbody>\n",
       "    <tr>\n",
       "      <th>0</th>\n",
       "      <td>000webhost</td>\n",
       "      <td>000webhost</td>\n",
       "      <td>000webhost.com</td>\n",
       "      <td>2015-03-01</td>\n",
       "      <td>2015-10-26T23:35:45Z</td>\n",
       "      <td>13545468</td>\n",
       "      <td>In approximately March 2015</td>\n",
       "      <td>the free web hosting provider &lt;a href=\"http://...</td>\n",
       "      <td>email addresses and plain text passwords.</td>\n",
       "      <td>Email addresses</td>\n",
       "      <td>IP addresses</td>\n",
       "      <td>Names</td>\n",
       "      <td>Passwords</td>\n",
       "      <td>NaN</td>\n",
       "      <td>NaN</td>\n",
       "      <td>NaN</td>\n",
       "      <td>NaN</td>\n",
       "    </tr>\n",
       "    <tr>\n",
       "      <th>1</th>\n",
       "      <td>17</td>\n",
       "      <td>17Media</td>\n",
       "      <td>17app.co</td>\n",
       "      <td>2016-04-19</td>\n",
       "      <td>2016-07-08T01:55:03Z</td>\n",
       "      <td>4009640</td>\n",
       "      <td>In April 2016</td>\n",
       "      <td>customer data obtained from the streaming app ...</td>\n",
       "      <td>usernames and passwords stored as unsalted MD5...</td>\n",
       "      <td>Device information</td>\n",
       "      <td>Email addresses</td>\n",
       "      <td>IP addresses</td>\n",
       "      <td>Passwords</td>\n",
       "      <td>NaN</td>\n",
       "      <td>NaN</td>\n",
       "      <td>NaN</td>\n",
       "      <td>NaN</td>\n",
       "    </tr>\n",
       "    <tr>\n",
       "      <th>2</th>\n",
       "      <td>Acne.org</td>\n",
       "      <td>AcneOrg</td>\n",
       "      <td>acne.org</td>\n",
       "      <td>2014-11-25</td>\n",
       "      <td>2016-03-06T11:07:41Z</td>\n",
       "      <td>432943</td>\n",
       "      <td>In November 2014</td>\n",
       "      <td>the acne website &lt;a href=\"http://www.acne.org/...</td>\n",
       "      <td>birth dates and passwords.</td>\n",
       "      <td>Dates of birth</td>\n",
       "      <td>Email addresses</td>\n",
       "      <td>IP addresses</td>\n",
       "      <td>Passwords</td>\n",
       "      <td>NaN</td>\n",
       "      <td>NaN</td>\n",
       "      <td>NaN</td>\n",
       "      <td>NaN</td>\n",
       "    </tr>\n",
       "    <tr>\n",
       "      <th>3</th>\n",
       "      <td>Adobe</td>\n",
       "      <td>Adobe</td>\n",
       "      <td>adobe.com</td>\n",
       "      <td>2013-10-04</td>\n",
       "      <td>2013-12-04T00:00:00Z</td>\n",
       "      <td>152445165</td>\n",
       "      <td>In October 2013</td>\n",
       "      <td>153 million Adobe accounts were breached with ...</td>\n",
       "      <td>username</td>\n",
       "      <td>email</td>\n",
       "      <td>&lt;em&gt;encrypted&lt;/em&gt; password and a password hin...</td>\n",
       "      <td>Email addresses</td>\n",
       "      <td>Password hints</td>\n",
       "      <td>Passwords</td>\n",
       "      <td>Usernames</td>\n",
       "      <td>NaN</td>\n",
       "      <td>NaN</td>\n",
       "    </tr>\n",
       "    <tr>\n",
       "      <th>4</th>\n",
       "      <td>Adult Friend Finder</td>\n",
       "      <td>AdultFriendFinder</td>\n",
       "      <td>adultfriendfinder.com</td>\n",
       "      <td>2015-05-21</td>\n",
       "      <td>2015-05-22T06:03:44Z</td>\n",
       "      <td>3867997</td>\n",
       "      <td>In May 2015</td>\n",
       "      <td>the adult hookup site &lt;a href=\"http://www.bbc....</td>\n",
       "      <td>Dates of birth</td>\n",
       "      <td>Email addresses</td>\n",
       "      <td>Genders</td>\n",
       "      <td>Geographic locations</td>\n",
       "      <td>NaN</td>\n",
       "      <td>NaN</td>\n",
       "      <td>NaN</td>\n",
       "      <td>NaN</td>\n",
       "      <td>NaN</td>\n",
       "    </tr>\n",
       "    <tr>\n",
       "      <th>...</th>\n",
       "      <td>...</td>\n",
       "      <td>...</td>\n",
       "      <td>...</td>\n",
       "      <td>...</td>\n",
       "      <td>...</td>\n",
       "      <td>...</td>\n",
       "      <td>...</td>\n",
       "      <td>...</td>\n",
       "      <td>...</td>\n",
       "      <td>...</td>\n",
       "      <td>...</td>\n",
       "      <td>...</td>\n",
       "      <td>...</td>\n",
       "      <td>...</td>\n",
       "      <td>...</td>\n",
       "      <td>...</td>\n",
       "      <td>...</td>\n",
       "    </tr>\n",
       "    <tr>\n",
       "      <th>124</th>\n",
       "      <td>XSplit</td>\n",
       "      <td>XSplit</td>\n",
       "      <td>xsplit.com</td>\n",
       "      <td>2013-11-07</td>\n",
       "      <td>2015-08-08T04:28:48Z</td>\n",
       "      <td>2983472</td>\n",
       "      <td>In November 2013</td>\n",
       "      <td>the makers of gaming live streaming and record...</td>\n",
       "      <td>email addresses</td>\n",
       "      <td>usernames and hashed passwords.</td>\n",
       "      <td>Email addresses</td>\n",
       "      <td>Names</td>\n",
       "      <td>Passwords</td>\n",
       "      <td>Usernames</td>\n",
       "      <td>NaN</td>\n",
       "      <td>NaN</td>\n",
       "      <td>NaN</td>\n",
       "    </tr>\n",
       "    <tr>\n",
       "      <th>125</th>\n",
       "      <td>Yahoo</td>\n",
       "      <td>Yahoo</td>\n",
       "      <td>yahoo.com</td>\n",
       "      <td>2012-07-11</td>\n",
       "      <td>2013-12-04T00:00:00Z</td>\n",
       "      <td>453427</td>\n",
       "      <td>In July 2012</td>\n",
       "      <td>Yahoo! had their online publishing service &amp;qu...</td>\n",
       "      <td>a staggering &lt;a href=\"http://www.troyhunt.com/...</td>\n",
       "      <td>Email addresses</td>\n",
       "      <td>Passwords</td>\n",
       "      <td>NaN</td>\n",
       "      <td>NaN</td>\n",
       "      <td>NaN</td>\n",
       "      <td>NaN</td>\n",
       "      <td>NaN</td>\n",
       "      <td>NaN</td>\n",
       "    </tr>\n",
       "    <tr>\n",
       "      <th>126</th>\n",
       "      <td>Yandex Dump</td>\n",
       "      <td>Yandex</td>\n",
       "      <td>forum.btcsec.com</td>\n",
       "      <td>2014-09-07</td>\n",
       "      <td>2014-09-12T04:50:32Z</td>\n",
       "      <td>1186564</td>\n",
       "      <td>In September 2014</td>\n",
       "      <td>&lt;a href=\"http://habrahabr.ru/post/235949/\" tar...</td>\n",
       "      <td>the Russian search engine giants who also prov...</td>\n",
       "      <td>Email addresses</td>\n",
       "      <td>Passwords</td>\n",
       "      <td>NaN</td>\n",
       "      <td>NaN</td>\n",
       "      <td>NaN</td>\n",
       "      <td>NaN</td>\n",
       "      <td>NaN</td>\n",
       "      <td>NaN</td>\n",
       "    </tr>\n",
       "    <tr>\n",
       "      <th>127</th>\n",
       "      <td>YouPorn</td>\n",
       "      <td>YouPorn</td>\n",
       "      <td>youporn.com</td>\n",
       "      <td>2012-02-21</td>\n",
       "      <td>2015-07-30T05:32:00Z</td>\n",
       "      <td>1327567</td>\n",
       "      <td>In February 2012</td>\n",
       "      <td>the adult website YouPorn &lt;a href=\"http://www....</td>\n",
       "      <td>Email addresses</td>\n",
       "      <td>Passwords</td>\n",
       "      <td>NaN</td>\n",
       "      <td>NaN</td>\n",
       "      <td>NaN</td>\n",
       "      <td>NaN</td>\n",
       "      <td>NaN</td>\n",
       "      <td>NaN</td>\n",
       "      <td>NaN</td>\n",
       "    </tr>\n",
       "    <tr>\n",
       "      <th>128</th>\n",
       "      <td>Спрашивай.ру</td>\n",
       "      <td>SprashivaiRu</td>\n",
       "      <td>sprashivai.ru</td>\n",
       "      <td>2015-05-11</td>\n",
       "      <td>2015-05-12T23:50:08Z</td>\n",
       "      <td>3474763</td>\n",
       "      <td>In May 2015</td>\n",
       "      <td>&lt;a href=\"http://sprashivai.ru/\" target=\"_blank...</td>\n",
       "      <td>the leaked data included email addresses</td>\n",
       "      <td>birth dates and other personally identifiable ...</td>\n",
       "      <td>Dates of birth</td>\n",
       "      <td>Email addresses</td>\n",
       "      <td>Genders</td>\n",
       "      <td>Geographic locations</td>\n",
       "      <td>NaN</td>\n",
       "      <td>NaN</td>\n",
       "      <td>NaN</td>\n",
       "    </tr>\n",
       "  </tbody>\n",
       "</table>\n",
       "<p>129 rows × 17 columns</p>\n",
       "</div>"
      ],
      "text/plain": [
       "                   Title       Company Name                 Domain  \\\n",
       "0             000webhost         000webhost         000webhost.com   \n",
       "1                     17            17Media               17app.co   \n",
       "2               Acne.org            AcneOrg               acne.org   \n",
       "3                  Adobe              Adobe              adobe.com   \n",
       "4    Adult Friend Finder  AdultFriendFinder  adultfriendfinder.com   \n",
       "..                   ...                ...                    ...   \n",
       "124               XSplit             XSplit             xsplit.com   \n",
       "125                Yahoo              Yahoo              yahoo.com   \n",
       "126          Yandex Dump             Yandex       forum.btcsec.com   \n",
       "127              YouPorn            YouPorn            youporn.com   \n",
       "128         Спрашивай.ру       SprashivaiRu          sprashivai.ru   \n",
       "\n",
       "    Year of Breach      Date Made Public  Total Records  \\\n",
       "0       2015-03-01  2015-10-26T23:35:45Z       13545468   \n",
       "1       2016-04-19  2016-07-08T01:55:03Z        4009640   \n",
       "2       2014-11-25  2016-03-06T11:07:41Z         432943   \n",
       "3       2013-10-04  2013-12-04T00:00:00Z      152445165   \n",
       "4       2015-05-21  2015-05-22T06:03:44Z        3867997   \n",
       "..             ...                   ...            ...   \n",
       "124     2013-11-07  2015-08-08T04:28:48Z        2983472   \n",
       "125     2012-07-11  2013-12-04T00:00:00Z         453427   \n",
       "126     2014-09-07  2014-09-12T04:50:32Z        1186564   \n",
       "127     2012-02-21  2015-07-30T05:32:00Z        1327567   \n",
       "128     2015-05-11  2015-05-12T23:50:08Z        3474763   \n",
       "\n",
       "                     Description  \\\n",
       "0    In approximately March 2015   \n",
       "1                  In April 2016   \n",
       "2               In November 2014   \n",
       "3                In October 2013   \n",
       "4                    In May 2015   \n",
       "..                           ...   \n",
       "124             In November 2013   \n",
       "125                 In July 2012   \n",
       "126            In September 2014   \n",
       "127             In February 2012   \n",
       "128                  In May 2015   \n",
       "\n",
       "                                                     0  \\\n",
       "0    the free web hosting provider <a href=\"http://...   \n",
       "1    customer data obtained from the streaming app ...   \n",
       "2    the acne website <a href=\"http://www.acne.org/...   \n",
       "3    153 million Adobe accounts were breached with ...   \n",
       "4    the adult hookup site <a href=\"http://www.bbc....   \n",
       "..                                                 ...   \n",
       "124  the makers of gaming live streaming and record...   \n",
       "125  Yahoo! had their online publishing service &qu...   \n",
       "126  <a href=\"http://habrahabr.ru/post/235949/\" tar...   \n",
       "127  the adult website YouPorn <a href=\"http://www....   \n",
       "128  <a href=\"http://sprashivai.ru/\" target=\"_blank...   \n",
       "\n",
       "                                                     1  \\\n",
       "0            email addresses and plain text passwords.   \n",
       "1    usernames and passwords stored as unsalted MD5...   \n",
       "2                           birth dates and passwords.   \n",
       "3                                             username   \n",
       "4                                       Dates of birth   \n",
       "..                                                 ...   \n",
       "124                                    email addresses   \n",
       "125  a staggering <a href=\"http://www.troyhunt.com/...   \n",
       "126  the Russian search engine giants who also prov...   \n",
       "127                                    Email addresses   \n",
       "128           the leaked data included email addresses   \n",
       "\n",
       "                                                     2  \\\n",
       "0                                      Email addresses   \n",
       "1                                   Device information   \n",
       "2                                       Dates of birth   \n",
       "3                                                email   \n",
       "4                                      Email addresses   \n",
       "..                                                 ...   \n",
       "124                    usernames and hashed passwords.   \n",
       "125                                    Email addresses   \n",
       "126                                    Email addresses   \n",
       "127                                          Passwords   \n",
       "128  birth dates and other personally identifiable ...   \n",
       "\n",
       "                                                     3  \\\n",
       "0                                         IP addresses   \n",
       "1                                      Email addresses   \n",
       "2                                      Email addresses   \n",
       "3    <em>encrypted</em> password and a password hin...   \n",
       "4                                              Genders   \n",
       "..                                                 ...   \n",
       "124                                    Email addresses   \n",
       "125                                          Passwords   \n",
       "126                                          Passwords   \n",
       "127                                                NaN   \n",
       "128                                     Dates of birth   \n",
       "\n",
       "    Description of Incident     Unnamed: 12           Unnamed: 13 Unnamed: 14  \\\n",
       "0                     Names       Passwords                   NaN         NaN   \n",
       "1              IP addresses       Passwords                   NaN         NaN   \n",
       "2              IP addresses       Passwords                   NaN         NaN   \n",
       "3           Email addresses  Password hints             Passwords   Usernames   \n",
       "4      Geographic locations             NaN                   NaN         NaN   \n",
       "..                      ...             ...                   ...         ...   \n",
       "124                   Names       Passwords             Usernames         NaN   \n",
       "125                     NaN             NaN                   NaN         NaN   \n",
       "126                     NaN             NaN                   NaN         NaN   \n",
       "127                     NaN             NaN                   NaN         NaN   \n",
       "128         Email addresses         Genders  Geographic locations         NaN   \n",
       "\n",
       "    Unnamed: 15 Data Loss  \n",
       "0           NaN       NaN  \n",
       "1           NaN       NaN  \n",
       "2           NaN       NaN  \n",
       "3           NaN       NaN  \n",
       "4           NaN       NaN  \n",
       "..          ...       ...  \n",
       "124         NaN       NaN  \n",
       "125         NaN       NaN  \n",
       "126         NaN       NaN  \n",
       "127         NaN       NaN  \n",
       "128         NaN       NaN  \n",
       "\n",
       "[129 rows x 17 columns]"
      ]
     },
     "execution_count": 69,
     "metadata": {},
     "output_type": "execute_result"
    }
   ],
   "source": [
    "# Join Columns\n",
    "\n",
    "data_breaches['Data Loss'] = data_breaches['Unnamed: 12'] + data_breaches['Unnamed: 13'] + data_breaches['Unnamed: 14'] + data_breaches['Unnamed: 15']\n",
    "data_breaches"
   ]
  },
  {
   "cell_type": "code",
   "execution_count": 70,
   "metadata": {},
   "outputs": [],
   "source": [
    "# Assign Dataframe\n",
    "\n",
    "Dom_Cleaned_data = data_breaches[['Company Name', 'Year of Breach', 'Date Made Public', 'Data Loss', 'Total Records']]\n",
    "\n",
    "\n"
   ]
  },
  {
   "cell_type": "code",
   "execution_count": 71,
   "metadata": {},
   "outputs": [],
   "source": [
    "# Save CSV File\n",
    "\n",
    "Dom_Cleaned_data.to_csv(\"../data/clean data/Dom_Cleaned_data.csv\")\n",
    "\n"
   ]
  },
  {
   "cell_type": "code",
   "execution_count": 72,
   "metadata": {},
   "outputs": [
    {
     "data": {
      "text/html": [
       "<div>\n",
       "<style scoped>\n",
       "    .dataframe tbody tr th:only-of-type {\n",
       "        vertical-align: middle;\n",
       "    }\n",
       "\n",
       "    .dataframe tbody tr th {\n",
       "        vertical-align: top;\n",
       "    }\n",
       "\n",
       "    .dataframe thead th {\n",
       "        text-align: right;\n",
       "    }\n",
       "</style>\n",
       "<table border=\"1\" class=\"dataframe\">\n",
       "  <thead>\n",
       "    <tr style=\"text-align: right;\">\n",
       "      <th></th>\n",
       "      <th>Year of Breach</th>\n",
       "      <th>Company Name</th>\n",
       "      <th>Total Records</th>\n",
       "    </tr>\n",
       "  </thead>\n",
       "  <tbody>\n",
       "    <tr>\n",
       "      <th>0</th>\n",
       "      <td>2015-03-01</td>\n",
       "      <td>000webhost</td>\n",
       "      <td>13545468</td>\n",
       "    </tr>\n",
       "    <tr>\n",
       "      <th>1</th>\n",
       "      <td>2016-04-19</td>\n",
       "      <td>17Media</td>\n",
       "      <td>4009640</td>\n",
       "    </tr>\n",
       "    <tr>\n",
       "      <th>2</th>\n",
       "      <td>2014-11-25</td>\n",
       "      <td>AcneOrg</td>\n",
       "      <td>432943</td>\n",
       "    </tr>\n",
       "    <tr>\n",
       "      <th>3</th>\n",
       "      <td>2013-10-04</td>\n",
       "      <td>Adobe</td>\n",
       "      <td>152445165</td>\n",
       "    </tr>\n",
       "    <tr>\n",
       "      <th>4</th>\n",
       "      <td>2015-05-21</td>\n",
       "      <td>AdultFriendFinder</td>\n",
       "      <td>3867997</td>\n",
       "    </tr>\n",
       "    <tr>\n",
       "      <th>...</th>\n",
       "      <td>...</td>\n",
       "      <td>...</td>\n",
       "      <td>...</td>\n",
       "    </tr>\n",
       "    <tr>\n",
       "      <th>124</th>\n",
       "      <td>2013-11-07</td>\n",
       "      <td>XSplit</td>\n",
       "      <td>2983472</td>\n",
       "    </tr>\n",
       "    <tr>\n",
       "      <th>125</th>\n",
       "      <td>2012-07-11</td>\n",
       "      <td>Yahoo</td>\n",
       "      <td>453427</td>\n",
       "    </tr>\n",
       "    <tr>\n",
       "      <th>126</th>\n",
       "      <td>2014-09-07</td>\n",
       "      <td>Yandex</td>\n",
       "      <td>1186564</td>\n",
       "    </tr>\n",
       "    <tr>\n",
       "      <th>127</th>\n",
       "      <td>2012-02-21</td>\n",
       "      <td>YouPorn</td>\n",
       "      <td>1327567</td>\n",
       "    </tr>\n",
       "    <tr>\n",
       "      <th>128</th>\n",
       "      <td>2015-05-11</td>\n",
       "      <td>SprashivaiRu</td>\n",
       "      <td>3474763</td>\n",
       "    </tr>\n",
       "  </tbody>\n",
       "</table>\n",
       "<p>129 rows × 3 columns</p>\n",
       "</div>"
      ],
      "text/plain": [
       "    Year of Breach       Company Name  Total Records\n",
       "0       2015-03-01         000webhost       13545468\n",
       "1       2016-04-19            17Media        4009640\n",
       "2       2014-11-25            AcneOrg         432943\n",
       "3       2013-10-04              Adobe      152445165\n",
       "4       2015-05-21  AdultFriendFinder        3867997\n",
       "..             ...                ...            ...\n",
       "124     2013-11-07             XSplit        2983472\n",
       "125     2012-07-11              Yahoo         453427\n",
       "126     2014-09-07             Yandex        1186564\n",
       "127     2012-02-21            YouPorn        1327567\n",
       "128     2015-05-11       SprashivaiRu        3474763\n",
       "\n",
       "[129 rows x 3 columns]"
      ]
     },
     "execution_count": 72,
     "metadata": {},
     "output_type": "execute_result"
    }
   ],
   "source": [
    "# Import Domenic Data\n",
    "\n",
    "csvpath = Path(\"../data/clean data/Dom_Cleaned_Data.csv\")\n",
    "dom_data = pd.read_csv(csvpath)\n",
    "\n",
    "\n",
    "# Format Data\n",
    "\n",
    "dom_data = dom_data[['Year of Breach',\t'Company Name',\t'Total Records']]\n",
    "\n",
    "dom_data \n"
   ]
  },
  {
   "cell_type": "code",
   "execution_count": 73,
   "metadata": {},
   "outputs": [
    {
     "data": {
      "text/plain": [
       "Year of Breach    0\n",
       "Company Name      0\n",
       "Total Records     0\n",
       "dtype: int64"
      ]
     },
     "execution_count": 73,
     "metadata": {},
     "output_type": "execute_result"
    }
   ],
   "source": [
    "# Count Nulls\n",
    "\n",
    "dom_data.isnull().sum()"
   ]
  },
  {
   "cell_type": "code",
   "execution_count": 74,
   "metadata": {},
   "outputs": [
    {
     "data": {
      "text/html": [
       "<div>\n",
       "<style scoped>\n",
       "    .dataframe tbody tr th:only-of-type {\n",
       "        vertical-align: middle;\n",
       "    }\n",
       "\n",
       "    .dataframe tbody tr th {\n",
       "        vertical-align: top;\n",
       "    }\n",
       "\n",
       "    .dataframe thead th {\n",
       "        text-align: right;\n",
       "    }\n",
       "</style>\n",
       "<table border=\"1\" class=\"dataframe\">\n",
       "  <thead>\n",
       "    <tr style=\"text-align: right;\">\n",
       "      <th></th>\n",
       "      <th>Year of Breach</th>\n",
       "      <th>Company Name</th>\n",
       "      <th>Total Records</th>\n",
       "    </tr>\n",
       "  </thead>\n",
       "  <tbody>\n",
       "    <tr>\n",
       "      <th>0</th>\n",
       "      <td>2008</td>\n",
       "      <td>GS Caltex</td>\n",
       "      <td>11100000</td>\n",
       "    </tr>\n",
       "    <tr>\n",
       "      <th>1</th>\n",
       "      <td>2008</td>\n",
       "      <td>Stanford University</td>\n",
       "      <td>72000</td>\n",
       "    </tr>\n",
       "    <tr>\n",
       "      <th>2</th>\n",
       "      <td>2008</td>\n",
       "      <td>UK Home Office</td>\n",
       "      <td>84000</td>\n",
       "    </tr>\n",
       "    <tr>\n",
       "      <th>3</th>\n",
       "      <td>2008</td>\n",
       "      <td>UK Ministry of Defence</td>\n",
       "      <td>1700000</td>\n",
       "    </tr>\n",
       "    <tr>\n",
       "      <th>4</th>\n",
       "      <td>2008</td>\n",
       "      <td>University of Miami</td>\n",
       "      <td>2100000</td>\n",
       "    </tr>\n",
       "    <tr>\n",
       "      <th>...</th>\n",
       "      <td>...</td>\n",
       "      <td>...</td>\n",
       "      <td>...</td>\n",
       "    </tr>\n",
       "    <tr>\n",
       "      <th>205</th>\n",
       "      <td>2018</td>\n",
       "      <td>United States Postal Service</td>\n",
       "      <td>60000000</td>\n",
       "    </tr>\n",
       "    <tr>\n",
       "      <th>206</th>\n",
       "      <td>2018</td>\n",
       "      <td>HauteLook</td>\n",
       "      <td>28517244</td>\n",
       "    </tr>\n",
       "    <tr>\n",
       "      <th>207</th>\n",
       "      <td>2018</td>\n",
       "      <td>Under Armour</td>\n",
       "      <td>150000000</td>\n",
       "    </tr>\n",
       "    <tr>\n",
       "      <th>208</th>\n",
       "      <td>2018</td>\n",
       "      <td>MyHeritage</td>\n",
       "      <td>92283889</td>\n",
       "    </tr>\n",
       "    <tr>\n",
       "      <th>209</th>\n",
       "      <td>2018</td>\n",
       "      <td>Exactis</td>\n",
       "      <td>340000000</td>\n",
       "    </tr>\n",
       "  </tbody>\n",
       "</table>\n",
       "<p>210 rows × 3 columns</p>\n",
       "</div>"
      ],
      "text/plain": [
       "    Year of Breach                  Company Name  Total Records\n",
       "0             2008                     GS Caltex       11100000\n",
       "1             2008           Stanford University          72000\n",
       "2             2008                UK Home Office          84000\n",
       "3             2008        UK Ministry of Defence        1700000\n",
       "4             2008           University of Miami        2100000\n",
       "..             ...                           ...            ...\n",
       "205           2018  United States Postal Service       60000000\n",
       "206           2018                     HauteLook       28517244\n",
       "207           2018                  Under Armour      150000000\n",
       "208           2018                    MyHeritage       92283889\n",
       "209           2018                       Exactis      340000000\n",
       "\n",
       "[210 rows x 3 columns]"
      ]
     },
     "execution_count": 74,
     "metadata": {},
     "output_type": "execute_result"
    }
   ],
   "source": [
    "# Import Liam Data\n",
    "\n",
    "csvpath = Path(\"../data/clean data/Clean_DataBreaches(2008-2018).csv\")\n",
    "liam_data = pd.read_csv(csvpath)\n",
    "\n",
    "\n",
    "# Format Data\n",
    "\n",
    "liam_data = liam_data[['Year of Breach','Company Name','Total Records']]\n",
    "\n",
    "liam_data"
   ]
  },
  {
   "cell_type": "code",
   "execution_count": 75,
   "metadata": {},
   "outputs": [
    {
     "data": {
      "text/html": [
       "<div>\n",
       "<style scoped>\n",
       "    .dataframe tbody tr th:only-of-type {\n",
       "        vertical-align: middle;\n",
       "    }\n",
       "\n",
       "    .dataframe tbody tr th {\n",
       "        vertical-align: top;\n",
       "    }\n",
       "\n",
       "    .dataframe thead th {\n",
       "        text-align: right;\n",
       "    }\n",
       "</style>\n",
       "<table border=\"1\" class=\"dataframe\">\n",
       "  <thead>\n",
       "    <tr style=\"text-align: right;\">\n",
       "      <th></th>\n",
       "      <th>Year of Breach</th>\n",
       "      <th>Company Name</th>\n",
       "      <th>Total Records</th>\n",
       "    </tr>\n",
       "  </thead>\n",
       "  <tbody>\n",
       "    <tr>\n",
       "      <th>0</th>\n",
       "      <td>2017</td>\n",
       "      <td>Gourmesso</td>\n",
       "      <td>1</td>\n",
       "    </tr>\n",
       "    <tr>\n",
       "      <th>1</th>\n",
       "      <td>2017</td>\n",
       "      <td>State of Indiana</td>\n",
       "      <td>1</td>\n",
       "    </tr>\n",
       "    <tr>\n",
       "      <th>2</th>\n",
       "      <td>2017</td>\n",
       "      <td>Community Physicians of indiana inc</td>\n",
       "      <td>1</td>\n",
       "    </tr>\n",
       "    <tr>\n",
       "      <th>3</th>\n",
       "      <td>2017</td>\n",
       "      <td>Exam one</td>\n",
       "      <td>1</td>\n",
       "    </tr>\n",
       "    <tr>\n",
       "      <th>4</th>\n",
       "      <td>2018</td>\n",
       "      <td>Employ indy</td>\n",
       "      <td>1</td>\n",
       "    </tr>\n",
       "    <tr>\n",
       "      <th>...</th>\n",
       "      <td>...</td>\n",
       "      <td>...</td>\n",
       "      <td>...</td>\n",
       "    </tr>\n",
       "    <tr>\n",
       "      <th>6817</th>\n",
       "      <td>2016</td>\n",
       "      <td>MySpace</td>\n",
       "      <td>360000000</td>\n",
       "    </tr>\n",
       "    <tr>\n",
       "      <th>6818</th>\n",
       "      <td>2016</td>\n",
       "      <td>FriendFinder</td>\n",
       "      <td>412000000</td>\n",
       "    </tr>\n",
       "    <tr>\n",
       "      <th>6819</th>\n",
       "      <td>2016</td>\n",
       "      <td>Yahoo</td>\n",
       "      <td>500000000</td>\n",
       "    </tr>\n",
       "    <tr>\n",
       "      <th>6820</th>\n",
       "      <td>2017</td>\n",
       "      <td>River City Media</td>\n",
       "      <td>1370000000</td>\n",
       "    </tr>\n",
       "    <tr>\n",
       "      <th>6821</th>\n",
       "      <td>2016</td>\n",
       "      <td>Yahoo</td>\n",
       "      <td>3000000000</td>\n",
       "    </tr>\n",
       "  </tbody>\n",
       "</table>\n",
       "<p>6822 rows × 3 columns</p>\n",
       "</div>"
      ],
      "text/plain": [
       "      Year of Breach                         Company Name  Total Records\n",
       "0               2017                            Gourmesso              1\n",
       "1               2017                     State of Indiana              1\n",
       "2               2017  Community Physicians of indiana inc              1\n",
       "3               2017                             Exam one              1\n",
       "4               2018                          Employ indy              1\n",
       "...              ...                                  ...            ...\n",
       "6817            2016                              MySpace      360000000\n",
       "6818            2016                         FriendFinder      412000000\n",
       "6819            2016                                Yahoo      500000000\n",
       "6820            2017                     River City Media     1370000000\n",
       "6821            2016                                Yahoo     3000000000\n",
       "\n",
       "[6822 rows x 3 columns]"
      ]
     },
     "execution_count": 75,
     "metadata": {},
     "output_type": "execute_result"
    }
   ],
   "source": [
    "# Import Tempest Data\n",
    "\n",
    "csvpath = Path(\"../data/raw data/Udated Tempest Data.csv\")\n",
    "tempest_data = pd.read_csv(csvpath)\n",
    "\n",
    "\n",
    "# Format Data\n",
    "tempest_data.rename(columns = {'Company':'Company Name'}, inplace = True)\n",
    "tempest_data = tempest_data[['Year of Breach','Company Name','Total Records']]\n",
    "\n",
    "\n",
    "tempest_data.dtypes\n",
    "    \n",
    "\n",
    "\n",
    "tempest_data"
   ]
  },
  {
   "cell_type": "code",
   "execution_count": 76,
   "metadata": {},
   "outputs": [],
   "source": [
    "# Parse Date Time Dom Data Year Of Breach\n",
    "\n",
    "year_of_breach = []\n",
    "\n",
    "for data in dom_data['Year of Breach']:\n",
    "    year_of_breach.append(data[:4])\n",
    "dom_data['Year of Breach'] = year_of_breach\n"
   ]
  },
  {
   "cell_type": "code",
   "execution_count": 77,
   "metadata": {},
   "outputs": [
    {
     "data": {
      "text/html": [
       "<div>\n",
       "<style scoped>\n",
       "    .dataframe tbody tr th:only-of-type {\n",
       "        vertical-align: middle;\n",
       "    }\n",
       "\n",
       "    .dataframe tbody tr th {\n",
       "        vertical-align: top;\n",
       "    }\n",
       "\n",
       "    .dataframe thead th {\n",
       "        text-align: right;\n",
       "    }\n",
       "</style>\n",
       "<table border=\"1\" class=\"dataframe\">\n",
       "  <thead>\n",
       "    <tr style=\"text-align: right;\">\n",
       "      <th></th>\n",
       "      <th>Year of Breach</th>\n",
       "      <th>Company Name</th>\n",
       "      <th>Total Records</th>\n",
       "    </tr>\n",
       "  </thead>\n",
       "  <tbody>\n",
       "    <tr>\n",
       "      <th>0</th>\n",
       "      <td>2015</td>\n",
       "      <td>000webhost</td>\n",
       "      <td>13545468</td>\n",
       "    </tr>\n",
       "    <tr>\n",
       "      <th>1</th>\n",
       "      <td>2016</td>\n",
       "      <td>17Media</td>\n",
       "      <td>4009640</td>\n",
       "    </tr>\n",
       "    <tr>\n",
       "      <th>2</th>\n",
       "      <td>2014</td>\n",
       "      <td>AcneOrg</td>\n",
       "      <td>432943</td>\n",
       "    </tr>\n",
       "    <tr>\n",
       "      <th>3</th>\n",
       "      <td>2013</td>\n",
       "      <td>Adobe</td>\n",
       "      <td>152445165</td>\n",
       "    </tr>\n",
       "    <tr>\n",
       "      <th>4</th>\n",
       "      <td>2015</td>\n",
       "      <td>AdultFriendFinder</td>\n",
       "      <td>3867997</td>\n",
       "    </tr>\n",
       "    <tr>\n",
       "      <th>...</th>\n",
       "      <td>...</td>\n",
       "      <td>...</td>\n",
       "      <td>...</td>\n",
       "    </tr>\n",
       "    <tr>\n",
       "      <th>6817</th>\n",
       "      <td>2016</td>\n",
       "      <td>MySpace</td>\n",
       "      <td>360000000</td>\n",
       "    </tr>\n",
       "    <tr>\n",
       "      <th>6818</th>\n",
       "      <td>2016</td>\n",
       "      <td>FriendFinder</td>\n",
       "      <td>412000000</td>\n",
       "    </tr>\n",
       "    <tr>\n",
       "      <th>6819</th>\n",
       "      <td>2016</td>\n",
       "      <td>Yahoo</td>\n",
       "      <td>500000000</td>\n",
       "    </tr>\n",
       "    <tr>\n",
       "      <th>6820</th>\n",
       "      <td>2017</td>\n",
       "      <td>River City Media</td>\n",
       "      <td>1370000000</td>\n",
       "    </tr>\n",
       "    <tr>\n",
       "      <th>6821</th>\n",
       "      <td>2016</td>\n",
       "      <td>Yahoo</td>\n",
       "      <td>3000000000</td>\n",
       "    </tr>\n",
       "  </tbody>\n",
       "</table>\n",
       "<p>7161 rows × 3 columns</p>\n",
       "</div>"
      ],
      "text/plain": [
       "     Year of Breach       Company Name  Total Records\n",
       "0              2015         000webhost       13545468\n",
       "1              2016            17Media        4009640\n",
       "2              2014            AcneOrg         432943\n",
       "3              2013              Adobe      152445165\n",
       "4              2015  AdultFriendFinder        3867997\n",
       "...             ...                ...            ...\n",
       "6817           2016            MySpace      360000000\n",
       "6818           2016       FriendFinder      412000000\n",
       "6819           2016              Yahoo      500000000\n",
       "6820           2017   River City Media     1370000000\n",
       "6821           2016              Yahoo     3000000000\n",
       "\n",
       "[7161 rows x 3 columns]"
      ]
     },
     "execution_count": 77,
     "metadata": {},
     "output_type": "execute_result"
    }
   ],
   "source": [
    "# Combimne CVS Files\n",
    "\n",
    "data_breaches_csv = pd.concat([dom_data, liam_data, tempest_data])\n",
    "\n",
    "data_breaches_csv "
   ]
  },
  {
   "cell_type": "code",
   "execution_count": 78,
   "metadata": {},
   "outputs": [
    {
     "data": {
      "text/html": [
       "<div>\n",
       "<style scoped>\n",
       "    .dataframe tbody tr th:only-of-type {\n",
       "        vertical-align: middle;\n",
       "    }\n",
       "\n",
       "    .dataframe tbody tr th {\n",
       "        vertical-align: top;\n",
       "    }\n",
       "\n",
       "    .dataframe thead th {\n",
       "        text-align: right;\n",
       "    }\n",
       "</style>\n",
       "<table border=\"1\" class=\"dataframe\">\n",
       "  <thead>\n",
       "    <tr style=\"text-align: right;\">\n",
       "      <th></th>\n",
       "      <th>Year of Breach</th>\n",
       "      <th>Total Records</th>\n",
       "    </tr>\n",
       "    <tr>\n",
       "      <th>Company Name</th>\n",
       "      <th></th>\n",
       "      <th></th>\n",
       "    </tr>\n",
       "  </thead>\n",
       "  <tbody>\n",
       "    <tr>\n",
       "      <th>000webhost</th>\n",
       "      <td>2015</td>\n",
       "      <td>13545468</td>\n",
       "    </tr>\n",
       "    <tr>\n",
       "      <th>17Media</th>\n",
       "      <td>2016</td>\n",
       "      <td>4009640</td>\n",
       "    </tr>\n",
       "    <tr>\n",
       "      <th>AcneOrg</th>\n",
       "      <td>2014</td>\n",
       "      <td>432943</td>\n",
       "    </tr>\n",
       "    <tr>\n",
       "      <th>Adobe</th>\n",
       "      <td>2013</td>\n",
       "      <td>152445165</td>\n",
       "    </tr>\n",
       "    <tr>\n",
       "      <th>AdultFriendFinder</th>\n",
       "      <td>2015</td>\n",
       "      <td>3867997</td>\n",
       "    </tr>\n",
       "    <tr>\n",
       "      <th>...</th>\n",
       "      <td>...</td>\n",
       "      <td>...</td>\n",
       "    </tr>\n",
       "    <tr>\n",
       "      <th>MySpace</th>\n",
       "      <td>2016</td>\n",
       "      <td>360000000</td>\n",
       "    </tr>\n",
       "    <tr>\n",
       "      <th>FriendFinder</th>\n",
       "      <td>2016</td>\n",
       "      <td>412000000</td>\n",
       "    </tr>\n",
       "    <tr>\n",
       "      <th>Yahoo</th>\n",
       "      <td>2016</td>\n",
       "      <td>500000000</td>\n",
       "    </tr>\n",
       "    <tr>\n",
       "      <th>River City Media</th>\n",
       "      <td>2017</td>\n",
       "      <td>1370000000</td>\n",
       "    </tr>\n",
       "    <tr>\n",
       "      <th>Yahoo</th>\n",
       "      <td>2016</td>\n",
       "      <td>3000000000</td>\n",
       "    </tr>\n",
       "  </tbody>\n",
       "</table>\n",
       "<p>7161 rows × 2 columns</p>\n",
       "</div>"
      ],
      "text/plain": [
       "                  Year of Breach  Total Records\n",
       "Company Name                                   \n",
       "000webhost                  2015       13545468\n",
       "17Media                     2016        4009640\n",
       "AcneOrg                     2014         432943\n",
       "Adobe                       2013      152445165\n",
       "AdultFriendFinder           2015        3867997\n",
       "...                          ...            ...\n",
       "MySpace                     2016      360000000\n",
       "FriendFinder                2016      412000000\n",
       "Yahoo                       2016      500000000\n",
       "River City Media            2017     1370000000\n",
       "Yahoo                       2016     3000000000\n",
       "\n",
       "[7161 rows x 2 columns]"
      ]
     },
     "execution_count": 78,
     "metadata": {},
     "output_type": "execute_result"
    }
   ],
   "source": [
    "# Set Column Index\n",
    "\n",
    "data_breaches_csv.set_index('Company Name')"
   ]
  },
  {
   "cell_type": "code",
   "execution_count": 79,
   "metadata": {},
   "outputs": [
    {
     "data": {
      "text/html": [
       "<div>\n",
       "<style scoped>\n",
       "    .dataframe tbody tr th:only-of-type {\n",
       "        vertical-align: middle;\n",
       "    }\n",
       "\n",
       "    .dataframe tbody tr th {\n",
       "        vertical-align: top;\n",
       "    }\n",
       "\n",
       "    .dataframe thead th {\n",
       "        text-align: right;\n",
       "    }\n",
       "</style>\n",
       "<table border=\"1\" class=\"dataframe\">\n",
       "  <thead>\n",
       "    <tr style=\"text-align: right;\">\n",
       "      <th></th>\n",
       "      <th>Year of Breach</th>\n",
       "      <th>Company Name</th>\n",
       "      <th>Total Records</th>\n",
       "    </tr>\n",
       "  </thead>\n",
       "  <tbody>\n",
       "    <tr>\n",
       "      <th>36</th>\n",
       "      <td>2010</td>\n",
       "      <td>Gawker</td>\n",
       "      <td>1500000</td>\n",
       "    </tr>\n",
       "    <tr>\n",
       "      <th>79</th>\n",
       "      <td>2011</td>\n",
       "      <td>Stratfor</td>\n",
       "      <td>935000</td>\n",
       "    </tr>\n",
       "    <tr>\n",
       "      <th>97</th>\n",
       "      <td>2012</td>\n",
       "      <td>Dropbox</td>\n",
       "      <td>68648009</td>\n",
       "    </tr>\n",
       "    <tr>\n",
       "      <th>98</th>\n",
       "      <td>2012</td>\n",
       "      <td>Gamigo</td>\n",
       "      <td>8000000</td>\n",
       "    </tr>\n",
       "    <tr>\n",
       "      <th>116</th>\n",
       "      <td>2013</td>\n",
       "      <td>Vodafone</td>\n",
       "      <td>2000000</td>\n",
       "    </tr>\n",
       "    <tr>\n",
       "      <th>...</th>\n",
       "      <td>...</td>\n",
       "      <td>...</td>\n",
       "      <td>...</td>\n",
       "    </tr>\n",
       "    <tr>\n",
       "      <th>6723</th>\n",
       "      <td>2015</td>\n",
       "      <td>Medical Informatics Engineering</td>\n",
       "      <td>3900000</td>\n",
       "    </tr>\n",
       "    <tr>\n",
       "      <th>6731</th>\n",
       "      <td>2015</td>\n",
       "      <td>UCLA Health System</td>\n",
       "      <td>4500000</td>\n",
       "    </tr>\n",
       "    <tr>\n",
       "      <th>6732</th>\n",
       "      <td>2015</td>\n",
       "      <td>University of California, Los Angeles Health</td>\n",
       "      <td>4500000</td>\n",
       "    </tr>\n",
       "    <tr>\n",
       "      <th>6762</th>\n",
       "      <td>2015</td>\n",
       "      <td>Premera Blue Cross</td>\n",
       "      <td>11000000</td>\n",
       "    </tr>\n",
       "    <tr>\n",
       "      <th>6821</th>\n",
       "      <td>2016</td>\n",
       "      <td>Yahoo</td>\n",
       "      <td>3000000000</td>\n",
       "    </tr>\n",
       "  </tbody>\n",
       "</table>\n",
       "<p>606 rows × 3 columns</p>\n",
       "</div>"
      ],
      "text/plain": [
       "     Year of Breach                                  Company Name  \\\n",
       "36             2010                                        Gawker   \n",
       "79             2011                                      Stratfor   \n",
       "97             2012                                       Dropbox   \n",
       "98             2012                                        Gamigo   \n",
       "116            2013                                      Vodafone   \n",
       "...             ...                                           ...   \n",
       "6723           2015               Medical Informatics Engineering   \n",
       "6731           2015                            UCLA Health System   \n",
       "6732           2015  University of California, Los Angeles Health   \n",
       "6762           2015                            Premera Blue Cross   \n",
       "6821           2016                                         Yahoo   \n",
       "\n",
       "      Total Records  \n",
       "36          1500000  \n",
       "79           935000  \n",
       "97         68648009  \n",
       "98          8000000  \n",
       "116         2000000  \n",
       "...             ...  \n",
       "6723        3900000  \n",
       "6731        4500000  \n",
       "6732        4500000  \n",
       "6762       11000000  \n",
       "6821     3000000000  \n",
       "\n",
       "[606 rows x 3 columns]"
      ]
     },
     "execution_count": 79,
     "metadata": {},
     "output_type": "execute_result"
    }
   ],
   "source": [
    "# View Duplicates/ Save as variable\n",
    "\n",
    "dups = data_breaches_csv[data_breaches_csv.duplicated([\"Company Name\", 'Year of Breach'])]\n",
    "\n",
    "dups"
   ]
  },
  {
   "cell_type": "code",
   "execution_count": 80,
   "metadata": {},
   "outputs": [
    {
     "data": {
      "text/html": [
       "<div>\n",
       "<style scoped>\n",
       "    .dataframe tbody tr th:only-of-type {\n",
       "        vertical-align: middle;\n",
       "    }\n",
       "\n",
       "    .dataframe tbody tr th {\n",
       "        vertical-align: top;\n",
       "    }\n",
       "\n",
       "    .dataframe thead th {\n",
       "        text-align: right;\n",
       "    }\n",
       "</style>\n",
       "<table border=\"1\" class=\"dataframe\">\n",
       "  <thead>\n",
       "    <tr style=\"text-align: right;\">\n",
       "      <th></th>\n",
       "      <th>Year of Breach</th>\n",
       "      <th>Company Name</th>\n",
       "      <th>Total Records</th>\n",
       "    </tr>\n",
       "  </thead>\n",
       "  <tbody>\n",
       "    <tr>\n",
       "      <th>0</th>\n",
       "      <td>2015</td>\n",
       "      <td>000webhost</td>\n",
       "      <td>13545468</td>\n",
       "    </tr>\n",
       "    <tr>\n",
       "      <th>1</th>\n",
       "      <td>2016</td>\n",
       "      <td>17Media</td>\n",
       "      <td>4009640</td>\n",
       "    </tr>\n",
       "    <tr>\n",
       "      <th>2</th>\n",
       "      <td>2014</td>\n",
       "      <td>AcneOrg</td>\n",
       "      <td>432943</td>\n",
       "    </tr>\n",
       "    <tr>\n",
       "      <th>3</th>\n",
       "      <td>2013</td>\n",
       "      <td>Adobe</td>\n",
       "      <td>152445165</td>\n",
       "    </tr>\n",
       "    <tr>\n",
       "      <th>4</th>\n",
       "      <td>2015</td>\n",
       "      <td>AdultFriendFinder</td>\n",
       "      <td>3867997</td>\n",
       "    </tr>\n",
       "    <tr>\n",
       "      <th>...</th>\n",
       "      <td>...</td>\n",
       "      <td>...</td>\n",
       "      <td>...</td>\n",
       "    </tr>\n",
       "    <tr>\n",
       "      <th>6816</th>\n",
       "      <td>2018</td>\n",
       "      <td>Exactis</td>\n",
       "      <td>340000000</td>\n",
       "    </tr>\n",
       "    <tr>\n",
       "      <th>6817</th>\n",
       "      <td>2016</td>\n",
       "      <td>MySpace</td>\n",
       "      <td>360000000</td>\n",
       "    </tr>\n",
       "    <tr>\n",
       "      <th>6818</th>\n",
       "      <td>2016</td>\n",
       "      <td>FriendFinder</td>\n",
       "      <td>412000000</td>\n",
       "    </tr>\n",
       "    <tr>\n",
       "      <th>6819</th>\n",
       "      <td>2016</td>\n",
       "      <td>Yahoo</td>\n",
       "      <td>500000000</td>\n",
       "    </tr>\n",
       "    <tr>\n",
       "      <th>6820</th>\n",
       "      <td>2017</td>\n",
       "      <td>River City Media</td>\n",
       "      <td>1370000000</td>\n",
       "    </tr>\n",
       "  </tbody>\n",
       "</table>\n",
       "<p>6555 rows × 3 columns</p>\n",
       "</div>"
      ],
      "text/plain": [
       "     Year of Breach       Company Name  Total Records\n",
       "0              2015         000webhost       13545468\n",
       "1              2016            17Media        4009640\n",
       "2              2014            AcneOrg         432943\n",
       "3              2013              Adobe      152445165\n",
       "4              2015  AdultFriendFinder        3867997\n",
       "...             ...                ...            ...\n",
       "6816           2018            Exactis      340000000\n",
       "6817           2016            MySpace      360000000\n",
       "6818           2016       FriendFinder      412000000\n",
       "6819           2016              Yahoo      500000000\n",
       "6820           2017   River City Media     1370000000\n",
       "\n",
       "[6555 rows x 3 columns]"
      ]
     },
     "execution_count": 80,
     "metadata": {},
     "output_type": "execute_result"
    }
   ],
   "source": [
    "# Drop Duplicates \n",
    "\n",
    "\n",
    "Data_Breaches = data_breaches_csv.drop_duplicates(subset= [\"Company Name\", 'Year of Breach'],keep='first')\n",
    "\n",
    "\n",
    "Data_Breaches\n",
    "\n",
    "\n",
    "\n",
    "\n"
   ]
  },
  {
   "cell_type": "code",
   "execution_count": 81,
   "metadata": {},
   "outputs": [
    {
     "data": {
      "text/html": [
       "<div>\n",
       "<style scoped>\n",
       "    .dataframe tbody tr th:only-of-type {\n",
       "        vertical-align: middle;\n",
       "    }\n",
       "\n",
       "    .dataframe tbody tr th {\n",
       "        vertical-align: top;\n",
       "    }\n",
       "\n",
       "    .dataframe thead th {\n",
       "        text-align: right;\n",
       "    }\n",
       "</style>\n",
       "<table border=\"1\" class=\"dataframe\">\n",
       "  <thead>\n",
       "    <tr style=\"text-align: right;\">\n",
       "      <th></th>\n",
       "      <th>Year of Breach</th>\n",
       "      <th>Company Name</th>\n",
       "      <th>Total Records</th>\n",
       "    </tr>\n",
       "  </thead>\n",
       "  <tbody>\n",
       "    <tr>\n",
       "      <th>0</th>\n",
       "      <td>2015</td>\n",
       "      <td>000webhost</td>\n",
       "      <td>13545468</td>\n",
       "    </tr>\n",
       "    <tr>\n",
       "      <th>1</th>\n",
       "      <td>2016</td>\n",
       "      <td>17Media</td>\n",
       "      <td>4009640</td>\n",
       "    </tr>\n",
       "    <tr>\n",
       "      <th>2</th>\n",
       "      <td>2014</td>\n",
       "      <td>AcneOrg</td>\n",
       "      <td>432943</td>\n",
       "    </tr>\n",
       "    <tr>\n",
       "      <th>3</th>\n",
       "      <td>2013</td>\n",
       "      <td>Adobe</td>\n",
       "      <td>152445165</td>\n",
       "    </tr>\n",
       "    <tr>\n",
       "      <th>4</th>\n",
       "      <td>2015</td>\n",
       "      <td>AdultFriendFinder</td>\n",
       "      <td>3867997</td>\n",
       "    </tr>\n",
       "    <tr>\n",
       "      <th>...</th>\n",
       "      <td>...</td>\n",
       "      <td>...</td>\n",
       "      <td>...</td>\n",
       "    </tr>\n",
       "    <tr>\n",
       "      <th>6816</th>\n",
       "      <td>2018</td>\n",
       "      <td>Exactis</td>\n",
       "      <td>340000000</td>\n",
       "    </tr>\n",
       "    <tr>\n",
       "      <th>6817</th>\n",
       "      <td>2016</td>\n",
       "      <td>MySpace</td>\n",
       "      <td>360000000</td>\n",
       "    </tr>\n",
       "    <tr>\n",
       "      <th>6818</th>\n",
       "      <td>2016</td>\n",
       "      <td>FriendFinder</td>\n",
       "      <td>412000000</td>\n",
       "    </tr>\n",
       "    <tr>\n",
       "      <th>6819</th>\n",
       "      <td>2016</td>\n",
       "      <td>Yahoo</td>\n",
       "      <td>500000000</td>\n",
       "    </tr>\n",
       "    <tr>\n",
       "      <th>6820</th>\n",
       "      <td>2017</td>\n",
       "      <td>River City Media</td>\n",
       "      <td>1370000000</td>\n",
       "    </tr>\n",
       "  </tbody>\n",
       "</table>\n",
       "<p>6555 rows × 3 columns</p>\n",
       "</div>"
      ],
      "text/plain": [
       "     Year of Breach       Company Name  Total Records\n",
       "0              2015         000webhost       13545468\n",
       "1              2016            17Media        4009640\n",
       "2              2014            AcneOrg         432943\n",
       "3              2013              Adobe      152445165\n",
       "4              2015  AdultFriendFinder        3867997\n",
       "...             ...                ...            ...\n",
       "6816           2018            Exactis      340000000\n",
       "6817           2016            MySpace      360000000\n",
       "6818           2016       FriendFinder      412000000\n",
       "6819           2016              Yahoo      500000000\n",
       "6820           2017   River City Media     1370000000\n",
       "\n",
       "[6555 rows x 3 columns]"
      ]
     },
     "execution_count": 81,
     "metadata": {},
     "output_type": "execute_result"
    }
   ],
   "source": [
    "# Find all duplicates in data set with out \"dups\"\n",
    "\n",
    "Data_Breaches"
   ]
  },
  {
   "cell_type": "code",
   "execution_count": 82,
   "metadata": {},
   "outputs": [],
   "source": [
    "# Save Both Dups CSV & Data Breaches CSV\n",
    "\n",
    "Data_Breaches.to_csv(\"../data/clean data/Data_Breaches.csv\")\n",
    "dups.to_csv(\"../data/clean data/Data_Breaches_duplicates.csv\")\n",
    "\n"
   ]
  },
  {
   "cell_type": "code",
   "execution_count": 83,
   "metadata": {},
   "outputs": [],
   "source": [
    "# Import Data Breaches as Clean Data Vairable \n",
    "\n",
    "csvpath = Path(\"../data/clean data/Data_Breaches.csv\")\n",
    "\n",
    "clean_data = pd.read_csv(csvpath)"
   ]
  },
  {
   "cell_type": "code",
   "execution_count": 84,
   "metadata": {},
   "outputs": [
    {
     "data": {
      "text/html": [
       "<div>\n",
       "<style scoped>\n",
       "    .dataframe tbody tr th:only-of-type {\n",
       "        vertical-align: middle;\n",
       "    }\n",
       "\n",
       "    .dataframe tbody tr th {\n",
       "        vertical-align: top;\n",
       "    }\n",
       "\n",
       "    .dataframe thead th {\n",
       "        text-align: right;\n",
       "    }\n",
       "</style>\n",
       "<table border=\"1\" class=\"dataframe\">\n",
       "  <thead>\n",
       "    <tr style=\"text-align: right;\">\n",
       "      <th></th>\n",
       "      <th>Unnamed: 0</th>\n",
       "      <th>Year of Breach</th>\n",
       "      <th>Company Name</th>\n",
       "      <th>Total Records</th>\n",
       "    </tr>\n",
       "  </thead>\n",
       "  <tbody>\n",
       "    <tr>\n",
       "      <th>173</th>\n",
       "      <td>45</td>\n",
       "      <td>2010</td>\n",
       "      <td>AT&amp;T</td>\n",
       "      <td>114000</td>\n",
       "    </tr>\n",
       "    <tr>\n",
       "      <th>237</th>\n",
       "      <td>112</td>\n",
       "      <td>2013</td>\n",
       "      <td>Yahoo</td>\n",
       "      <td>3000000000</td>\n",
       "    </tr>\n",
       "    <tr>\n",
       "      <th>241</th>\n",
       "      <td>117</td>\n",
       "      <td>2013</td>\n",
       "      <td>Citigroup</td>\n",
       "      <td>150000</td>\n",
       "    </tr>\n",
       "    <tr>\n",
       "      <th>261</th>\n",
       "      <td>138</td>\n",
       "      <td>2014</td>\n",
       "      <td>JP Morgan Chase</td>\n",
       "      <td>76000000</td>\n",
       "    </tr>\n",
       "    <tr>\n",
       "      <th>268</th>\n",
       "      <td>145</td>\n",
       "      <td>2014</td>\n",
       "      <td>Yahoo</td>\n",
       "      <td>500000000</td>\n",
       "    </tr>\n",
       "    <tr>\n",
       "      <th>...</th>\n",
       "      <td>...</td>\n",
       "      <td>...</td>\n",
       "      <td>...</td>\n",
       "      <td>...</td>\n",
       "    </tr>\n",
       "    <tr>\n",
       "      <th>6545</th>\n",
       "      <td>6811</td>\n",
       "      <td>2018</td>\n",
       "      <td>Under Armour</td>\n",
       "      <td>150000000</td>\n",
       "    </tr>\n",
       "    <tr>\n",
       "      <th>6549</th>\n",
       "      <td>6815</td>\n",
       "      <td>2018</td>\n",
       "      <td>Marriott International</td>\n",
       "      <td>327000000</td>\n",
       "    </tr>\n",
       "    <tr>\n",
       "      <th>6550</th>\n",
       "      <td>6816</td>\n",
       "      <td>2018</td>\n",
       "      <td>Exactis</td>\n",
       "      <td>340000000</td>\n",
       "    </tr>\n",
       "    <tr>\n",
       "      <th>6551</th>\n",
       "      <td>6817</td>\n",
       "      <td>2016</td>\n",
       "      <td>MySpace</td>\n",
       "      <td>360000000</td>\n",
       "    </tr>\n",
       "    <tr>\n",
       "      <th>6553</th>\n",
       "      <td>6819</td>\n",
       "      <td>2016</td>\n",
       "      <td>Yahoo</td>\n",
       "      <td>500000000</td>\n",
       "    </tr>\n",
       "  </tbody>\n",
       "</table>\n",
       "<p>533 rows × 4 columns</p>\n",
       "</div>"
      ],
      "text/plain": [
       "      Unnamed: 0 Year of Breach            Company Name  Total Records\n",
       "173           45           2010                    AT&T         114000\n",
       "237          112           2013                   Yahoo     3000000000\n",
       "241          117           2013               Citigroup         150000\n",
       "261          138           2014         JP Morgan Chase       76000000\n",
       "268          145           2014                   Yahoo      500000000\n",
       "...          ...            ...                     ...            ...\n",
       "6545        6811           2018            Under Armour      150000000\n",
       "6549        6815           2018  Marriott International      327000000\n",
       "6550        6816           2018                 Exactis      340000000\n",
       "6551        6817           2016                 MySpace      360000000\n",
       "6553        6819           2016                   Yahoo      500000000\n",
       "\n",
       "[533 rows x 4 columns]"
      ]
     },
     "execution_count": 84,
     "metadata": {},
     "output_type": "execute_result"
    }
   ],
   "source": [
    "# Find Duplicates inside of Clean data set\n",
    "\n",
    "\n",
    "Multiple_offenders = clean_data[clean_data.duplicated([\"Company Name\"])]\n",
    "Multiple_offenders"
   ]
  },
  {
   "cell_type": "code",
   "execution_count": 85,
   "metadata": {},
   "outputs": [
    {
     "data": {
      "text/html": [
       "<div>\n",
       "<style scoped>\n",
       "    .dataframe tbody tr th:only-of-type {\n",
       "        vertical-align: middle;\n",
       "    }\n",
       "\n",
       "    .dataframe tbody tr th {\n",
       "        vertical-align: top;\n",
       "    }\n",
       "\n",
       "    .dataframe thead th {\n",
       "        text-align: right;\n",
       "    }\n",
       "</style>\n",
       "<table border=\"1\" class=\"dataframe\">\n",
       "  <thead>\n",
       "    <tr style=\"text-align: right;\">\n",
       "      <th></th>\n",
       "      <th>Unnamed: 0</th>\n",
       "      <th>Year of Breach</th>\n",
       "      <th>Company Name</th>\n",
       "      <th>Total Records</th>\n",
       "    </tr>\n",
       "  </thead>\n",
       "  <tbody>\n",
       "    <tr>\n",
       "      <th>6440</th>\n",
       "      <td>6701</td>\n",
       "      <td>2016</td>\n",
       "      <td>21st Century Oncology</td>\n",
       "      <td>2200000</td>\n",
       "    </tr>\n",
       "    <tr>\n",
       "      <th>173</th>\n",
       "      <td>45</td>\n",
       "      <td>2010</td>\n",
       "      <td>AT&amp;T</td>\n",
       "      <td>114000</td>\n",
       "    </tr>\n",
       "    <tr>\n",
       "      <th>3566</th>\n",
       "      <td>3529</td>\n",
       "      <td>2009</td>\n",
       "      <td>AT&amp;T</td>\n",
       "      <td>2100</td>\n",
       "    </tr>\n",
       "    <tr>\n",
       "      <th>460</th>\n",
       "      <td>153</td>\n",
       "      <td>2014</td>\n",
       "      <td>AT&amp;T</td>\n",
       "      <td>3</td>\n",
       "    </tr>\n",
       "    <tr>\n",
       "      <th>1272</th>\n",
       "      <td>997</td>\n",
       "      <td>2012</td>\n",
       "      <td>Adobe</td>\n",
       "      <td>230</td>\n",
       "    </tr>\n",
       "    <tr>\n",
       "      <th>...</th>\n",
       "      <td>...</td>\n",
       "      <td>...</td>\n",
       "      <td>...</td>\n",
       "      <td>...</td>\n",
       "    </tr>\n",
       "    <tr>\n",
       "      <th>5004</th>\n",
       "      <td>5141</td>\n",
       "      <td>2007</td>\n",
       "      <td>Yale University</td>\n",
       "      <td>10200</td>\n",
       "    </tr>\n",
       "    <tr>\n",
       "      <th>5786</th>\n",
       "      <td>6000</td>\n",
       "      <td>2011</td>\n",
       "      <td>Yale University</td>\n",
       "      <td>43000</td>\n",
       "    </tr>\n",
       "    <tr>\n",
       "      <th>2840</th>\n",
       "      <td>2713</td>\n",
       "      <td>2012</td>\n",
       "      <td>Yale University</td>\n",
       "      <td>1200</td>\n",
       "    </tr>\n",
       "    <tr>\n",
       "      <th>2762</th>\n",
       "      <td>2626</td>\n",
       "      <td>2018</td>\n",
       "      <td>Yale University</td>\n",
       "      <td>1102</td>\n",
       "    </tr>\n",
       "    <tr>\n",
       "      <th>2648</th>\n",
       "      <td>2497</td>\n",
       "      <td>2010</td>\n",
       "      <td>Yale University</td>\n",
       "      <td>1000</td>\n",
       "    </tr>\n",
       "  </tbody>\n",
       "</table>\n",
       "<p>533 rows × 4 columns</p>\n",
       "</div>"
      ],
      "text/plain": [
       "      Unnamed: 0 Year of Breach           Company Name  Total Records\n",
       "6440        6701           2016  21st Century Oncology        2200000\n",
       "173           45           2010                   AT&T         114000\n",
       "3566        3529           2009                   AT&T           2100\n",
       "460          153           2014                   AT&T              3\n",
       "1272         997           2012                  Adobe            230\n",
       "...          ...            ...                    ...            ...\n",
       "5004        5141           2007        Yale University          10200\n",
       "5786        6000           2011        Yale University          43000\n",
       "2840        2713           2012        Yale University           1200\n",
       "2762        2626           2018        Yale University           1102\n",
       "2648        2497           2010        Yale University           1000\n",
       "\n",
       "[533 rows x 4 columns]"
      ]
     },
     "execution_count": 85,
     "metadata": {},
     "output_type": "execute_result"
    }
   ],
   "source": [
    "# sort by Company Name\n",
    "\n",
    "Multiple_offenders = Multiple_offenders.sort_values('Company Name', ascending=True)\n",
    "\n",
    "Multiple_offenders"
   ]
  },
  {
   "cell_type": "code",
   "execution_count": 86,
   "metadata": {},
   "outputs": [
    {
     "data": {
      "text/html": [
       "<div>\n",
       "<style scoped>\n",
       "    .dataframe tbody tr th:only-of-type {\n",
       "        vertical-align: middle;\n",
       "    }\n",
       "\n",
       "    .dataframe tbody tr th {\n",
       "        vertical-align: top;\n",
       "    }\n",
       "\n",
       "    .dataframe thead th {\n",
       "        text-align: right;\n",
       "    }\n",
       "</style>\n",
       "<table border=\"1\" class=\"dataframe\">\n",
       "  <thead>\n",
       "    <tr style=\"text-align: right;\">\n",
       "      <th></th>\n",
       "      <th>Year of Breach</th>\n",
       "      <th>Total Records</th>\n",
       "      <th>Company Name</th>\n",
       "    </tr>\n",
       "  </thead>\n",
       "  <tbody>\n",
       "    <tr>\n",
       "      <th>5113</th>\n",
       "      <td>2017</td>\n",
       "      <td>12000</td>\n",
       "      <td>Aetna</td>\n",
       "    </tr>\n",
       "    <tr>\n",
       "      <th>4625</th>\n",
       "      <td>2010</td>\n",
       "      <td>6372</td>\n",
       "      <td>Aetna</td>\n",
       "    </tr>\n",
       "    <tr>\n",
       "      <th>5931</th>\n",
       "      <td>2009</td>\n",
       "      <td>65000</td>\n",
       "      <td>Aetna</td>\n",
       "    </tr>\n",
       "  </tbody>\n",
       "</table>\n",
       "</div>"
      ],
      "text/plain": [
       "     Year of Breach  Total Records Company Name\n",
       "5113           2017          12000        Aetna\n",
       "4625           2010           6372        Aetna\n",
       "5931           2009          65000        Aetna"
      ]
     },
     "execution_count": 86,
     "metadata": {},
     "output_type": "execute_result"
    }
   ],
   "source": [
    "# Save The Duplicate aetna data set\n",
    "\n",
    "\n",
    "aetna = Multiple_offenders.loc[(Multiple_offenders[\"Company Name\"] == \"Aetna\"),\n",
    "['Year of Breach', 'Total Records', 'Company Name']]\n",
    "\n",
    "aetna"
   ]
  },
  {
   "cell_type": "code",
   "execution_count": 87,
   "metadata": {},
   "outputs": [
    {
     "data": {
      "text/html": [
       "<div>\n",
       "<style scoped>\n",
       "    .dataframe tbody tr th:only-of-type {\n",
       "        vertical-align: middle;\n",
       "    }\n",
       "\n",
       "    .dataframe tbody tr th {\n",
       "        vertical-align: top;\n",
       "    }\n",
       "\n",
       "    .dataframe thead th {\n",
       "        text-align: right;\n",
       "    }\n",
       "</style>\n",
       "<table border=\"1\" class=\"dataframe\">\n",
       "  <thead>\n",
       "    <tr style=\"text-align: right;\">\n",
       "      <th></th>\n",
       "      <th>Year of Breach</th>\n",
       "      <th>Total Records</th>\n",
       "      <th>Company Name</th>\n",
       "    </tr>\n",
       "  </thead>\n",
       "  <tbody>\n",
       "    <tr>\n",
       "      <th>5359</th>\n",
       "      <td>2013</td>\n",
       "      <td>17350</td>\n",
       "      <td>Walgreen Co.</td>\n",
       "    </tr>\n",
       "    <tr>\n",
       "      <th>2796</th>\n",
       "      <td>2015</td>\n",
       "      <td>1138</td>\n",
       "      <td>Walgreen Co.</td>\n",
       "    </tr>\n",
       "    <tr>\n",
       "      <th>4334</th>\n",
       "      <td>2017</td>\n",
       "      <td>4500</td>\n",
       "      <td>Walgreen Co.</td>\n",
       "    </tr>\n",
       "    <tr>\n",
       "      <th>2438</th>\n",
       "      <td>2016</td>\n",
       "      <td>880</td>\n",
       "      <td>Walgreen Co.</td>\n",
       "    </tr>\n",
       "    <tr>\n",
       "      <th>2895</th>\n",
       "      <td>2012</td>\n",
       "      <td>1240</td>\n",
       "      <td>Walgreen Co.</td>\n",
       "    </tr>\n",
       "  </tbody>\n",
       "</table>\n",
       "</div>"
      ],
      "text/plain": [
       "     Year of Breach  Total Records  Company Name\n",
       "5359           2013          17350  Walgreen Co.\n",
       "2796           2015           1138  Walgreen Co.\n",
       "4334           2017           4500  Walgreen Co.\n",
       "2438           2016            880  Walgreen Co.\n",
       "2895           2012           1240  Walgreen Co."
      ]
     },
     "execution_count": 87,
     "metadata": {},
     "output_type": "execute_result"
    }
   ],
   "source": [
    "# Save The Duplicate walgreen data set\n",
    "\n",
    "\n",
    "walgreens = Multiple_offenders.loc[(Multiple_offenders[\"Company Name\"] == \"Walgreen Co.\"),\n",
    "['Year of Breach', 'Total Records', 'Company Name']]\n",
    "\n",
    "walgreens"
   ]
  },
  {
   "cell_type": "code",
   "execution_count": 88,
   "metadata": {},
   "outputs": [
    {
     "data": {
      "text/html": [
       "<div>\n",
       "<style scoped>\n",
       "    .dataframe tbody tr th:only-of-type {\n",
       "        vertical-align: middle;\n",
       "    }\n",
       "\n",
       "    .dataframe tbody tr th {\n",
       "        vertical-align: top;\n",
       "    }\n",
       "\n",
       "    .dataframe thead th {\n",
       "        text-align: right;\n",
       "    }\n",
       "</style>\n",
       "<table border=\"1\" class=\"dataframe\">\n",
       "  <thead>\n",
       "    <tr style=\"text-align: right;\">\n",
       "      <th></th>\n",
       "      <th>Year of Breach</th>\n",
       "      <th>Total Records</th>\n",
       "      <th>Company Name</th>\n",
       "    </tr>\n",
       "  </thead>\n",
       "  <tbody>\n",
       "    <tr>\n",
       "      <th>317</th>\n",
       "      <td>2018</td>\n",
       "      <td>50000000</td>\n",
       "      <td>Facebook</td>\n",
       "    </tr>\n",
       "    <tr>\n",
       "      <th>6480</th>\n",
       "      <td>2013</td>\n",
       "      <td>6000000</td>\n",
       "      <td>Facebook</td>\n",
       "    </tr>\n",
       "    <tr>\n",
       "      <th>6533</th>\n",
       "      <td>2008</td>\n",
       "      <td>80000000</td>\n",
       "      <td>Facebook</td>\n",
       "    </tr>\n",
       "  </tbody>\n",
       "</table>\n",
       "</div>"
      ],
      "text/plain": [
       "     Year of Breach  Total Records Company Name\n",
       "317            2018       50000000     Facebook\n",
       "6480           2013        6000000     Facebook\n",
       "6533           2008       80000000     Facebook"
      ]
     },
     "execution_count": 88,
     "metadata": {},
     "output_type": "execute_result"
    }
   ],
   "source": [
    "# Save The Duplicate facebook data set\n",
    "\n",
    "\n",
    "facebook = Multiple_offenders.loc[(Multiple_offenders[\"Company Name\"] == \"Facebook\"),\n",
    "['Year of Breach', 'Total Records', 'Company Name']]\n",
    "\n",
    "facebook"
   ]
  },
  {
   "cell_type": "code",
   "execution_count": 89,
   "metadata": {},
   "outputs": [
    {
     "data": {
      "text/html": [
       "<div>\n",
       "<style scoped>\n",
       "    .dataframe tbody tr th:only-of-type {\n",
       "        vertical-align: middle;\n",
       "    }\n",
       "\n",
       "    .dataframe tbody tr th {\n",
       "        vertical-align: top;\n",
       "    }\n",
       "\n",
       "    .dataframe thead th {\n",
       "        text-align: right;\n",
       "    }\n",
       "</style>\n",
       "<table border=\"1\" class=\"dataframe\">\n",
       "  <thead>\n",
       "    <tr style=\"text-align: right;\">\n",
       "      <th></th>\n",
       "      <th>Year of Breach</th>\n",
       "      <th>Total Records</th>\n",
       "      <th>Company Name</th>\n",
       "    </tr>\n",
       "  </thead>\n",
       "  <tbody>\n",
       "    <tr>\n",
       "      <th>1706</th>\n",
       "      <td>2007</td>\n",
       "      <td>519</td>\n",
       "      <td>Citigroup</td>\n",
       "    </tr>\n",
       "    <tr>\n",
       "      <th>6136</th>\n",
       "      <td>2013</td>\n",
       "      <td>146000</td>\n",
       "      <td>Citigroup</td>\n",
       "    </tr>\n",
       "    <tr>\n",
       "      <th>6329</th>\n",
       "      <td>2010</td>\n",
       "      <td>600000</td>\n",
       "      <td>Citigroup</td>\n",
       "    </tr>\n",
       "    <tr>\n",
       "      <th>241</th>\n",
       "      <td>2013</td>\n",
       "      <td>150000</td>\n",
       "      <td>Citigroup</td>\n",
       "    </tr>\n",
       "    <tr>\n",
       "      <th>534</th>\n",
       "      <td>2006</td>\n",
       "      <td>11</td>\n",
       "      <td>Citigroup</td>\n",
       "    </tr>\n",
       "  </tbody>\n",
       "</table>\n",
       "</div>"
      ],
      "text/plain": [
       "     Year of Breach  Total Records Company Name\n",
       "1706           2007            519    Citigroup\n",
       "6136           2013         146000    Citigroup\n",
       "6329           2010         600000    Citigroup\n",
       "241            2013         150000    Citigroup\n",
       "534            2006             11    Citigroup"
      ]
     },
     "execution_count": 89,
     "metadata": {},
     "output_type": "execute_result"
    }
   ],
   "source": [
    "# Save The Duplicate citigroup data set\n",
    "\n",
    "\n",
    "citigroup = Multiple_offenders.loc[(Multiple_offenders[\"Company Name\"] == \"Citigroup\"),\n",
    "['Year of Breach', 'Total Records', 'Company Name']]\n",
    "\n",
    "citigroup"
   ]
  },
  {
   "cell_type": "code",
   "execution_count": 90,
   "metadata": {},
   "outputs": [
    {
     "data": {
      "text/html": [
       "<div>\n",
       "<style scoped>\n",
       "    .dataframe tbody tr th:only-of-type {\n",
       "        vertical-align: middle;\n",
       "    }\n",
       "\n",
       "    .dataframe tbody tr th {\n",
       "        vertical-align: top;\n",
       "    }\n",
       "\n",
       "    .dataframe thead th {\n",
       "        text-align: right;\n",
       "    }\n",
       "</style>\n",
       "<table border=\"1\" class=\"dataframe\">\n",
       "  <thead>\n",
       "    <tr style=\"text-align: right;\">\n",
       "      <th></th>\n",
       "      <th>Year of Breach</th>\n",
       "      <th>Total Records</th>\n",
       "      <th>Company Name</th>\n",
       "    </tr>\n",
       "  </thead>\n",
       "  <tbody>\n",
       "    <tr>\n",
       "      <th>173</th>\n",
       "      <td>2010</td>\n",
       "      <td>114000</td>\n",
       "      <td>AT&amp;T</td>\n",
       "    </tr>\n",
       "    <tr>\n",
       "      <th>3566</th>\n",
       "      <td>2009</td>\n",
       "      <td>2100</td>\n",
       "      <td>AT&amp;T</td>\n",
       "    </tr>\n",
       "    <tr>\n",
       "      <th>460</th>\n",
       "      <td>2014</td>\n",
       "      <td>3</td>\n",
       "      <td>AT&amp;T</td>\n",
       "    </tr>\n",
       "  </tbody>\n",
       "</table>\n",
       "</div>"
      ],
      "text/plain": [
       "     Year of Breach  Total Records Company Name\n",
       "173            2010         114000         AT&T\n",
       "3566           2009           2100         AT&T\n",
       "460            2014              3         AT&T"
      ]
     },
     "execution_count": 90,
     "metadata": {},
     "output_type": "execute_result"
    }
   ],
   "source": [
    "# Save The Duplicate Att data set\n",
    "\n",
    "att = Multiple_offenders.loc[(Multiple_offenders[\"Company Name\"] == \"AT&T\"),\n",
    "['Year of Breach', 'Total Records', 'Company Name']]\n",
    "\n",
    "att"
   ]
  },
  {
   "cell_type": "code",
   "execution_count": 91,
   "metadata": {},
   "outputs": [
    {
     "data": {
      "text/html": [
       "<div>\n",
       "<style scoped>\n",
       "    .dataframe tbody tr th:only-of-type {\n",
       "        vertical-align: middle;\n",
       "    }\n",
       "\n",
       "    .dataframe tbody tr th {\n",
       "        vertical-align: top;\n",
       "    }\n",
       "\n",
       "    .dataframe thead th {\n",
       "        text-align: right;\n",
       "    }\n",
       "</style>\n",
       "<table border=\"1\" class=\"dataframe\">\n",
       "  <thead>\n",
       "    <tr style=\"text-align: right;\">\n",
       "      <th></th>\n",
       "      <th>Year of Breach</th>\n",
       "      <th>Total Records</th>\n",
       "      <th>Company Name</th>\n",
       "    </tr>\n",
       "  </thead>\n",
       "  <tbody>\n",
       "    <tr>\n",
       "      <th>317</th>\n",
       "      <td>2018</td>\n",
       "      <td>50000000</td>\n",
       "      <td>Facebook</td>\n",
       "    </tr>\n",
       "    <tr>\n",
       "      <th>6480</th>\n",
       "      <td>2013</td>\n",
       "      <td>6000000</td>\n",
       "      <td>Facebook</td>\n",
       "    </tr>\n",
       "    <tr>\n",
       "      <th>6533</th>\n",
       "      <td>2008</td>\n",
       "      <td>80000000</td>\n",
       "      <td>Facebook</td>\n",
       "    </tr>\n",
       "    <tr>\n",
       "      <th>5359</th>\n",
       "      <td>2013</td>\n",
       "      <td>17350</td>\n",
       "      <td>Walgreen Co.</td>\n",
       "    </tr>\n",
       "    <tr>\n",
       "      <th>2796</th>\n",
       "      <td>2015</td>\n",
       "      <td>1138</td>\n",
       "      <td>Walgreen Co.</td>\n",
       "    </tr>\n",
       "    <tr>\n",
       "      <th>4334</th>\n",
       "      <td>2017</td>\n",
       "      <td>4500</td>\n",
       "      <td>Walgreen Co.</td>\n",
       "    </tr>\n",
       "    <tr>\n",
       "      <th>2438</th>\n",
       "      <td>2016</td>\n",
       "      <td>880</td>\n",
       "      <td>Walgreen Co.</td>\n",
       "    </tr>\n",
       "    <tr>\n",
       "      <th>2895</th>\n",
       "      <td>2012</td>\n",
       "      <td>1240</td>\n",
       "      <td>Walgreen Co.</td>\n",
       "    </tr>\n",
       "    <tr>\n",
       "      <th>173</th>\n",
       "      <td>2010</td>\n",
       "      <td>114000</td>\n",
       "      <td>AT&amp;T</td>\n",
       "    </tr>\n",
       "    <tr>\n",
       "      <th>3566</th>\n",
       "      <td>2009</td>\n",
       "      <td>2100</td>\n",
       "      <td>AT&amp;T</td>\n",
       "    </tr>\n",
       "    <tr>\n",
       "      <th>460</th>\n",
       "      <td>2014</td>\n",
       "      <td>3</td>\n",
       "      <td>AT&amp;T</td>\n",
       "    </tr>\n",
       "    <tr>\n",
       "      <th>5113</th>\n",
       "      <td>2017</td>\n",
       "      <td>12000</td>\n",
       "      <td>Aetna</td>\n",
       "    </tr>\n",
       "    <tr>\n",
       "      <th>4625</th>\n",
       "      <td>2010</td>\n",
       "      <td>6372</td>\n",
       "      <td>Aetna</td>\n",
       "    </tr>\n",
       "    <tr>\n",
       "      <th>5931</th>\n",
       "      <td>2009</td>\n",
       "      <td>65000</td>\n",
       "      <td>Aetna</td>\n",
       "    </tr>\n",
       "    <tr>\n",
       "      <th>1706</th>\n",
       "      <td>2007</td>\n",
       "      <td>519</td>\n",
       "      <td>Citigroup</td>\n",
       "    </tr>\n",
       "    <tr>\n",
       "      <th>6136</th>\n",
       "      <td>2013</td>\n",
       "      <td>146000</td>\n",
       "      <td>Citigroup</td>\n",
       "    </tr>\n",
       "    <tr>\n",
       "      <th>6329</th>\n",
       "      <td>2010</td>\n",
       "      <td>600000</td>\n",
       "      <td>Citigroup</td>\n",
       "    </tr>\n",
       "    <tr>\n",
       "      <th>241</th>\n",
       "      <td>2013</td>\n",
       "      <td>150000</td>\n",
       "      <td>Citigroup</td>\n",
       "    </tr>\n",
       "    <tr>\n",
       "      <th>534</th>\n",
       "      <td>2006</td>\n",
       "      <td>11</td>\n",
       "      <td>Citigroup</td>\n",
       "    </tr>\n",
       "  </tbody>\n",
       "</table>\n",
       "</div>"
      ],
      "text/plain": [
       "     Year of Breach  Total Records  Company Name\n",
       "317            2018       50000000      Facebook\n",
       "6480           2013        6000000      Facebook\n",
       "6533           2008       80000000      Facebook\n",
       "5359           2013          17350  Walgreen Co.\n",
       "2796           2015           1138  Walgreen Co.\n",
       "4334           2017           4500  Walgreen Co.\n",
       "2438           2016            880  Walgreen Co.\n",
       "2895           2012           1240  Walgreen Co.\n",
       "173            2010         114000          AT&T\n",
       "3566           2009           2100          AT&T\n",
       "460            2014              3          AT&T\n",
       "5113           2017          12000         Aetna\n",
       "4625           2010           6372         Aetna\n",
       "5931           2009          65000         Aetna\n",
       "1706           2007            519     Citigroup\n",
       "6136           2013         146000     Citigroup\n",
       "6329           2010         600000     Citigroup\n",
       "241            2013         150000     Citigroup\n",
       "534            2006             11     Citigroup"
      ]
     },
     "execution_count": 91,
     "metadata": {},
     "output_type": "execute_result"
    }
   ],
   "source": [
    "# Merge all 5 company csv files into 1\n",
    "\n",
    "top5_dups = pd.concat([facebook, walgreens, att, aetna, citigroup]) \n",
    "\n",
    "top5_dups"
   ]
  },
  {
   "cell_type": "code",
   "execution_count": 92,
   "metadata": {},
   "outputs": [],
   "source": [
    "# Save Claen Data as CSV\n",
    "\n",
    "Multiple_offenders.to_csv(\"../data/clean data/hacked_multiple_times.csv\")\n",
    "\n"
   ]
  },
  {
   "cell_type": "code",
   "execution_count": 93,
   "metadata": {},
   "outputs": [],
   "source": [
    "#Save all CSV's\n",
    "\n",
    "top5_dups.to_csv(\"../data/clean data/top5_companies_to_plot.csv\")\n",
    "att.to_csv(\"../data/clean data/att.csv\")\n",
    "facebook.to_csv(\"../data/clean data/facebook.csv\")\n",
    "walgreens.to_csv(\"../data/clean data/walgreens.csv\")\n",
    "aetna.to_csv(\"../data/clean data/aetna.csv\")\n",
    "citigroup.to_csv(\"../data/clean data/citigroup.csv\")"
   ]
  },
  {
   "cell_type": "code",
   "execution_count": 94,
   "metadata": {},
   "outputs": [],
   "source": [
    "# Import financial data for facebook\n",
    "\n",
    "# Import 2013 daily\n",
    "csvpath = Path(\"../data/raw data/Facebook Stock Data 2013 daily - Sheet1.csv\")\n",
    "fb_2013_daily_data = pd.read_csv(csvpath)\n",
    "\n",
    "\n",
    "# Import 2013 weekly\n",
    "csvpath = Path(\"../data/raw data/Facebook Stock Data 2013 weekly - Sheet1.csv\")\n",
    "fb_2013_weekly_data = pd.read_csv(csvpath)\n",
    "\n",
    "\n",
    "# Import 2018 daily\n",
    "csvpath = Path(\"../data/raw data/Facebook Stock Data 2018 daily - Sheet1.csv\")\n",
    "fb_2018_daily_data = pd.read_csv(csvpath)\n",
    "\n",
    "\n",
    "# Import 2018 weekly\n",
    "csvpath = Path(\"../data/raw data/Facebook Stock Data 2018 weekly - Sheet1.csv\")\n",
    "fb_2018_weekly_data = pd.read_csv(csvpath)\n"
   ]
  },
  {
   "cell_type": "code",
   "execution_count": 95,
   "metadata": {},
   "outputs": [],
   "source": [
    "# Slice day before, day of & day after 2013 close data\n",
    "fb2013_day_before = fb_2013_daily_data.loc[(fb_2013_daily_data[\"Date\"] == \"2013-02-14\")]\n",
    "fb2013_day_of = fb_2013_daily_data.loc[(fb_2013_daily_data[\"Date\"] == \"2013-02-15\")] \n",
    "fb2013_day_after = fb_2013_daily_data.loc[(fb_2013_daily_data[\"Date\"] == \"2013-02-19\")]\n"
   ]
  },
  {
   "cell_type": "code",
   "execution_count": 96,
   "metadata": {},
   "outputs": [],
   "source": [
    "# Slice week before, week of & week after 2013 close data\n",
    "fb2013_week_before = fb_2013_weekly_data.loc[(fb_2013_weekly_data[\"Date\"] == \"2013-02-08\")]\n",
    "fb2013_week_of = fb_2013_weekly_data.loc[(fb_2013_weekly_data[\"Date\"] == \"2013-02-15\")] \n",
    "fb2013_week_after = fb_2013_weekly_data.loc[(fb_2013_weekly_data[\"Date\"] == \"2013-02-22\")]\n"
   ]
  },
  {
   "cell_type": "code",
   "execution_count": 97,
   "metadata": {},
   "outputs": [
    {
     "data": {
      "text/html": [
       "<div>\n",
       "<style scoped>\n",
       "    .dataframe tbody tr th:only-of-type {\n",
       "        vertical-align: middle;\n",
       "    }\n",
       "\n",
       "    .dataframe tbody tr th {\n",
       "        vertical-align: top;\n",
       "    }\n",
       "\n",
       "    .dataframe thead th {\n",
       "        text-align: right;\n",
       "    }\n",
       "</style>\n",
       "<table border=\"1\" class=\"dataframe\">\n",
       "  <thead>\n",
       "    <tr style=\"text-align: right;\">\n",
       "      <th></th>\n",
       "      <th>Date</th>\n",
       "      <th>Close</th>\n",
       "    </tr>\n",
       "  </thead>\n",
       "  <tbody>\n",
       "    <tr>\n",
       "      <th>5</th>\n",
       "      <td>2013-02-08</td>\n",
       "      <td>28.55</td>\n",
       "    </tr>\n",
       "    <tr>\n",
       "      <th>6</th>\n",
       "      <td>2013-02-15</td>\n",
       "      <td>28.32</td>\n",
       "    </tr>\n",
       "    <tr>\n",
       "      <th>7</th>\n",
       "      <td>2013-02-22</td>\n",
       "      <td>27.13</td>\n",
       "    </tr>\n",
       "  </tbody>\n",
       "</table>\n",
       "</div>"
      ],
      "text/plain": [
       "         Date  Close\n",
       "5  2013-02-08  28.55\n",
       "6  2013-02-15  28.32\n",
       "7  2013-02-22  27.13"
      ]
     },
     "execution_count": 97,
     "metadata": {},
     "output_type": "execute_result"
    }
   ],
   "source": [
    "# Concat weekly 2013 data into df\n",
    "\n",
    "fbweekly2013 = pd.concat([fb2013_week_before, fb2013_week_of, fb2013_week_after])\n",
    "fbweekly2013"
   ]
  },
  {
   "cell_type": "code",
   "execution_count": 98,
   "metadata": {},
   "outputs": [
    {
     "data": {
      "text/html": [
       "<div>\n",
       "<style scoped>\n",
       "    .dataframe tbody tr th:only-of-type {\n",
       "        vertical-align: middle;\n",
       "    }\n",
       "\n",
       "    .dataframe tbody tr th {\n",
       "        vertical-align: top;\n",
       "    }\n",
       "\n",
       "    .dataframe thead th {\n",
       "        text-align: right;\n",
       "    }\n",
       "</style>\n",
       "<table border=\"1\" class=\"dataframe\">\n",
       "  <thead>\n",
       "    <tr style=\"text-align: right;\">\n",
       "      <th></th>\n",
       "      <th>Date</th>\n",
       "      <th>Close</th>\n",
       "    </tr>\n",
       "  </thead>\n",
       "  <tbody>\n",
       "    <tr>\n",
       "      <th>30</th>\n",
       "      <td>2013-02-14</td>\n",
       "      <td>28.50</td>\n",
       "    </tr>\n",
       "    <tr>\n",
       "      <th>31</th>\n",
       "      <td>2013-02-15</td>\n",
       "      <td>28.32</td>\n",
       "    </tr>\n",
       "    <tr>\n",
       "      <th>32</th>\n",
       "      <td>2013-02-19</td>\n",
       "      <td>28.93</td>\n",
       "    </tr>\n",
       "  </tbody>\n",
       "</table>\n",
       "</div>"
      ],
      "text/plain": [
       "          Date  Close\n",
       "30  2013-02-14  28.50\n",
       "31  2013-02-15  28.32\n",
       "32  2013-02-19  28.93"
      ]
     },
     "execution_count": 98,
     "metadata": {},
     "output_type": "execute_result"
    }
   ],
   "source": [
    "# Concat daily 2013 data into df\n",
    "\n",
    "fbdaily2013 = pd.concat([fb2013_day_before, fb2013_day_of, fb2013_day_after])\n",
    "fbdaily2013"
   ]
  },
  {
   "cell_type": "code",
   "execution_count": 99,
   "metadata": {},
   "outputs": [],
   "source": [
    "# Slice day before, day of & day after 2018 close data\n",
    "\n",
    "fb2018_day_before = fb_2018_daily_data.loc[(fb_2018_daily_data[\"Date\"] == \"2018-09-24\")]\n",
    "fb2018_day_of = fb_2018_daily_data.loc[(fb_2018_daily_data[\"Date\"] == \"2018-09-25\")] \n",
    "fb2018_day_after = fb_2018_daily_data.loc[(fb_2018_daily_data[\"Date\"] == \"2018-09-26\")]\n",
    "\n"
   ]
  },
  {
   "cell_type": "code",
   "execution_count": 100,
   "metadata": {},
   "outputs": [],
   "source": [
    "# Slice week before, week of & week after 2018 close data\n",
    "\n",
    "\n",
    "fb2018_week_before = fb_2018_weekly_data.loc[(fb_2018_weekly_data[\"Date\"] == \"2018-09-21\")]\n",
    "fb2018_week_of = fb_2018_weekly_data.loc[(fb_2018_weekly_data[\"Date\"] == \"2018-09-28\")] \n",
    "fb2018_week_after = fb_2018_weekly_data.loc[(fb_2018_weekly_data[\"Date\"] == \"2018-10-05\")]\n"
   ]
  },
  {
   "cell_type": "code",
   "execution_count": 101,
   "metadata": {},
   "outputs": [
    {
     "data": {
      "text/html": [
       "<div>\n",
       "<style scoped>\n",
       "    .dataframe tbody tr th:only-of-type {\n",
       "        vertical-align: middle;\n",
       "    }\n",
       "\n",
       "    .dataframe tbody tr th {\n",
       "        vertical-align: top;\n",
       "    }\n",
       "\n",
       "    .dataframe thead th {\n",
       "        text-align: right;\n",
       "    }\n",
       "</style>\n",
       "<table border=\"1\" class=\"dataframe\">\n",
       "  <thead>\n",
       "    <tr style=\"text-align: right;\">\n",
       "      <th></th>\n",
       "      <th>Date</th>\n",
       "      <th>Close</th>\n",
       "    </tr>\n",
       "  </thead>\n",
       "  <tbody>\n",
       "    <tr>\n",
       "      <th>37</th>\n",
       "      <td>2018-09-21</td>\n",
       "      <td>162.93</td>\n",
       "    </tr>\n",
       "    <tr>\n",
       "      <th>38</th>\n",
       "      <td>2018-09-28</td>\n",
       "      <td>164.46</td>\n",
       "    </tr>\n",
       "    <tr>\n",
       "      <th>39</th>\n",
       "      <td>2018-10-05</td>\n",
       "      <td>157.33</td>\n",
       "    </tr>\n",
       "  </tbody>\n",
       "</table>\n",
       "</div>"
      ],
      "text/plain": [
       "          Date   Close\n",
       "37  2018-09-21  162.93\n",
       "38  2018-09-28  164.46\n",
       "39  2018-10-05  157.33"
      ]
     },
     "execution_count": 101,
     "metadata": {},
     "output_type": "execute_result"
    }
   ],
   "source": [
    "# Concat weekly 2018 data into df\n",
    "\n",
    "\n",
    "fbweekly2018 = pd.concat([fb2018_week_before, fb2018_week_of, fb2018_week_after])\n",
    "fbweekly2018"
   ]
  },
  {
   "cell_type": "code",
   "execution_count": 102,
   "metadata": {},
   "outputs": [
    {
     "data": {
      "text/html": [
       "<div>\n",
       "<style scoped>\n",
       "    .dataframe tbody tr th:only-of-type {\n",
       "        vertical-align: middle;\n",
       "    }\n",
       "\n",
       "    .dataframe tbody tr th {\n",
       "        vertical-align: top;\n",
       "    }\n",
       "\n",
       "    .dataframe thead th {\n",
       "        text-align: right;\n",
       "    }\n",
       "</style>\n",
       "<table border=\"1\" class=\"dataframe\">\n",
       "  <thead>\n",
       "    <tr style=\"text-align: right;\">\n",
       "      <th></th>\n",
       "      <th>Date</th>\n",
       "      <th>Close</th>\n",
       "    </tr>\n",
       "  </thead>\n",
       "  <tbody>\n",
       "    <tr>\n",
       "      <th>183</th>\n",
       "      <td>2018-09-24</td>\n",
       "      <td>165.41</td>\n",
       "    </tr>\n",
       "    <tr>\n",
       "      <th>184</th>\n",
       "      <td>2018-09-25</td>\n",
       "      <td>164.91</td>\n",
       "    </tr>\n",
       "    <tr>\n",
       "      <th>185</th>\n",
       "      <td>2018-09-26</td>\n",
       "      <td>166.95</td>\n",
       "    </tr>\n",
       "  </tbody>\n",
       "</table>\n",
       "</div>"
      ],
      "text/plain": [
       "           Date   Close\n",
       "183  2018-09-24  165.41\n",
       "184  2018-09-25  164.91\n",
       "185  2018-09-26  166.95"
      ]
     },
     "execution_count": 102,
     "metadata": {},
     "output_type": "execute_result"
    }
   ],
   "source": [
    "# Concat daily 2018 data into df\n",
    "\n",
    "\n",
    "fbdaily2018 = pd.concat([fb2018_day_before, fb2018_day_of, fb2018_day_after])\n",
    "fbdaily2018"
   ]
  },
  {
   "cell_type": "code",
   "execution_count": 103,
   "metadata": {},
   "outputs": [
    {
     "data": {},
     "metadata": {},
     "output_type": "display_data"
    },
    {
     "data": {
      "application/vnd.holoviews_exec.v0+json": "",
      "text/html": [
       "<div id='1002'>\n",
       "\n",
       "\n",
       "\n",
       "\n",
       "\n",
       "  <div class=\"bk-root\" id=\"3e64a770-1b9b-47fe-831c-8053520af065\" data-root-id=\"1002\"></div>\n",
       "</div>\n",
       "<script type=\"application/javascript\">(function(root) {\n",
       "  function embed_document(root) {\n",
       "    var docs_json = {\"fb814123-8379-49a8-83fe-4a6aac256572\":{\"defs\":[{\"extends\":null,\"module\":null,\"name\":\"ReactiveHTML1\",\"overrides\":[],\"properties\":[]},{\"extends\":null,\"module\":null,\"name\":\"FlexBox1\",\"overrides\":[],\"properties\":[{\"default\":\"flex-start\",\"kind\":null,\"name\":\"align_content\"},{\"default\":\"flex-start\",\"kind\":null,\"name\":\"align_items\"},{\"default\":\"row\",\"kind\":null,\"name\":\"flex_direction\"},{\"default\":\"wrap\",\"kind\":null,\"name\":\"flex_wrap\"},{\"default\":\"flex-start\",\"kind\":null,\"name\":\"justify_content\"}]},{\"extends\":null,\"module\":null,\"name\":\"TemplateActions1\",\"overrides\":[],\"properties\":[{\"default\":0,\"kind\":null,\"name\":\"open_modal\"},{\"default\":0,\"kind\":null,\"name\":\"close_modal\"}]},{\"extends\":null,\"module\":null,\"name\":\"MaterialTemplateActions1\",\"overrides\":[],\"properties\":[{\"default\":0,\"kind\":null,\"name\":\"open_modal\"},{\"default\":0,\"kind\":null,\"name\":\"close_modal\"}]}],\"roots\":{\"references\":[{\"attributes\":{},\"id\":\"1012\",\"type\":\"LinearScale\"},{\"attributes\":{},\"id\":\"1059\",\"type\":\"UnionRenderers\"},{\"attributes\":{\"callback\":null,\"renderers\":[{\"id\":\"1043\"}],\"tags\":[\"hv_created\"],\"tooltips\":[[\"index\",\"@{index}\"],[\"Close\",\"@{Close}\"]]},\"id\":\"1006\",\"type\":\"HoverTool\"},{\"attributes\":{},\"id\":\"1014\",\"type\":\"LinearScale\"},{\"attributes\":{\"coordinates\":null,\"data_source\":{\"id\":\"1037\"},\"glyph\":{\"id\":\"1040\"},\"group\":null,\"hover_glyph\":null,\"muted_glyph\":{\"id\":\"1042\"},\"nonselection_glyph\":{\"id\":\"1041\"},\"selection_glyph\":{\"id\":\"1045\"},\"view\":{\"id\":\"1044\"}},\"id\":\"1043\",\"type\":\"GlyphRenderer\"},{\"attributes\":{\"below\":[{\"id\":\"1016\"}],\"center\":[{\"id\":\"1019\"},{\"id\":\"1023\"}],\"height\":300,\"left\":[{\"id\":\"1020\"}],\"margin\":[5,5,5,5],\"min_border_bottom\":10,\"min_border_left\":10,\"min_border_right\":10,\"min_border_top\":10,\"renderers\":[{\"id\":\"1043\"}],\"sizing_mode\":\"fixed\",\"title\":{\"id\":\"1008\"},\"toolbar\":{\"id\":\"1030\"},\"width\":700,\"x_range\":{\"id\":\"1004\"},\"x_scale\":{\"id\":\"1012\"},\"y_range\":{\"id\":\"1005\"},\"y_scale\":{\"id\":\"1014\"}},\"id\":\"1007\",\"subtype\":\"Figure\",\"type\":\"Plot\"},{\"attributes\":{\"axis\":{\"id\":\"1020\"},\"coordinates\":null,\"dimension\":1,\"grid_line_color\":null,\"group\":null,\"ticker\":null},\"id\":\"1023\",\"type\":\"Grid\"},{\"attributes\":{\"margin\":[5,5,5,5],\"name\":\"HSpacer01632\",\"sizing_mode\":\"stretch_width\"},\"id\":\"1072\",\"type\":\"Spacer\"},{\"attributes\":{\"bottom_units\":\"screen\",\"coordinates\":null,\"fill_alpha\":0.5,\"fill_color\":\"lightgrey\",\"group\":null,\"left_units\":\"screen\",\"level\":\"overlay\",\"line_alpha\":1.0,\"line_color\":\"black\",\"line_dash\":[4,4],\"line_width\":2,\"right_units\":\"screen\",\"syncable\":false,\"top_units\":\"screen\"},\"id\":\"1029\",\"type\":\"BoxAnnotation\"},{\"attributes\":{\"data\":{\"Close\":{\"__ndarray__\":\"AAAAAACAPEBSuB6F61E8QK5H4XoU7jxA\",\"dtype\":\"float64\",\"order\":\"little\",\"shape\":[3]},\"index\":[30,31,32]},\"selected\":{\"id\":\"1038\"},\"selection_policy\":{\"id\":\"1059\"}},\"id\":\"1037\",\"type\":\"ColumnDataSource\"},{\"attributes\":{\"axis_label\":\"\",\"coordinates\":null,\"formatter\":{\"id\":\"1047\"},\"group\":null,\"major_label_policy\":{\"id\":\"1048\"},\"ticker\":{\"id\":\"1017\"}},\"id\":\"1016\",\"type\":\"LinearAxis\"},{\"attributes\":{},\"id\":\"1017\",\"type\":\"BasicTicker\"},{\"attributes\":{\"axis_label\":\"Close\",\"coordinates\":null,\"formatter\":{\"id\":\"1050\"},\"group\":null,\"major_label_policy\":{\"id\":\"1051\"},\"ticker\":{\"id\":\"1021\"}},\"id\":\"1020\",\"type\":\"LinearAxis\"},{\"attributes\":{},\"id\":\"1021\",\"type\":\"BasicTicker\"},{\"attributes\":{\"end\":32.0,\"reset_end\":32.0,\"reset_start\":30.0,\"start\":30.0,\"tags\":[[[\"index\",\"index\",null]]]},\"id\":\"1004\",\"type\":\"Range1d\"},{\"attributes\":{},\"id\":\"1038\",\"type\":\"Selection\"},{\"attributes\":{\"line_color\":\"#30a2da\",\"line_width\":2,\"x\":{\"field\":\"index\"},\"y\":{\"field\":\"Close\"}},\"id\":\"1045\",\"type\":\"Line\"},{\"attributes\":{},\"id\":\"1024\",\"type\":\"SaveTool\"},{\"attributes\":{},\"id\":\"1025\",\"type\":\"PanTool\"},{\"attributes\":{},\"id\":\"1047\",\"type\":\"BasicTickFormatter\"},{\"attributes\":{},\"id\":\"1026\",\"type\":\"WheelZoomTool\"},{\"attributes\":{\"overlay\":{\"id\":\"1029\"}},\"id\":\"1027\",\"type\":\"BoxZoomTool\"},{\"attributes\":{},\"id\":\"1028\",\"type\":\"ResetTool\"},{\"attributes\":{\"tools\":[{\"id\":\"1006\"},{\"id\":\"1024\"},{\"id\":\"1025\"},{\"id\":\"1026\"},{\"id\":\"1027\"},{\"id\":\"1028\"}]},\"id\":\"1030\",\"type\":\"Toolbar\"},{\"attributes\":{\"margin\":[5,5,5,5],\"name\":\"HSpacer01631\",\"sizing_mode\":\"stretch_width\"},\"id\":\"1003\",\"type\":\"Spacer\"},{\"attributes\":{},\"id\":\"1048\",\"type\":\"AllLabels\"},{\"attributes\":{\"source\":{\"id\":\"1037\"}},\"id\":\"1044\",\"type\":\"CDSView\"},{\"attributes\":{\"line_color\":\"#30a2da\",\"line_width\":2,\"x\":{\"field\":\"index\"},\"y\":{\"field\":\"Close\"}},\"id\":\"1040\",\"type\":\"Line\"},{\"attributes\":{},\"id\":\"1050\",\"type\":\"BasicTickFormatter\"},{\"attributes\":{\"line_alpha\":0.1,\"line_color\":\"#30a2da\",\"line_width\":2,\"x\":{\"field\":\"index\"},\"y\":{\"field\":\"Close\"}},\"id\":\"1041\",\"type\":\"Line\"},{\"attributes\":{},\"id\":\"1051\",\"type\":\"AllLabels\"},{\"attributes\":{\"line_alpha\":0.2,\"line_color\":\"#30a2da\",\"line_width\":2,\"x\":{\"field\":\"index\"},\"y\":{\"field\":\"Close\"}},\"id\":\"1042\",\"type\":\"Line\"},{\"attributes\":{\"coordinates\":null,\"group\":null,\"text_color\":\"black\",\"text_font_size\":\"12pt\"},\"id\":\"1008\",\"type\":\"Title\"},{\"attributes\":{\"children\":[{\"id\":\"1003\"},{\"id\":\"1007\"},{\"id\":\"1072\"}],\"margin\":[0,0,0,0],\"name\":\"Row01627\",\"tags\":[\"embedded\"]},\"id\":\"1002\",\"type\":\"Row\"},{\"attributes\":{\"end\":28.991,\"reset_end\":28.991,\"reset_start\":28.259,\"start\":28.259,\"tags\":[[[\"Close\",\"Close\",null]]]},\"id\":\"1005\",\"type\":\"Range1d\"},{\"attributes\":{\"axis\":{\"id\":\"1016\"},\"coordinates\":null,\"grid_line_color\":null,\"group\":null,\"ticker\":null},\"id\":\"1019\",\"type\":\"Grid\"}],\"root_ids\":[\"1002\"]},\"title\":\"Bokeh Application\",\"version\":\"2.4.2\"}};\n",
       "    var render_items = [{\"docid\":\"fb814123-8379-49a8-83fe-4a6aac256572\",\"root_ids\":[\"1002\"],\"roots\":{\"1002\":\"3e64a770-1b9b-47fe-831c-8053520af065\"}}];\n",
       "    root.Bokeh.embed.embed_items_notebook(docs_json, render_items);\n",
       "  }\n",
       "  if (root.Bokeh !== undefined && root.Bokeh.Panel !== undefined) {\n",
       "    embed_document(root);\n",
       "  } else {\n",
       "    var attempts = 0;\n",
       "    var timer = setInterval(function(root) {\n",
       "      if (root.Bokeh !== undefined && root.Bokeh.Panel !== undefined) {\n",
       "        clearInterval(timer);\n",
       "        embed_document(root);\n",
       "      } else if (document.readyState == \"complete\") {\n",
       "        attempts++;\n",
       "        if (attempts > 200) {\n",
       "          clearInterval(timer);\n",
       "          console.log(\"Bokeh: ERROR: Unable to run BokehJS code because BokehJS library is missing\");\n",
       "        }\n",
       "      }\n",
       "    }, 25, root)\n",
       "  }\n",
       "})(window);</script>"
      ],
      "text/plain": [
       ":Curve   [index]   (Close)"
      ]
     },
     "execution_count": 103,
     "metadata": {
      "application/vnd.holoviews_exec.v0+json": {
       "id": "1002"
      }
     },
     "output_type": "execute_result"
    }
   ],
   "source": [
    "fbdaily2013.hvplot()"
   ]
  },
  {
   "cell_type": "code",
   "execution_count": 111,
   "metadata": {},
   "outputs": [
    {
     "data": {},
     "metadata": {},
     "output_type": "display_data"
    },
    {
     "data": {
      "application/vnd.holoviews_exec.v0+json": "",
      "text/html": [
       "<div id='1720'>\n",
       "\n",
       "\n",
       "\n",
       "\n",
       "\n",
       "  <div class=\"bk-root\" id=\"7d100af4-9ad9-4b9a-802b-6c53acfdb71c\" data-root-id=\"1720\"></div>\n",
       "</div>\n",
       "<script type=\"application/javascript\">(function(root) {\n",
       "  function embed_document(root) {\n",
       "    var docs_json = {\"398e741f-5ac9-4e20-b11d-f8ff4a2b0dea\":{\"defs\":[{\"extends\":null,\"module\":null,\"name\":\"ReactiveHTML1\",\"overrides\":[],\"properties\":[]},{\"extends\":null,\"module\":null,\"name\":\"FlexBox1\",\"overrides\":[],\"properties\":[{\"default\":\"flex-start\",\"kind\":null,\"name\":\"align_content\"},{\"default\":\"flex-start\",\"kind\":null,\"name\":\"align_items\"},{\"default\":\"row\",\"kind\":null,\"name\":\"flex_direction\"},{\"default\":\"wrap\",\"kind\":null,\"name\":\"flex_wrap\"},{\"default\":\"flex-start\",\"kind\":null,\"name\":\"justify_content\"}]},{\"extends\":null,\"module\":null,\"name\":\"TemplateActions1\",\"overrides\":[],\"properties\":[{\"default\":0,\"kind\":null,\"name\":\"open_modal\"},{\"default\":0,\"kind\":null,\"name\":\"close_modal\"}]},{\"extends\":null,\"module\":null,\"name\":\"MaterialTemplateActions1\",\"overrides\":[],\"properties\":[{\"default\":0,\"kind\":null,\"name\":\"open_modal\"},{\"default\":0,\"kind\":null,\"name\":\"close_modal\"}]}],\"roots\":{\"references\":[{\"attributes\":{\"coordinates\":null,\"group\":null,\"text_color\":\"black\",\"text_font_size\":\"12pt\"},\"id\":\"1727\",\"type\":\"Title\"},{\"attributes\":{},\"id\":\"1733\",\"type\":\"LinearScale\"},{\"attributes\":{\"axis_label\":\"\",\"coordinates\":null,\"formatter\":{\"id\":\"1757\"},\"group\":null,\"major_label_policy\":{\"id\":\"1758\"},\"ticker\":{\"id\":\"1736\"}},\"id\":\"1735\",\"type\":\"LinearAxis\"},{\"attributes\":{},\"id\":\"1772\",\"type\":\"Selection\"},{\"attributes\":{\"children\":[{\"id\":\"1721\"},{\"id\":\"1726\"},{\"id\":\"1888\"}],\"margin\":[0,0,0,0],\"name\":\"Row02894\",\"tags\":[\"embedded\"]},\"id\":\"1720\",\"type\":\"Row\"},{\"attributes\":{},\"id\":\"1736\",\"type\":\"BasicTicker\"},{\"attributes\":{},\"id\":\"1760\",\"type\":\"BasicTickFormatter\"},{\"attributes\":{\"coordinates\":null,\"data_source\":{\"id\":\"1771\"},\"glyph\":{\"id\":\"1774\"},\"group\":null,\"hover_glyph\":null,\"muted_glyph\":{\"id\":\"1776\"},\"nonselection_glyph\":{\"id\":\"1775\"},\"selection_glyph\":{\"id\":\"1779\"},\"view\":{\"id\":\"1778\"}},\"id\":\"1777\",\"type\":\"GlyphRenderer\"},{\"attributes\":{\"axis\":{\"id\":\"1735\"},\"coordinates\":null,\"grid_line_color\":null,\"group\":null,\"ticker\":null},\"id\":\"1738\",\"type\":\"Grid\"},{\"attributes\":{},\"id\":\"1763\",\"type\":\"Selection\"},{\"attributes\":{\"axis_label\":\"Close\",\"coordinates\":null,\"formatter\":{\"id\":\"1760\"},\"group\":null,\"major_label_policy\":{\"id\":\"1761\"},\"ticker\":{\"id\":\"1740\"}},\"id\":\"1739\",\"type\":\"LinearAxis\"},{\"attributes\":{\"line_alpha\":0.1,\"line_color\":\"#fc4f30\",\"line_width\":2,\"x\":{\"field\":\"index\"},\"y\":{\"field\":\"Close\"}},\"id\":\"1775\",\"type\":\"Line\"},{\"attributes\":{\"source\":{\"id\":\"1771\"}},\"id\":\"1778\",\"type\":\"CDSView\"},{\"attributes\":{},\"id\":\"1745\",\"type\":\"WheelZoomTool\"},{\"attributes\":{\"line_color\":\"#30a2da\",\"line_width\":2,\"x\":{\"field\":\"index\"},\"y\":{\"field\":\"Close\"}},\"id\":\"1765\",\"type\":\"Line\"},{\"attributes\":{\"line_color\":\"#fc4f30\",\"line_width\":2,\"x\":{\"field\":\"index\"},\"y\":{\"field\":\"Close\"}},\"id\":\"1774\",\"type\":\"Line\"},{\"attributes\":{},\"id\":\"1744\",\"type\":\"PanTool\"},{\"attributes\":{\"end\":29.11,\"reset_end\":29.11,\"reset_start\":26.95,\"start\":26.95,\"tags\":[[[\"Close\",\"Close\",null]]]},\"id\":\"1723\",\"type\":\"Range1d\"},{\"attributes\":{\"line_alpha\":0.2,\"line_color\":\"#fc4f30\",\"line_width\":2,\"x\":{\"field\":\"index\"},\"y\":{\"field\":\"Close\"}},\"id\":\"1776\",\"type\":\"Line\"},{\"attributes\":{\"line_alpha\":0.1,\"line_color\":\"#30a2da\",\"line_width\":2,\"x\":{\"field\":\"index\"},\"y\":{\"field\":\"Close\"}},\"id\":\"1766\",\"type\":\"Line\"},{\"attributes\":{},\"id\":\"1740\",\"type\":\"BasicTicker\"},{\"attributes\":{\"axis\":{\"id\":\"1739\"},\"coordinates\":null,\"dimension\":1,\"grid_line_color\":null,\"group\":null,\"ticker\":null},\"id\":\"1742\",\"type\":\"Grid\"},{\"attributes\":{\"line_color\":\"#fc4f30\",\"line_width\":2,\"x\":{\"field\":\"index\"},\"y\":{\"field\":\"Close\"}},\"id\":\"1779\",\"type\":\"Line\"},{\"attributes\":{},\"id\":\"1743\",\"type\":\"SaveTool\"},{\"attributes\":{},\"id\":\"1761\",\"type\":\"AllLabels\"},{\"attributes\":{},\"id\":\"1787\",\"type\":\"UnionRenderers\"},{\"attributes\":{\"overlay\":{\"id\":\"1748\"}},\"id\":\"1746\",\"type\":\"BoxZoomTool\"},{\"attributes\":{},\"id\":\"1747\",\"type\":\"ResetTool\"},{\"attributes\":{\"bottom_units\":\"screen\",\"coordinates\":null,\"fill_alpha\":0.5,\"fill_color\":\"lightgrey\",\"group\":null,\"left_units\":\"screen\",\"level\":\"overlay\",\"line_alpha\":1.0,\"line_color\":\"black\",\"line_dash\":[4,4],\"line_width\":2,\"right_units\":\"screen\",\"syncable\":false,\"top_units\":\"screen\"},\"id\":\"1748\",\"type\":\"BoxAnnotation\"},{\"attributes\":{\"tools\":[{\"id\":\"1724\"},{\"id\":\"1743\"},{\"id\":\"1744\"},{\"id\":\"1745\"},{\"id\":\"1746\"},{\"id\":\"1747\"}]},\"id\":\"1749\",\"type\":\"Toolbar\"},{\"attributes\":{},\"id\":\"1757\",\"type\":\"BasicTickFormatter\"},{\"attributes\":{\"line_color\":\"#30a2da\",\"line_width\":2,\"x\":{\"field\":\"index\"},\"y\":{\"field\":\"Close\"}},\"id\":\"1770\",\"type\":\"Line\"},{\"attributes\":{\"source\":{\"id\":\"1762\"}},\"id\":\"1769\",\"type\":\"CDSView\"},{\"attributes\":{\"margin\":[5,5,5,5],\"name\":\"HSpacer02899\",\"sizing_mode\":\"stretch_width\"},\"id\":\"1888\",\"type\":\"Spacer\"},{\"attributes\":{\"data\":{\"Close\":{\"__ndarray__\":\"zczMzMyMPEBSuB6F61E8QOF6FK5HITtA\",\"dtype\":\"float64\",\"order\":\"little\",\"shape\":[3]},\"index\":[5,6,7]},\"selected\":{\"id\":\"1763\"},\"selection_policy\":{\"id\":\"1787\"}},\"id\":\"1762\",\"type\":\"ColumnDataSource\"},{\"attributes\":{\"line_alpha\":0.2,\"line_color\":\"#30a2da\",\"line_width\":2,\"x\":{\"field\":\"index\"},\"y\":{\"field\":\"Close\"}},\"id\":\"1767\",\"type\":\"Line\"},{\"attributes\":{\"callback\":null,\"renderers\":[{\"id\":\"1768\"},{\"id\":\"1777\"}],\"tags\":[\"hv_created\"],\"tooltips\":[[\"index\",\"@{index}\"],[\"Close\",\"@{Close}\"]]},\"id\":\"1724\",\"type\":\"HoverTool\"},{\"attributes\":{},\"id\":\"1789\",\"type\":\"UnionRenderers\"},{\"attributes\":{\"coordinates\":null,\"data_source\":{\"id\":\"1762\"},\"glyph\":{\"id\":\"1765\"},\"group\":null,\"hover_glyph\":null,\"muted_glyph\":{\"id\":\"1767\"},\"nonselection_glyph\":{\"id\":\"1766\"},\"selection_glyph\":{\"id\":\"1770\"},\"view\":{\"id\":\"1769\"}},\"id\":\"1768\",\"type\":\"GlyphRenderer\"},{\"attributes\":{\"data\":{\"Close\":{\"__ndarray__\":\"AAAAAACAPEBSuB6F61E8QK5H4XoU7jxA\",\"dtype\":\"float64\",\"order\":\"little\",\"shape\":[3]},\"index\":[30,31,32]},\"selected\":{\"id\":\"1772\"},\"selection_policy\":{\"id\":\"1789\"}},\"id\":\"1771\",\"type\":\"ColumnDataSource\"},{\"attributes\":{},\"id\":\"1731\",\"type\":\"LinearScale\"},{\"attributes\":{},\"id\":\"1758\",\"type\":\"AllLabels\"},{\"attributes\":{\"end\":32.0,\"reset_end\":32.0,\"reset_start\":5.0,\"start\":5.0,\"tags\":[[[\"index\",\"index\",null]]]},\"id\":\"1722\",\"type\":\"Range1d\"},{\"attributes\":{\"below\":[{\"id\":\"1735\"}],\"center\":[{\"id\":\"1738\"},{\"id\":\"1742\"}],\"height\":300,\"left\":[{\"id\":\"1739\"}],\"margin\":[5,5,5,5],\"min_border_bottom\":10,\"min_border_left\":10,\"min_border_right\":10,\"min_border_top\":10,\"renderers\":[{\"id\":\"1768\"},{\"id\":\"1777\"}],\"sizing_mode\":\"fixed\",\"title\":{\"id\":\"1727\"},\"toolbar\":{\"id\":\"1749\"},\"width\":700,\"x_range\":{\"id\":\"1722\"},\"x_scale\":{\"id\":\"1731\"},\"y_range\":{\"id\":\"1723\"},\"y_scale\":{\"id\":\"1733\"}},\"id\":\"1726\",\"subtype\":\"Figure\",\"type\":\"Plot\"},{\"attributes\":{\"margin\":[5,5,5,5],\"name\":\"HSpacer02898\",\"sizing_mode\":\"stretch_width\"},\"id\":\"1721\",\"type\":\"Spacer\"}],\"root_ids\":[\"1720\"]},\"title\":\"Bokeh Application\",\"version\":\"2.4.2\"}};\n",
       "    var render_items = [{\"docid\":\"398e741f-5ac9-4e20-b11d-f8ff4a2b0dea\",\"root_ids\":[\"1720\"],\"roots\":{\"1720\":\"7d100af4-9ad9-4b9a-802b-6c53acfdb71c\"}}];\n",
       "    root.Bokeh.embed.embed_items_notebook(docs_json, render_items);\n",
       "  }\n",
       "  if (root.Bokeh !== undefined && root.Bokeh.Panel !== undefined) {\n",
       "    embed_document(root);\n",
       "  } else {\n",
       "    var attempts = 0;\n",
       "    var timer = setInterval(function(root) {\n",
       "      if (root.Bokeh !== undefined && root.Bokeh.Panel !== undefined) {\n",
       "        clearInterval(timer);\n",
       "        embed_document(root);\n",
       "      } else if (document.readyState == \"complete\") {\n",
       "        attempts++;\n",
       "        if (attempts > 200) {\n",
       "          clearInterval(timer);\n",
       "          console.log(\"Bokeh: ERROR: Unable to run BokehJS code because BokehJS library is missing\");\n",
       "        }\n",
       "      }\n",
       "    }, 25, root)\n",
       "  }\n",
       "})(window);</script>"
      ],
      "text/plain": [
       ":Overlay\n",
       "   .Curve.I  :Curve   [index]   (Close)\n",
       "   .Curve.II :Curve   [index]   (Close)"
      ]
     },
     "execution_count": 111,
     "metadata": {
      "application/vnd.holoviews_exec.v0+json": {
       "id": "1720"
      }
     },
     "output_type": "execute_result"
    }
   ],
   "source": [
    "\n",
    "fbweekly2013.hvplot.()"
   ]
  },
  {
   "cell_type": "code",
   "execution_count": 135,
   "metadata": {},
   "outputs": [
    {
     "data": {},
     "metadata": {},
     "output_type": "display_data"
    },
    {
     "data": {
      "application/vnd.holoviews_exec.v0+json": "",
      "text/html": [
       "<div id='5535'>\n",
       "\n",
       "\n",
       "\n",
       "\n",
       "\n",
       "  <div class=\"bk-root\" id=\"e6d0d05e-502d-426c-ab42-0a5269ad9a04\" data-root-id=\"5535\"></div>\n",
       "</div>\n",
       "<script type=\"application/javascript\">(function(root) {\n",
       "  function embed_document(root) {\n",
       "    var docs_json = {\"89896b10-e299-4809-b881-7a4c75e2dabc\":{\"defs\":[{\"extends\":null,\"module\":null,\"name\":\"ReactiveHTML1\",\"overrides\":[],\"properties\":[]},{\"extends\":null,\"module\":null,\"name\":\"FlexBox1\",\"overrides\":[],\"properties\":[{\"default\":\"flex-start\",\"kind\":null,\"name\":\"align_content\"},{\"default\":\"flex-start\",\"kind\":null,\"name\":\"align_items\"},{\"default\":\"row\",\"kind\":null,\"name\":\"flex_direction\"},{\"default\":\"wrap\",\"kind\":null,\"name\":\"flex_wrap\"},{\"default\":\"flex-start\",\"kind\":null,\"name\":\"justify_content\"}]},{\"extends\":null,\"module\":null,\"name\":\"TemplateActions1\",\"overrides\":[],\"properties\":[{\"default\":0,\"kind\":null,\"name\":\"open_modal\"},{\"default\":0,\"kind\":null,\"name\":\"close_modal\"}]},{\"extends\":null,\"module\":null,\"name\":\"MaterialTemplateActions1\",\"overrides\":[],\"properties\":[{\"default\":0,\"kind\":null,\"name\":\"open_modal\"},{\"default\":0,\"kind\":null,\"name\":\"close_modal\"}]}],\"roots\":{\"references\":[{\"attributes\":{\"coordinates\":null,\"group\":null,\"text_color\":\"black\",\"text_font_size\":\"12pt\"},\"id\":\"5587\",\"type\":\"Title\"},{\"attributes\":{},\"id\":\"5593\",\"type\":\"LinearScale\"},{\"attributes\":{\"axis\":{\"id\":\"5595\"},\"coordinates\":null,\"grid_line_color\":null,\"group\":null,\"ticker\":null},\"id\":\"5598\",\"type\":\"Grid\"},{\"attributes\":{\"line_alpha\":0.1,\"line_color\":\"#30a2da\",\"line_width\":2,\"x\":{\"field\":\"index\"},\"y\":{\"field\":\"Close\"}},\"id\":\"5574\",\"type\":\"Line\"},{\"attributes\":{},\"id\":\"5604\",\"type\":\"PanTool\"},{\"attributes\":{},\"id\":\"5547\",\"type\":\"LinearScale\"},{\"attributes\":{\"axis_label\":\"\",\"coordinates\":null,\"formatter\":{\"id\":\"5626\"},\"group\":null,\"major_label_policy\":{\"id\":\"5627\"},\"ticker\":{\"id\":\"5596\"}},\"id\":\"5595\",\"type\":\"LinearAxis\"},{\"attributes\":{\"axis\":{\"id\":\"5599\"},\"coordinates\":null,\"dimension\":1,\"grid_line_color\":null,\"group\":null,\"ticker\":null},\"id\":\"5602\",\"type\":\"Grid\"},{\"attributes\":{\"margin\":[5,5,5,5],\"name\":\"HSpacer11682\",\"sizing_mode\":\"stretch_width\"},\"id\":\"5536\",\"type\":\"Spacer\"},{\"attributes\":{\"end\":185.0,\"reset_end\":185.0,\"reset_start\":37.0,\"start\":37.0,\"tags\":[[[\"index\",\"index\",null]]]},\"id\":\"5537\",\"type\":\"Range1d\"},{\"attributes\":{\"axis\":{\"id\":\"5549\"},\"coordinates\":null,\"grid_line_color\":null,\"group\":null,\"ticker\":null},\"id\":\"5552\",\"type\":\"Grid\"},{\"attributes\":{},\"id\":\"5596\",\"type\":\"BasicTicker\"},{\"attributes\":{\"data\":{\"Close\":{\"__ndarray__\":\"hetRuB6tZECF61G4Hp1kQGZmZmZm3mRA\",\"dtype\":\"float64\",\"order\":\"little\",\"shape\":[3]},\"index\":[183,184,185]},\"selected\":{\"id\":\"5571\"},\"selection_policy\":{\"id\":\"5638\"}},\"id\":\"5570\",\"type\":\"ColumnDataSource\"},{\"attributes\":{\"children\":[{\"id\":\"5536\"},{\"id\":\"5656\"},{\"id\":\"5837\"}],\"margin\":[0,0,0,0],\"name\":\"Row11678\",\"tags\":[\"embedded\"]},\"id\":\"5535\",\"type\":\"Row\"},{\"attributes\":{\"callback\":null,\"renderers\":[{\"id\":\"5576\"}],\"tags\":[\"hv_created\"],\"tooltips\":[[\"index\",\"@{index}\"],[\"Close\",\"@{Close}\"]]},\"id\":\"5539\",\"type\":\"HoverTool\"},{\"attributes\":{\"axis_label\":\"Close\",\"coordinates\":null,\"formatter\":{\"id\":\"5629\"},\"group\":null,\"major_label_policy\":{\"id\":\"5630\"},\"ticker\":{\"id\":\"5600\"}},\"id\":\"5599\",\"type\":\"LinearAxis\"},{\"attributes\":{},\"id\":\"5600\",\"type\":\"BasicTicker\"},{\"attributes\":{},\"id\":\"5649\",\"type\":\"UnionRenderers\"},{\"attributes\":{},\"id\":\"5605\",\"type\":\"WheelZoomTool\"},{\"attributes\":{},\"id\":\"5545\",\"type\":\"LinearScale\"},{\"attributes\":{},\"id\":\"5603\",\"type\":\"SaveTool\"},{\"attributes\":{\"end\":167.91199999999998,\"reset_end\":167.91199999999998,\"reset_start\":156.36800000000002,\"start\":156.36800000000002,\"tags\":[[[\"Close\",\"Close\",null]]]},\"id\":\"5538\",\"type\":\"Range1d\"},{\"attributes\":{\"overlay\":{\"id\":\"5608\"}},\"id\":\"5606\",\"type\":\"BoxZoomTool\"},{\"attributes\":{},\"id\":\"5558\",\"type\":\"PanTool\"},{\"attributes\":{},\"id\":\"5607\",\"type\":\"ResetTool\"},{\"attributes\":{\"coordinates\":null,\"group\":null,\"text_color\":\"black\",\"text_font_size\":\"12pt\"},\"id\":\"5541\",\"type\":\"Title\"},{\"attributes\":{\"below\":[{\"id\":\"5549\"}],\"center\":[{\"id\":\"5552\"},{\"id\":\"5556\"}],\"height\":300,\"left\":[{\"id\":\"5553\"}],\"margin\":null,\"min_border_bottom\":10,\"min_border_left\":10,\"min_border_right\":10,\"min_border_top\":10,\"renderers\":[{\"id\":\"5576\"}],\"sizing_mode\":\"fixed\",\"title\":{\"id\":\"5541\"},\"toolbar\":{\"id\":\"5563\"},\"toolbar_location\":null,\"width\":700,\"x_range\":{\"id\":\"5537\"},\"x_scale\":{\"id\":\"5545\"},\"y_range\":{\"id\":\"5538\"},\"y_scale\":{\"id\":\"5547\"}},\"id\":\"5540\",\"subtype\":\"Figure\",\"type\":\"Plot\"},{\"attributes\":{\"bottom_units\":\"screen\",\"coordinates\":null,\"fill_alpha\":0.5,\"fill_color\":\"lightgrey\",\"group\":null,\"left_units\":\"screen\",\"level\":\"overlay\",\"line_alpha\":1.0,\"line_color\":\"black\",\"line_dash\":[4,4],\"line_width\":2,\"right_units\":\"screen\",\"syncable\":false,\"top_units\":\"screen\"},\"id\":\"5608\",\"type\":\"BoxAnnotation\"},{\"attributes\":{\"axis\":{\"id\":\"5553\"},\"coordinates\":null,\"dimension\":1,\"grid_line_color\":null,\"group\":null,\"ticker\":null},\"id\":\"5556\",\"type\":\"Grid\"},{\"attributes\":{\"toolbar\":{\"id\":\"5654\"},\"toolbar_location\":\"above\"},\"id\":\"5655\",\"type\":\"ToolbarBox\"},{\"attributes\":{},\"id\":\"5626\",\"type\":\"BasicTickFormatter\"},{\"attributes\":{},\"id\":\"5638\",\"type\":\"UnionRenderers\"},{\"attributes\":{\"axis_label\":\"\",\"coordinates\":null,\"formatter\":{\"id\":\"5580\"},\"group\":null,\"major_label_policy\":{\"id\":\"5581\"},\"ticker\":{\"id\":\"5550\"}},\"id\":\"5549\",\"type\":\"LinearAxis\"},{\"attributes\":{\"line_color\":\"#30a2da\",\"line_width\":2,\"x\":{\"field\":\"index\"},\"y\":{\"field\":\"Close\"}},\"id\":\"5619\",\"type\":\"Line\"},{\"attributes\":{},\"id\":\"5571\",\"type\":\"Selection\"},{\"attributes\":{},\"id\":\"5550\",\"type\":\"BasicTicker\"},{\"attributes\":{\"axis_label\":\"Close\",\"coordinates\":null,\"formatter\":{\"id\":\"5583\"},\"group\":null,\"major_label_policy\":{\"id\":\"5584\"},\"ticker\":{\"id\":\"5554\"}},\"id\":\"5553\",\"type\":\"LinearAxis\"},{\"attributes\":{\"line_alpha\":0.1,\"line_color\":\"#30a2da\",\"line_width\":2,\"x\":{\"field\":\"index\"},\"y\":{\"field\":\"Close\"}},\"id\":\"5620\",\"type\":\"Line\"},{\"attributes\":{},\"id\":\"5554\",\"type\":\"BasicTicker\"},{\"attributes\":{},\"id\":\"5559\",\"type\":\"WheelZoomTool\"},{\"attributes\":{},\"id\":\"5557\",\"type\":\"SaveTool\"},{\"attributes\":{\"overlay\":{\"id\":\"5562\"}},\"id\":\"5560\",\"type\":\"BoxZoomTool\"},{\"attributes\":{},\"id\":\"5561\",\"type\":\"ResetTool\"},{\"attributes\":{\"bottom_units\":\"screen\",\"coordinates\":null,\"fill_alpha\":0.5,\"fill_color\":\"lightgrey\",\"group\":null,\"left_units\":\"screen\",\"level\":\"overlay\",\"line_alpha\":1.0,\"line_color\":\"black\",\"line_dash\":[4,4],\"line_width\":2,\"right_units\":\"screen\",\"syncable\":false,\"top_units\":\"screen\"},\"id\":\"5562\",\"type\":\"BoxAnnotation\"},{\"attributes\":{},\"id\":\"5584\",\"type\":\"AllLabels\"},{\"attributes\":{},\"id\":\"5591\",\"type\":\"LinearScale\"},{\"attributes\":{\"line_alpha\":0.2,\"line_color\":\"#30a2da\",\"line_width\":2,\"x\":{\"field\":\"index\"},\"y\":{\"field\":\"Close\"}},\"id\":\"5575\",\"type\":\"Line\"},{\"attributes\":{},\"id\":\"5627\",\"type\":\"AllLabels\"},{\"attributes\":{\"data\":{\"Close\":{\"__ndarray__\":\"9ihcj8JdZEAfhetRuI5kQMP1KFyPqmNA\",\"dtype\":\"float64\",\"order\":\"little\",\"shape\":[3]},\"index\":[37,38,39]},\"selected\":{\"id\":\"5617\"},\"selection_policy\":{\"id\":\"5649\"}},\"id\":\"5616\",\"type\":\"ColumnDataSource\"},{\"attributes\":{\"toolbars\":[{\"id\":\"5563\"},{\"id\":\"5609\"}],\"tools\":[{\"id\":\"5539\"},{\"id\":\"5557\"},{\"id\":\"5558\"},{\"id\":\"5559\"},{\"id\":\"5560\"},{\"id\":\"5561\"},{\"id\":\"5585\"},{\"id\":\"5603\"},{\"id\":\"5604\"},{\"id\":\"5605\"},{\"id\":\"5606\"},{\"id\":\"5607\"}]},\"id\":\"5654\",\"type\":\"ProxyToolbar\"},{\"attributes\":{\"source\":{\"id\":\"5570\"}},\"id\":\"5577\",\"type\":\"CDSView\"},{\"attributes\":{},\"id\":\"5629\",\"type\":\"BasicTickFormatter\"},{\"attributes\":{\"below\":[{\"id\":\"5595\"}],\"center\":[{\"id\":\"5598\"},{\"id\":\"5602\"}],\"height\":300,\"left\":[{\"id\":\"5599\"}],\"margin\":null,\"min_border_bottom\":10,\"min_border_left\":10,\"min_border_right\":10,\"min_border_top\":10,\"renderers\":[{\"id\":\"5622\"}],\"sizing_mode\":\"fixed\",\"title\":{\"id\":\"5587\"},\"toolbar\":{\"id\":\"5609\"},\"toolbar_location\":null,\"width\":700,\"x_range\":{\"id\":\"5537\"},\"x_scale\":{\"id\":\"5591\"},\"y_range\":{\"id\":\"5538\"},\"y_scale\":{\"id\":\"5593\"}},\"id\":\"5586\",\"subtype\":\"Figure\",\"type\":\"Plot\"},{\"attributes\":{\"coordinates\":null,\"data_source\":{\"id\":\"5570\"},\"glyph\":{\"id\":\"5573\"},\"group\":null,\"hover_glyph\":null,\"muted_glyph\":{\"id\":\"5575\"},\"nonselection_glyph\":{\"id\":\"5574\"},\"selection_glyph\":{\"id\":\"5578\"},\"view\":{\"id\":\"5577\"}},\"id\":\"5576\",\"type\":\"GlyphRenderer\"},{\"attributes\":{\"children\":[[{\"id\":\"5540\"},0,0],[{\"id\":\"5586\"},0,1]]},\"id\":\"5653\",\"type\":\"GridBox\"},{\"attributes\":{},\"id\":\"5583\",\"type\":\"BasicTickFormatter\"},{\"attributes\":{\"children\":[{\"id\":\"5655\"},{\"id\":\"5653\"}]},\"id\":\"5656\",\"type\":\"Column\"},{\"attributes\":{\"tools\":[{\"id\":\"5539\"},{\"id\":\"5557\"},{\"id\":\"5558\"},{\"id\":\"5559\"},{\"id\":\"5560\"},{\"id\":\"5561\"}]},\"id\":\"5563\",\"type\":\"Toolbar\"},{\"attributes\":{\"line_color\":\"#30a2da\",\"line_width\":2,\"x\":{\"field\":\"index\"},\"y\":{\"field\":\"Close\"}},\"id\":\"5578\",\"type\":\"Line\"},{\"attributes\":{},\"id\":\"5580\",\"type\":\"BasicTickFormatter\"},{\"attributes\":{\"tools\":[{\"id\":\"5585\"},{\"id\":\"5603\"},{\"id\":\"5604\"},{\"id\":\"5605\"},{\"id\":\"5606\"},{\"id\":\"5607\"}]},\"id\":\"5609\",\"type\":\"Toolbar\"},{\"attributes\":{\"callback\":null,\"renderers\":[{\"id\":\"5622\"}],\"tags\":[\"hv_created\"],\"tooltips\":[[\"index\",\"@{index}\"],[\"Close\",\"@{Close}\"]]},\"id\":\"5585\",\"type\":\"HoverTool\"},{\"attributes\":{},\"id\":\"5617\",\"type\":\"Selection\"},{\"attributes\":{\"line_color\":\"#30a2da\",\"line_width\":2,\"x\":{\"field\":\"index\"},\"y\":{\"field\":\"Close\"}},\"id\":\"5573\",\"type\":\"Line\"},{\"attributes\":{},\"id\":\"5630\",\"type\":\"AllLabels\"},{\"attributes\":{\"line_color\":\"#30a2da\",\"line_width\":2,\"x\":{\"field\":\"index\"},\"y\":{\"field\":\"Close\"}},\"id\":\"5624\",\"type\":\"Line\"},{\"attributes\":{\"margin\":[5,5,5,5],\"name\":\"HSpacer11683\",\"sizing_mode\":\"stretch_width\"},\"id\":\"5837\",\"type\":\"Spacer\"},{\"attributes\":{\"coordinates\":null,\"data_source\":{\"id\":\"5616\"},\"glyph\":{\"id\":\"5619\"},\"group\":null,\"hover_glyph\":null,\"muted_glyph\":{\"id\":\"5621\"},\"nonselection_glyph\":{\"id\":\"5620\"},\"selection_glyph\":{\"id\":\"5624\"},\"view\":{\"id\":\"5623\"}},\"id\":\"5622\",\"type\":\"GlyphRenderer\"},{\"attributes\":{\"source\":{\"id\":\"5616\"}},\"id\":\"5623\",\"type\":\"CDSView\"},{\"attributes\":{},\"id\":\"5581\",\"type\":\"AllLabels\"},{\"attributes\":{\"line_alpha\":0.2,\"line_color\":\"#30a2da\",\"line_width\":2,\"x\":{\"field\":\"index\"},\"y\":{\"field\":\"Close\"}},\"id\":\"5621\",\"type\":\"Line\"}],\"root_ids\":[\"5535\"]},\"title\":\"Bokeh Application\",\"version\":\"2.4.2\"}};\n",
       "    var render_items = [{\"docid\":\"89896b10-e299-4809-b881-7a4c75e2dabc\",\"root_ids\":[\"5535\"],\"roots\":{\"5535\":\"e6d0d05e-502d-426c-ab42-0a5269ad9a04\"}}];\n",
       "    root.Bokeh.embed.embed_items_notebook(docs_json, render_items);\n",
       "  }\n",
       "  if (root.Bokeh !== undefined && root.Bokeh.Panel !== undefined) {\n",
       "    embed_document(root);\n",
       "  } else {\n",
       "    var attempts = 0;\n",
       "    var timer = setInterval(function(root) {\n",
       "      if (root.Bokeh !== undefined && root.Bokeh.Panel !== undefined) {\n",
       "        clearInterval(timer);\n",
       "        embed_document(root);\n",
       "      } else if (document.readyState == \"complete\") {\n",
       "        attempts++;\n",
       "        if (attempts > 200) {\n",
       "          clearInterval(timer);\n",
       "          console.log(\"Bokeh: ERROR: Unable to run BokehJS code because BokehJS library is missing\");\n",
       "        }\n",
       "      }\n",
       "    }, 25, root)\n",
       "  }\n",
       "})(window);</script>"
      ],
      "text/plain": [
       ":Layout\n",
       "   .Curve.I  :Curve   [index]   (Close)\n",
       "   .Curve.II :Curve   [index]   (Close)"
      ]
     },
     "execution_count": 135,
     "metadata": {
      "application/vnd.holoviews_exec.v0+json": {
       "id": "5535"
      }
     },
     "output_type": "execute_result"
    }
   ],
   "source": [
    "fbdaily2018.hvplot() + fbweekly2018.hvplot()"
   ]
  },
  {
   "cell_type": "code",
   "execution_count": 109,
   "metadata": {},
   "outputs": [
    {
     "data": {},
     "metadata": {},
     "output_type": "display_data"
    },
    {
     "data": {
      "application/vnd.holoviews_exec.v0+json": "",
      "text/html": [
       "<div id='1368'>\n",
       "\n",
       "\n",
       "\n",
       "\n",
       "\n",
       "  <div class=\"bk-root\" id=\"491f9ea8-1d64-4c67-9f9b-389393f82824\" data-root-id=\"1368\"></div>\n",
       "</div>\n",
       "<script type=\"application/javascript\">(function(root) {\n",
       "  function embed_document(root) {\n",
       "    var docs_json = {\"304e762d-4e7d-420f-a5dc-1cb853bc7733\":{\"defs\":[{\"extends\":null,\"module\":null,\"name\":\"ReactiveHTML1\",\"overrides\":[],\"properties\":[]},{\"extends\":null,\"module\":null,\"name\":\"FlexBox1\",\"overrides\":[],\"properties\":[{\"default\":\"flex-start\",\"kind\":null,\"name\":\"align_content\"},{\"default\":\"flex-start\",\"kind\":null,\"name\":\"align_items\"},{\"default\":\"row\",\"kind\":null,\"name\":\"flex_direction\"},{\"default\":\"wrap\",\"kind\":null,\"name\":\"flex_wrap\"},{\"default\":\"flex-start\",\"kind\":null,\"name\":\"justify_content\"}]},{\"extends\":null,\"module\":null,\"name\":\"TemplateActions1\",\"overrides\":[],\"properties\":[{\"default\":0,\"kind\":null,\"name\":\"open_modal\"},{\"default\":0,\"kind\":null,\"name\":\"close_modal\"}]},{\"extends\":null,\"module\":null,\"name\":\"MaterialTemplateActions1\",\"overrides\":[],\"properties\":[{\"default\":0,\"kind\":null,\"name\":\"open_modal\"},{\"default\":0,\"kind\":null,\"name\":\"close_modal\"}]}],\"roots\":{\"references\":[{\"attributes\":{},\"id\":\"1378\",\"type\":\"LinearScale\"},{\"attributes\":{\"callback\":null,\"renderers\":[{\"id\":\"1409\"}],\"tags\":[\"hv_created\"],\"tooltips\":[[\"index\",\"@{index}\"],[\"Close\",\"@{Close}\"]]},\"id\":\"1372\",\"type\":\"HoverTool\"},{\"attributes\":{\"data\":{\"Close\":{\"__ndarray__\":\"9ihcj8JdZEAfhetRuI5kQMP1KFyPqmNA\",\"dtype\":\"float64\",\"order\":\"little\",\"shape\":[3]},\"index\":[37,38,39]},\"selected\":{\"id\":\"1404\"},\"selection_policy\":{\"id\":\"1425\"}},\"id\":\"1403\",\"type\":\"ColumnDataSource\"},{\"attributes\":{\"end\":39.0,\"reset_end\":39.0,\"reset_start\":37.0,\"start\":37.0,\"tags\":[[[\"index\",\"index\",null]]]},\"id\":\"1370\",\"type\":\"Range1d\"},{\"attributes\":{\"line_alpha\":0.1,\"line_color\":\"#30a2da\",\"line_width\":2,\"x\":{\"field\":\"index\"},\"y\":{\"field\":\"Close\"}},\"id\":\"1407\",\"type\":\"Line\"},{\"attributes\":{\"axis\":{\"id\":\"1382\"},\"coordinates\":null,\"grid_line_color\":null,\"group\":null,\"ticker\":null},\"id\":\"1385\",\"type\":\"Grid\"},{\"attributes\":{\"bottom_units\":\"screen\",\"coordinates\":null,\"fill_alpha\":0.5,\"fill_color\":\"lightgrey\",\"group\":null,\"left_units\":\"screen\",\"level\":\"overlay\",\"line_alpha\":1.0,\"line_color\":\"black\",\"line_dash\":[4,4],\"line_width\":2,\"right_units\":\"screen\",\"syncable\":false,\"top_units\":\"screen\"},\"id\":\"1395\",\"type\":\"BoxAnnotation\"},{\"attributes\":{\"end\":165.173,\"reset_end\":165.173,\"reset_start\":156.61700000000002,\"start\":156.61700000000002,\"tags\":[[[\"Close\",\"Close\",null]]]},\"id\":\"1371\",\"type\":\"Range1d\"},{\"attributes\":{\"below\":[{\"id\":\"1382\"}],\"center\":[{\"id\":\"1385\"},{\"id\":\"1389\"}],\"height\":300,\"left\":[{\"id\":\"1386\"}],\"margin\":[5,5,5,5],\"min_border_bottom\":10,\"min_border_left\":10,\"min_border_right\":10,\"min_border_top\":10,\"renderers\":[{\"id\":\"1409\"}],\"sizing_mode\":\"fixed\",\"title\":{\"id\":\"1374\"},\"toolbar\":{\"id\":\"1396\"},\"width\":700,\"x_range\":{\"id\":\"1370\"},\"x_scale\":{\"id\":\"1378\"},\"y_range\":{\"id\":\"1371\"},\"y_scale\":{\"id\":\"1380\"}},\"id\":\"1373\",\"subtype\":\"Figure\",\"type\":\"Plot\"},{\"attributes\":{},\"id\":\"1391\",\"type\":\"PanTool\"},{\"attributes\":{\"coordinates\":null,\"group\":null,\"text_color\":\"black\",\"text_font_size\":\"12pt\"},\"id\":\"1374\",\"type\":\"Title\"},{\"attributes\":{\"axis\":{\"id\":\"1386\"},\"coordinates\":null,\"dimension\":1,\"grid_line_color\":null,\"group\":null,\"ticker\":null},\"id\":\"1389\",\"type\":\"Grid\"},{\"attributes\":{},\"id\":\"1425\",\"type\":\"UnionRenderers\"},{\"attributes\":{\"tools\":[{\"id\":\"1372\"},{\"id\":\"1390\"},{\"id\":\"1391\"},{\"id\":\"1392\"},{\"id\":\"1393\"},{\"id\":\"1394\"}]},\"id\":\"1396\",\"type\":\"Toolbar\"},{\"attributes\":{\"axis_label\":\"\",\"coordinates\":null,\"formatter\":{\"id\":\"1413\"},\"group\":null,\"major_label_policy\":{\"id\":\"1414\"},\"ticker\":{\"id\":\"1383\"}},\"id\":\"1382\",\"type\":\"LinearAxis\"},{\"attributes\":{\"line_color\":\"#30a2da\",\"line_width\":2,\"x\":{\"field\":\"index\"},\"y\":{\"field\":\"Close\"}},\"id\":\"1406\",\"type\":\"Line\"},{\"attributes\":{},\"id\":\"1383\",\"type\":\"BasicTicker\"},{\"attributes\":{},\"id\":\"1413\",\"type\":\"BasicTickFormatter\"},{\"attributes\":{\"axis_label\":\"Close\",\"coordinates\":null,\"formatter\":{\"id\":\"1416\"},\"group\":null,\"major_label_policy\":{\"id\":\"1417\"},\"ticker\":{\"id\":\"1387\"}},\"id\":\"1386\",\"type\":\"LinearAxis\"},{\"attributes\":{},\"id\":\"1416\",\"type\":\"BasicTickFormatter\"},{\"attributes\":{},\"id\":\"1404\",\"type\":\"Selection\"},{\"attributes\":{},\"id\":\"1387\",\"type\":\"BasicTicker\"},{\"attributes\":{},\"id\":\"1417\",\"type\":\"AllLabels\"},{\"attributes\":{\"coordinates\":null,\"data_source\":{\"id\":\"1403\"},\"glyph\":{\"id\":\"1406\"},\"group\":null,\"hover_glyph\":null,\"muted_glyph\":{\"id\":\"1408\"},\"nonselection_glyph\":{\"id\":\"1407\"},\"selection_glyph\":{\"id\":\"1411\"},\"view\":{\"id\":\"1410\"}},\"id\":\"1409\",\"type\":\"GlyphRenderer\"},{\"attributes\":{},\"id\":\"1392\",\"type\":\"WheelZoomTool\"},{\"attributes\":{\"line_alpha\":0.2,\"line_color\":\"#30a2da\",\"line_width\":2,\"x\":{\"field\":\"index\"},\"y\":{\"field\":\"Close\"}},\"id\":\"1408\",\"type\":\"Line\"},{\"attributes\":{},\"id\":\"1390\",\"type\":\"SaveTool\"},{\"attributes\":{\"source\":{\"id\":\"1403\"}},\"id\":\"1410\",\"type\":\"CDSView\"},{\"attributes\":{\"children\":[{\"id\":\"1369\"},{\"id\":\"1373\"},{\"id\":\"1438\"}],\"margin\":[0,0,0,0],\"name\":\"Row02161\",\"tags\":[\"embedded\"]},\"id\":\"1368\",\"type\":\"Row\"},{\"attributes\":{\"overlay\":{\"id\":\"1395\"}},\"id\":\"1393\",\"type\":\"BoxZoomTool\"},{\"attributes\":{\"line_color\":\"#30a2da\",\"line_width\":2,\"x\":{\"field\":\"index\"},\"y\":{\"field\":\"Close\"}},\"id\":\"1411\",\"type\":\"Line\"},{\"attributes\":{},\"id\":\"1394\",\"type\":\"ResetTool\"},{\"attributes\":{},\"id\":\"1414\",\"type\":\"AllLabels\"},{\"attributes\":{},\"id\":\"1380\",\"type\":\"LinearScale\"},{\"attributes\":{\"margin\":[5,5,5,5],\"name\":\"HSpacer02165\",\"sizing_mode\":\"stretch_width\"},\"id\":\"1369\",\"type\":\"Spacer\"},{\"attributes\":{\"margin\":[5,5,5,5],\"name\":\"HSpacer02166\",\"sizing_mode\":\"stretch_width\"},\"id\":\"1438\",\"type\":\"Spacer\"}],\"root_ids\":[\"1368\"]},\"title\":\"Bokeh Application\",\"version\":\"2.4.2\"}};\n",
       "    var render_items = [{\"docid\":\"304e762d-4e7d-420f-a5dc-1cb853bc7733\",\"root_ids\":[\"1368\"],\"roots\":{\"1368\":\"491f9ea8-1d64-4c67-9f9b-389393f82824\"}}];\n",
       "    root.Bokeh.embed.embed_items_notebook(docs_json, render_items);\n",
       "  }\n",
       "  if (root.Bokeh !== undefined && root.Bokeh.Panel !== undefined) {\n",
       "    embed_document(root);\n",
       "  } else {\n",
       "    var attempts = 0;\n",
       "    var timer = setInterval(function(root) {\n",
       "      if (root.Bokeh !== undefined && root.Bokeh.Panel !== undefined) {\n",
       "        clearInterval(timer);\n",
       "        embed_document(root);\n",
       "      } else if (document.readyState == \"complete\") {\n",
       "        attempts++;\n",
       "        if (attempts > 200) {\n",
       "          clearInterval(timer);\n",
       "          console.log(\"Bokeh: ERROR: Unable to run BokehJS code because BokehJS library is missing\");\n",
       "        }\n",
       "      }\n",
       "    }, 25, root)\n",
       "  }\n",
       "})(window);</script>"
      ],
      "text/plain": [
       ":Curve   [index]   (Close)"
      ]
     },
     "execution_count": 109,
     "metadata": {
      "application/vnd.holoviews_exec.v0+json": {
       "id": "1368"
      }
     },
     "output_type": "execute_result"
    }
   ],
   "source": [
    "fbweekly2018.hvplot()"
   ]
  },
  {
   "cell_type": "code",
   "execution_count": 134,
   "metadata": {},
   "outputs": [
    {
     "data": {},
     "metadata": {},
     "output_type": "display_data"
    },
    {
     "data": {
      "application/vnd.holoviews_exec.v0+json": "",
      "text/html": [
       "<div id='5173'>\n",
       "\n",
       "\n",
       "\n",
       "\n",
       "\n",
       "  <div class=\"bk-root\" id=\"8bc5196c-0391-48cf-9de5-f7608eec5c21\" data-root-id=\"5173\"></div>\n",
       "</div>\n",
       "<script type=\"application/javascript\">(function(root) {\n",
       "  function embed_document(root) {\n",
       "    var docs_json = {\"d0013a66-f95a-441f-b2d8-74713f0c3da4\":{\"defs\":[{\"extends\":null,\"module\":null,\"name\":\"ReactiveHTML1\",\"overrides\":[],\"properties\":[]},{\"extends\":null,\"module\":null,\"name\":\"FlexBox1\",\"overrides\":[],\"properties\":[{\"default\":\"flex-start\",\"kind\":null,\"name\":\"align_content\"},{\"default\":\"flex-start\",\"kind\":null,\"name\":\"align_items\"},{\"default\":\"row\",\"kind\":null,\"name\":\"flex_direction\"},{\"default\":\"wrap\",\"kind\":null,\"name\":\"flex_wrap\"},{\"default\":\"flex-start\",\"kind\":null,\"name\":\"justify_content\"}]},{\"extends\":null,\"module\":null,\"name\":\"TemplateActions1\",\"overrides\":[],\"properties\":[{\"default\":0,\"kind\":null,\"name\":\"open_modal\"},{\"default\":0,\"kind\":null,\"name\":\"close_modal\"}]},{\"extends\":null,\"module\":null,\"name\":\"MaterialTemplateActions1\",\"overrides\":[],\"properties\":[{\"default\":0,\"kind\":null,\"name\":\"open_modal\"},{\"default\":0,\"kind\":null,\"name\":\"close_modal\"}]}],\"roots\":{\"references\":[{\"attributes\":{\"label\":{\"value\":\"Facebook 2018 daily close\"},\"renderers\":[{\"id\":\"5243\"}]},\"id\":\"5257\",\"type\":\"LegendItem\"},{\"attributes\":{},\"id\":\"5254\",\"type\":\"UnionRenderers\"},{\"attributes\":{\"coordinates\":null,\"group\":null,\"text_color\":\"black\",\"text_font_size\":\"12pt\"},\"id\":\"5182\",\"type\":\"Title\"},{\"attributes\":{\"line_alpha\":0.2,\"line_color\":\"#e5ae38\",\"line_width\":2,\"x\":{\"field\":\"Date\"},\"y\":{\"field\":\"Close\"}},\"id\":\"5264\",\"type\":\"Line\"},{\"attributes\":{\"axis_label\":\"Date\",\"coordinates\":null,\"formatter\":{\"id\":\"5211\"},\"group\":null,\"major_label_policy\":{\"id\":\"5212\"},\"ticker\":{\"id\":\"5191\"}},\"id\":\"5190\",\"type\":\"CategoricalAxis\"},{\"attributes\":{},\"id\":\"5199\",\"type\":\"WheelZoomTool\"},{\"attributes\":{\"axis\":{\"id\":\"5190\"},\"coordinates\":null,\"grid_line_color\":null,\"group\":null,\"ticker\":null},\"id\":\"5192\",\"type\":\"Grid\"},{\"attributes\":{\"line_color\":\"#e5ae38\",\"line_width\":2,\"x\":{\"field\":\"Date\"},\"y\":{\"field\":\"Close\"}},\"id\":\"5282\",\"type\":\"Line\"},{\"attributes\":{\"line_alpha\":0.2,\"line_color\":\"#6d904f\",\"line_width\":2,\"x\":{\"field\":\"Date\"},\"y\":{\"field\":\"Close\"}},\"id\":\"5288\",\"type\":\"Line\"},{\"attributes\":{},\"id\":\"5212\",\"type\":\"AllLabels\"},{\"attributes\":{},\"id\":\"5188\",\"type\":\"LinearScale\"},{\"attributes\":{\"source\":{\"id\":\"5237\"}},\"id\":\"5244\",\"type\":\"CDSView\"},{\"attributes\":{\"coordinates\":null,\"data_source\":{\"id\":\"5283\"},\"glyph\":{\"id\":\"5286\"},\"group\":null,\"hover_glyph\":null,\"muted_glyph\":{\"id\":\"5288\"},\"nonselection_glyph\":{\"id\":\"5287\"},\"selection_glyph\":{\"id\":\"5308\"},\"view\":{\"id\":\"5290\"}},\"id\":\"5289\",\"type\":\"GlyphRenderer\"},{\"attributes\":{\"axis\":{\"id\":\"5193\"},\"coordinates\":null,\"dimension\":1,\"grid_line_color\":null,\"group\":null,\"ticker\":null},\"id\":\"5196\",\"type\":\"Grid\"},{\"attributes\":{},\"id\":\"5194\",\"type\":\"BasicTicker\"},{\"attributes\":{\"margin\":[5,5,5,5],\"name\":\"HSpacer10918\",\"sizing_mode\":\"stretch_width\"},\"id\":\"5453\",\"type\":\"Spacer\"},{\"attributes\":{\"axis_label\":\"Close\",\"coordinates\":null,\"formatter\":{\"id\":\"5214\"},\"group\":null,\"major_label_policy\":{\"id\":\"5215\"},\"ticker\":{\"id\":\"5194\"}},\"id\":\"5193\",\"type\":\"LinearAxis\"},{\"attributes\":{\"coordinates\":null,\"data_source\":{\"id\":\"5237\"},\"glyph\":{\"id\":\"5240\"},\"group\":null,\"hover_glyph\":null,\"muted_glyph\":{\"id\":\"5242\"},\"nonselection_glyph\":{\"id\":\"5241\"},\"selection_glyph\":{\"id\":\"5258\"},\"view\":{\"id\":\"5244\"}},\"id\":\"5243\",\"type\":\"GlyphRenderer\"},{\"attributes\":{},\"id\":\"5191\",\"type\":\"CategoricalTicker\"},{\"attributes\":{\"line_color\":\"#fc4f30\",\"line_width\":2,\"x\":{\"field\":\"Date\"},\"y\":{\"field\":\"Close\"}},\"id\":\"5240\",\"type\":\"Line\"},{\"attributes\":{\"overlay\":{\"id\":\"5202\"}},\"id\":\"5200\",\"type\":\"BoxZoomTool\"},{\"attributes\":{},\"id\":\"5304\",\"type\":\"UnionRenderers\"},{\"attributes\":{},\"id\":\"5197\",\"type\":\"SaveTool\"},{\"attributes\":{},\"id\":\"5284\",\"type\":\"Selection\"},{\"attributes\":{},\"id\":\"5201\",\"type\":\"ResetTool\"},{\"attributes\":{\"label\":{\"value\":\"Facebook 2013 wekly close\"},\"renderers\":[{\"id\":\"5289\"}]},\"id\":\"5307\",\"type\":\"LegendItem\"},{\"attributes\":{},\"id\":\"5231\",\"type\":\"UnionRenderers\"},{\"attributes\":{\"bottom_units\":\"screen\",\"coordinates\":null,\"fill_alpha\":0.5,\"fill_color\":\"lightgrey\",\"group\":null,\"left_units\":\"screen\",\"level\":\"overlay\",\"line_alpha\":1.0,\"line_color\":\"black\",\"line_dash\":[4,4],\"line_width\":2,\"right_units\":\"screen\",\"syncable\":false,\"top_units\":\"screen\"},\"id\":\"5202\",\"type\":\"BoxAnnotation\"},{\"attributes\":{\"line_color\":\"#6d904f\",\"line_width\":2,\"x\":{\"field\":\"Date\"},\"y\":{\"field\":\"Close\"}},\"id\":\"5286\",\"type\":\"Line\"},{\"attributes\":{\"line_alpha\":0.1,\"line_color\":\"#30a2da\",\"line_width\":2,\"x\":{\"field\":\"Date\"},\"y\":{\"field\":\"Close\"}},\"id\":\"5220\",\"type\":\"Line\"},{\"attributes\":{\"source\":{\"id\":\"5283\"}},\"id\":\"5290\",\"type\":\"CDSView\"},{\"attributes\":{\"source\":{\"id\":\"5216\"}},\"id\":\"5223\",\"type\":\"CDSView\"},{\"attributes\":{\"coordinates\":null,\"data_source\":{\"id\":\"5216\"},\"glyph\":{\"id\":\"5219\"},\"group\":null,\"hover_glyph\":null,\"muted_glyph\":{\"id\":\"5221\"},\"nonselection_glyph\":{\"id\":\"5220\"},\"selection_glyph\":{\"id\":\"5236\"},\"view\":{\"id\":\"5223\"}},\"id\":\"5222\",\"type\":\"GlyphRenderer\"},{\"attributes\":{\"coordinates\":null,\"data_source\":{\"id\":\"5259\"},\"glyph\":{\"id\":\"5262\"},\"group\":null,\"hover_glyph\":null,\"muted_glyph\":{\"id\":\"5264\"},\"nonselection_glyph\":{\"id\":\"5263\"},\"selection_glyph\":{\"id\":\"5282\"},\"view\":{\"id\":\"5266\"}},\"id\":\"5265\",\"type\":\"GlyphRenderer\"},{\"attributes\":{\"line_color\":\"#30a2da\",\"line_width\":2,\"x\":{\"field\":\"Date\"},\"y\":{\"field\":\"Close\"}},\"id\":\"5219\",\"type\":\"Line\"},{\"attributes\":{\"line_alpha\":0.1,\"line_color\":\"#6d904f\",\"line_width\":2,\"x\":{\"field\":\"Date\"},\"y\":{\"field\":\"Close\"}},\"id\":\"5287\",\"type\":\"Line\"},{\"attributes\":{\"line_alpha\":0.1,\"line_color\":\"#fc4f30\",\"line_width\":2,\"x\":{\"field\":\"Date\"},\"y\":{\"field\":\"Close\"}},\"id\":\"5241\",\"type\":\"Line\"},{\"attributes\":{\"line_color\":\"#fc4f30\",\"line_width\":2,\"x\":{\"field\":\"Date\"},\"y\":{\"field\":\"Close\"}},\"id\":\"5258\",\"type\":\"Line\"},{\"attributes\":{\"data\":{\"Close\":{\"__ndarray__\":\"zczMzMyMPEBSuB6F61E8QOF6FK5HITtA\",\"dtype\":\"float64\",\"order\":\"little\",\"shape\":[3]},\"Date\":[\"2013-02-08\",\"2013-02-15\",\"2013-02-22\"]},\"selected\":{\"id\":\"5284\"},\"selection_policy\":{\"id\":\"5304\"}},\"id\":\"5283\",\"type\":\"ColumnDataSource\"},{\"attributes\":{\"line_alpha\":0.2,\"line_color\":\"#fc4f30\",\"line_width\":2,\"x\":{\"field\":\"Date\"},\"y\":{\"field\":\"Close\"}},\"id\":\"5242\",\"type\":\"Line\"},{\"attributes\":{},\"id\":\"5198\",\"type\":\"PanTool\"},{\"attributes\":{},\"id\":\"5214\",\"type\":\"BasicTickFormatter\"},{\"attributes\":{},\"id\":\"5278\",\"type\":\"UnionRenderers\"},{\"attributes\":{},\"id\":\"5260\",\"type\":\"Selection\"},{\"attributes\":{\"label\":{\"value\":\"Facebook 2018 weekly close\"},\"renderers\":[{\"id\":\"5265\"}]},\"id\":\"5281\",\"type\":\"LegendItem\"},{\"attributes\":{\"label\":{\"value\":\"Facebook 2013 daily close\"},\"renderers\":[{\"id\":\"5222\"}]},\"id\":\"5235\",\"type\":\"LegendItem\"},{\"attributes\":{\"line_color\":\"#6d904f\",\"line_width\":2,\"x\":{\"field\":\"Date\"},\"y\":{\"field\":\"Close\"}},\"id\":\"5308\",\"type\":\"Line\"},{\"attributes\":{\"line_color\":\"#e5ae38\",\"line_width\":2,\"x\":{\"field\":\"Date\"},\"y\":{\"field\":\"Close\"}},\"id\":\"5262\",\"type\":\"Line\"},{\"attributes\":{\"source\":{\"id\":\"5259\"}},\"id\":\"5266\",\"type\":\"CDSView\"},{\"attributes\":{\"data\":{\"Close\":{\"__ndarray__\":\"hetRuB6tZECF61G4Hp1kQGZmZmZm3mRA\",\"dtype\":\"float64\",\"order\":\"little\",\"shape\":[3]},\"Date\":[\"2018-09-24\",\"2018-09-25\",\"2018-09-26\"]},\"selected\":{\"id\":\"5238\"},\"selection_policy\":{\"id\":\"5254\"}},\"id\":\"5237\",\"type\":\"ColumnDataSource\"},{\"attributes\":{\"end\":180.932,\"reset_end\":180.932,\"reset_start\":13.148,\"start\":13.148,\"tags\":[[[\"Close\",\"Close\",null]]]},\"id\":\"5176\",\"type\":\"Range1d\"},{\"attributes\":{},\"id\":\"5217\",\"type\":\"Selection\"},{\"attributes\":{\"below\":[{\"id\":\"5190\"}],\"center\":[{\"id\":\"5192\"},{\"id\":\"5196\"},{\"id\":\"5234\"}],\"height\":300,\"left\":[{\"id\":\"5193\"}],\"margin\":[5,5,5,5],\"min_border_bottom\":10,\"min_border_left\":10,\"min_border_right\":10,\"min_border_top\":10,\"renderers\":[{\"id\":\"5222\"},{\"id\":\"5243\"},{\"id\":\"5265\"},{\"id\":\"5289\"}],\"sizing_mode\":\"fixed\",\"title\":{\"id\":\"5182\"},\"toolbar\":{\"id\":\"5203\"},\"width\":700,\"x_range\":{\"id\":\"5175\"},\"x_scale\":{\"id\":\"5186\"},\"y_range\":{\"id\":\"5176\"},\"y_scale\":{\"id\":\"5188\"}},\"id\":\"5181\",\"subtype\":\"Figure\",\"type\":\"Plot\"},{\"attributes\":{\"tools\":[{\"id\":\"5177\"},{\"id\":\"5197\"},{\"id\":\"5198\"},{\"id\":\"5199\"},{\"id\":\"5200\"},{\"id\":\"5201\"}]},\"id\":\"5203\",\"type\":\"Toolbar\"},{\"attributes\":{\"line_alpha\":0.1,\"line_color\":\"#e5ae38\",\"line_width\":2,\"x\":{\"field\":\"Date\"},\"y\":{\"field\":\"Close\"}},\"id\":\"5263\",\"type\":\"Line\"},{\"attributes\":{\"callback\":null,\"renderers\":[{\"id\":\"5222\"},{\"id\":\"5243\"},{\"id\":\"5265\"},{\"id\":\"5289\"}],\"tags\":[\"hv_created\"],\"tooltips\":[[\"Date\",\"@{Date}\"],[\"Close\",\"@{Close}\"]]},\"id\":\"5177\",\"type\":\"HoverTool\"},{\"attributes\":{},\"id\":\"5186\",\"type\":\"CategoricalScale\"},{\"attributes\":{\"line_alpha\":0.2,\"line_color\":\"#30a2da\",\"line_width\":2,\"x\":{\"field\":\"Date\"},\"y\":{\"field\":\"Close\"}},\"id\":\"5221\",\"type\":\"Line\"},{\"attributes\":{\"margin\":[5,5,5,5],\"name\":\"HSpacer10917\",\"sizing_mode\":\"stretch_width\"},\"id\":\"5174\",\"type\":\"Spacer\"},{\"attributes\":{\"data\":{\"Close\":{\"__ndarray__\":\"AAAAAACAPEBSuB6F61E8QK5H4XoU7jxA\",\"dtype\":\"float64\",\"order\":\"little\",\"shape\":[3]},\"Date\":[\"2013-02-14\",\"2013-02-15\",\"2013-02-19\"]},\"selected\":{\"id\":\"5217\"},\"selection_policy\":{\"id\":\"5231\"}},\"id\":\"5216\",\"type\":\"ColumnDataSource\"},{\"attributes\":{\"line_color\":\"#30a2da\",\"line_width\":2,\"x\":{\"field\":\"Date\"},\"y\":{\"field\":\"Close\"}},\"id\":\"5236\",\"type\":\"Line\"},{\"attributes\":{\"click_policy\":\"mute\",\"coordinates\":null,\"group\":null,\"items\":[{\"id\":\"5235\"},{\"id\":\"5257\"},{\"id\":\"5281\"},{\"id\":\"5307\"}]},\"id\":\"5234\",\"type\":\"Legend\"},{\"attributes\":{\"data\":{\"Close\":{\"__ndarray__\":\"9ihcj8JdZEAfhetRuI5kQMP1KFyPqmNA\",\"dtype\":\"float64\",\"order\":\"little\",\"shape\":[3]},\"Date\":[\"2018-09-21\",\"2018-09-28\",\"2018-10-05\"]},\"selected\":{\"id\":\"5260\"},\"selection_policy\":{\"id\":\"5278\"}},\"id\":\"5259\",\"type\":\"ColumnDataSource\"},{\"attributes\":{},\"id\":\"5215\",\"type\":\"AllLabels\"},{\"attributes\":{\"children\":[{\"id\":\"5174\"},{\"id\":\"5181\"},{\"id\":\"5453\"}],\"margin\":[0,0,0,0],\"name\":\"Row10913\",\"tags\":[\"embedded\"]},\"id\":\"5173\",\"type\":\"Row\"},{\"attributes\":{},\"id\":\"5238\",\"type\":\"Selection\"},{\"attributes\":{\"factors\":[\"2013-02-14\",\"2013-02-15\",\"2013-02-19\",\"2018-09-24\",\"2018-09-25\",\"2018-09-26\",\"2018-09-21\",\"2018-09-28\",\"2018-10-05\",\"2013-02-08\",\"2013-02-22\"],\"tags\":[[[\"Date\",\"Date\",null]]]},\"id\":\"5175\",\"type\":\"FactorRange\"},{\"attributes\":{},\"id\":\"5211\",\"type\":\"CategoricalTickFormatter\"}],\"root_ids\":[\"5173\"]},\"title\":\"Bokeh Application\",\"version\":\"2.4.2\"}};\n",
       "    var render_items = [{\"docid\":\"d0013a66-f95a-441f-b2d8-74713f0c3da4\",\"root_ids\":[\"5173\"],\"roots\":{\"5173\":\"8bc5196c-0391-48cf-9de5-f7608eec5c21\"}}];\n",
       "    root.Bokeh.embed.embed_items_notebook(docs_json, render_items);\n",
       "  }\n",
       "  if (root.Bokeh !== undefined && root.Bokeh.Panel !== undefined) {\n",
       "    embed_document(root);\n",
       "  } else {\n",
       "    var attempts = 0;\n",
       "    var timer = setInterval(function(root) {\n",
       "      if (root.Bokeh !== undefined && root.Bokeh.Panel !== undefined) {\n",
       "        clearInterval(timer);\n",
       "        embed_document(root);\n",
       "      } else if (document.readyState == \"complete\") {\n",
       "        attempts++;\n",
       "        if (attempts > 200) {\n",
       "          clearInterval(timer);\n",
       "          console.log(\"Bokeh: ERROR: Unable to run BokehJS code because BokehJS library is missing\");\n",
       "        }\n",
       "      }\n",
       "    }, 25, root)\n",
       "  }\n",
       "})(window);</script>"
      ],
      "text/plain": [
       ":Overlay\n",
       "   .Curve.Facebook_2013_daily_close  :Curve   [Date]   (Close)\n",
       "   .Curve.Facebook_2018_daily_close  :Curve   [Date]   (Close)\n",
       "   .Curve.Facebook_2018_weekly_close :Curve   [Date]   (Close)\n",
       "   .Curve.Facebook_2013_wekly_close  :Curve   [Date]   (Close)"
      ]
     },
     "execution_count": 134,
     "metadata": {
      "application/vnd.holoviews_exec.v0+json": {
       "id": "5173"
      }
     },
     "output_type": "execute_result"
    }
   ],
   "source": [
    "fbdaily2013.hvplot.line('Date', 'Close', label=\"Facebook 2013 daily close\") * fbdaily2018.hvplot.line('Date', 'Close', label=\"Facebook 2018 daily close\") * fbweekly2018.hvplot.line('Date', 'Close', label=\"Facebook 2018 weekly close\") * fbweekly2013.hvplot.line('Date', 'Close', label=\"Facebook 2013 wekly close\")"
   ]
  },
  {
   "cell_type": "code",
   "execution_count": 132,
   "metadata": {},
   "outputs": [
    {
     "data": {
      "application/vnd.plotly.v1+json": {
       "config": {
        "plotlyServerURL": "https://plot.ly"
       },
       "data": [
        {
         "hovertemplate": "Date=%{x}<br>Close=%{marker.color}<extra></extra>",
         "legendgroup": "",
         "marker": {
          "color": [
           28.5,
           28.32,
           28.93
          ],
          "coloraxis": "coloraxis",
          "symbol": "circle"
         },
         "mode": "markers",
         "name": "",
         "orientation": "v",
         "showlegend": false,
         "type": "scatter",
         "x": [
          "2013-02-14",
          "2013-02-15",
          "2013-02-19"
         ],
         "xaxis": "x",
         "y": [
          28.5,
          28.32,
          28.93
         ],
         "yaxis": "y"
        }
       ],
       "layout": {
        "coloraxis": {
         "colorbar": {
          "title": {
           "text": "Close"
          }
         },
         "colorscale": [
          [
           0,
           "#0d0887"
          ],
          [
           0.1111111111111111,
           "#46039f"
          ],
          [
           0.2222222222222222,
           "#7201a8"
          ],
          [
           0.3333333333333333,
           "#9c179e"
          ],
          [
           0.4444444444444444,
           "#bd3786"
          ],
          [
           0.5555555555555556,
           "#d8576b"
          ],
          [
           0.6666666666666666,
           "#ed7953"
          ],
          [
           0.7777777777777778,
           "#fb9f3a"
          ],
          [
           0.8888888888888888,
           "#fdca26"
          ],
          [
           1,
           "#f0f921"
          ]
         ]
        },
        "legend": {
         "tracegroupgap": 0
        },
        "margin": {
         "t": 60
        },
        "template": {
         "data": {
          "bar": [
           {
            "error_x": {
             "color": "#2a3f5f"
            },
            "error_y": {
             "color": "#2a3f5f"
            },
            "marker": {
             "line": {
              "color": "#E5ECF6",
              "width": 0.5
             },
             "pattern": {
              "fillmode": "overlay",
              "size": 10,
              "solidity": 0.2
             }
            },
            "type": "bar"
           }
          ],
          "barpolar": [
           {
            "marker": {
             "line": {
              "color": "#E5ECF6",
              "width": 0.5
             },
             "pattern": {
              "fillmode": "overlay",
              "size": 10,
              "solidity": 0.2
             }
            },
            "type": "barpolar"
           }
          ],
          "carpet": [
           {
            "aaxis": {
             "endlinecolor": "#2a3f5f",
             "gridcolor": "white",
             "linecolor": "white",
             "minorgridcolor": "white",
             "startlinecolor": "#2a3f5f"
            },
            "baxis": {
             "endlinecolor": "#2a3f5f",
             "gridcolor": "white",
             "linecolor": "white",
             "minorgridcolor": "white",
             "startlinecolor": "#2a3f5f"
            },
            "type": "carpet"
           }
          ],
          "choropleth": [
           {
            "colorbar": {
             "outlinewidth": 0,
             "ticks": ""
            },
            "type": "choropleth"
           }
          ],
          "contour": [
           {
            "colorbar": {
             "outlinewidth": 0,
             "ticks": ""
            },
            "colorscale": [
             [
              0,
              "#0d0887"
             ],
             [
              0.1111111111111111,
              "#46039f"
             ],
             [
              0.2222222222222222,
              "#7201a8"
             ],
             [
              0.3333333333333333,
              "#9c179e"
             ],
             [
              0.4444444444444444,
              "#bd3786"
             ],
             [
              0.5555555555555556,
              "#d8576b"
             ],
             [
              0.6666666666666666,
              "#ed7953"
             ],
             [
              0.7777777777777778,
              "#fb9f3a"
             ],
             [
              0.8888888888888888,
              "#fdca26"
             ],
             [
              1,
              "#f0f921"
             ]
            ],
            "type": "contour"
           }
          ],
          "contourcarpet": [
           {
            "colorbar": {
             "outlinewidth": 0,
             "ticks": ""
            },
            "type": "contourcarpet"
           }
          ],
          "heatmap": [
           {
            "colorbar": {
             "outlinewidth": 0,
             "ticks": ""
            },
            "colorscale": [
             [
              0,
              "#0d0887"
             ],
             [
              0.1111111111111111,
              "#46039f"
             ],
             [
              0.2222222222222222,
              "#7201a8"
             ],
             [
              0.3333333333333333,
              "#9c179e"
             ],
             [
              0.4444444444444444,
              "#bd3786"
             ],
             [
              0.5555555555555556,
              "#d8576b"
             ],
             [
              0.6666666666666666,
              "#ed7953"
             ],
             [
              0.7777777777777778,
              "#fb9f3a"
             ],
             [
              0.8888888888888888,
              "#fdca26"
             ],
             [
              1,
              "#f0f921"
             ]
            ],
            "type": "heatmap"
           }
          ],
          "heatmapgl": [
           {
            "colorbar": {
             "outlinewidth": 0,
             "ticks": ""
            },
            "colorscale": [
             [
              0,
              "#0d0887"
             ],
             [
              0.1111111111111111,
              "#46039f"
             ],
             [
              0.2222222222222222,
              "#7201a8"
             ],
             [
              0.3333333333333333,
              "#9c179e"
             ],
             [
              0.4444444444444444,
              "#bd3786"
             ],
             [
              0.5555555555555556,
              "#d8576b"
             ],
             [
              0.6666666666666666,
              "#ed7953"
             ],
             [
              0.7777777777777778,
              "#fb9f3a"
             ],
             [
              0.8888888888888888,
              "#fdca26"
             ],
             [
              1,
              "#f0f921"
             ]
            ],
            "type": "heatmapgl"
           }
          ],
          "histogram": [
           {
            "marker": {
             "pattern": {
              "fillmode": "overlay",
              "size": 10,
              "solidity": 0.2
             }
            },
            "type": "histogram"
           }
          ],
          "histogram2d": [
           {
            "colorbar": {
             "outlinewidth": 0,
             "ticks": ""
            },
            "colorscale": [
             [
              0,
              "#0d0887"
             ],
             [
              0.1111111111111111,
              "#46039f"
             ],
             [
              0.2222222222222222,
              "#7201a8"
             ],
             [
              0.3333333333333333,
              "#9c179e"
             ],
             [
              0.4444444444444444,
              "#bd3786"
             ],
             [
              0.5555555555555556,
              "#d8576b"
             ],
             [
              0.6666666666666666,
              "#ed7953"
             ],
             [
              0.7777777777777778,
              "#fb9f3a"
             ],
             [
              0.8888888888888888,
              "#fdca26"
             ],
             [
              1,
              "#f0f921"
             ]
            ],
            "type": "histogram2d"
           }
          ],
          "histogram2dcontour": [
           {
            "colorbar": {
             "outlinewidth": 0,
             "ticks": ""
            },
            "colorscale": [
             [
              0,
              "#0d0887"
             ],
             [
              0.1111111111111111,
              "#46039f"
             ],
             [
              0.2222222222222222,
              "#7201a8"
             ],
             [
              0.3333333333333333,
              "#9c179e"
             ],
             [
              0.4444444444444444,
              "#bd3786"
             ],
             [
              0.5555555555555556,
              "#d8576b"
             ],
             [
              0.6666666666666666,
              "#ed7953"
             ],
             [
              0.7777777777777778,
              "#fb9f3a"
             ],
             [
              0.8888888888888888,
              "#fdca26"
             ],
             [
              1,
              "#f0f921"
             ]
            ],
            "type": "histogram2dcontour"
           }
          ],
          "mesh3d": [
           {
            "colorbar": {
             "outlinewidth": 0,
             "ticks": ""
            },
            "type": "mesh3d"
           }
          ],
          "parcoords": [
           {
            "line": {
             "colorbar": {
              "outlinewidth": 0,
              "ticks": ""
             }
            },
            "type": "parcoords"
           }
          ],
          "pie": [
           {
            "automargin": true,
            "type": "pie"
           }
          ],
          "scatter": [
           {
            "fillpattern": {
             "fillmode": "overlay",
             "size": 10,
             "solidity": 0.2
            },
            "type": "scatter"
           }
          ],
          "scatter3d": [
           {
            "line": {
             "colorbar": {
              "outlinewidth": 0,
              "ticks": ""
             }
            },
            "marker": {
             "colorbar": {
              "outlinewidth": 0,
              "ticks": ""
             }
            },
            "type": "scatter3d"
           }
          ],
          "scattercarpet": [
           {
            "marker": {
             "colorbar": {
              "outlinewidth": 0,
              "ticks": ""
             }
            },
            "type": "scattercarpet"
           }
          ],
          "scattergeo": [
           {
            "marker": {
             "colorbar": {
              "outlinewidth": 0,
              "ticks": ""
             }
            },
            "type": "scattergeo"
           }
          ],
          "scattergl": [
           {
            "marker": {
             "colorbar": {
              "outlinewidth": 0,
              "ticks": ""
             }
            },
            "type": "scattergl"
           }
          ],
          "scattermapbox": [
           {
            "marker": {
             "colorbar": {
              "outlinewidth": 0,
              "ticks": ""
             }
            },
            "type": "scattermapbox"
           }
          ],
          "scatterpolar": [
           {
            "marker": {
             "colorbar": {
              "outlinewidth": 0,
              "ticks": ""
             }
            },
            "type": "scatterpolar"
           }
          ],
          "scatterpolargl": [
           {
            "marker": {
             "colorbar": {
              "outlinewidth": 0,
              "ticks": ""
             }
            },
            "type": "scatterpolargl"
           }
          ],
          "scatterternary": [
           {
            "marker": {
             "colorbar": {
              "outlinewidth": 0,
              "ticks": ""
             }
            },
            "type": "scatterternary"
           }
          ],
          "surface": [
           {
            "colorbar": {
             "outlinewidth": 0,
             "ticks": ""
            },
            "colorscale": [
             [
              0,
              "#0d0887"
             ],
             [
              0.1111111111111111,
              "#46039f"
             ],
             [
              0.2222222222222222,
              "#7201a8"
             ],
             [
              0.3333333333333333,
              "#9c179e"
             ],
             [
              0.4444444444444444,
              "#bd3786"
             ],
             [
              0.5555555555555556,
              "#d8576b"
             ],
             [
              0.6666666666666666,
              "#ed7953"
             ],
             [
              0.7777777777777778,
              "#fb9f3a"
             ],
             [
              0.8888888888888888,
              "#fdca26"
             ],
             [
              1,
              "#f0f921"
             ]
            ],
            "type": "surface"
           }
          ],
          "table": [
           {
            "cells": {
             "fill": {
              "color": "#EBF0F8"
             },
             "line": {
              "color": "white"
             }
            },
            "header": {
             "fill": {
              "color": "#C8D4E3"
             },
             "line": {
              "color": "white"
             }
            },
            "type": "table"
           }
          ]
         },
         "layout": {
          "annotationdefaults": {
           "arrowcolor": "#2a3f5f",
           "arrowhead": 0,
           "arrowwidth": 1
          },
          "autotypenumbers": "strict",
          "coloraxis": {
           "colorbar": {
            "outlinewidth": 0,
            "ticks": ""
           }
          },
          "colorscale": {
           "diverging": [
            [
             0,
             "#8e0152"
            ],
            [
             0.1,
             "#c51b7d"
            ],
            [
             0.2,
             "#de77ae"
            ],
            [
             0.3,
             "#f1b6da"
            ],
            [
             0.4,
             "#fde0ef"
            ],
            [
             0.5,
             "#f7f7f7"
            ],
            [
             0.6,
             "#e6f5d0"
            ],
            [
             0.7,
             "#b8e186"
            ],
            [
             0.8,
             "#7fbc41"
            ],
            [
             0.9,
             "#4d9221"
            ],
            [
             1,
             "#276419"
            ]
           ],
           "sequential": [
            [
             0,
             "#0d0887"
            ],
            [
             0.1111111111111111,
             "#46039f"
            ],
            [
             0.2222222222222222,
             "#7201a8"
            ],
            [
             0.3333333333333333,
             "#9c179e"
            ],
            [
             0.4444444444444444,
             "#bd3786"
            ],
            [
             0.5555555555555556,
             "#d8576b"
            ],
            [
             0.6666666666666666,
             "#ed7953"
            ],
            [
             0.7777777777777778,
             "#fb9f3a"
            ],
            [
             0.8888888888888888,
             "#fdca26"
            ],
            [
             1,
             "#f0f921"
            ]
           ],
           "sequentialminus": [
            [
             0,
             "#0d0887"
            ],
            [
             0.1111111111111111,
             "#46039f"
            ],
            [
             0.2222222222222222,
             "#7201a8"
            ],
            [
             0.3333333333333333,
             "#9c179e"
            ],
            [
             0.4444444444444444,
             "#bd3786"
            ],
            [
             0.5555555555555556,
             "#d8576b"
            ],
            [
             0.6666666666666666,
             "#ed7953"
            ],
            [
             0.7777777777777778,
             "#fb9f3a"
            ],
            [
             0.8888888888888888,
             "#fdca26"
            ],
            [
             1,
             "#f0f921"
            ]
           ]
          },
          "colorway": [
           "#636efa",
           "#EF553B",
           "#00cc96",
           "#ab63fa",
           "#FFA15A",
           "#19d3f3",
           "#FF6692",
           "#B6E880",
           "#FF97FF",
           "#FECB52"
          ],
          "font": {
           "color": "#2a3f5f"
          },
          "geo": {
           "bgcolor": "white",
           "lakecolor": "white",
           "landcolor": "#E5ECF6",
           "showlakes": true,
           "showland": true,
           "subunitcolor": "white"
          },
          "hoverlabel": {
           "align": "left"
          },
          "hovermode": "closest",
          "mapbox": {
           "style": "light"
          },
          "paper_bgcolor": "white",
          "plot_bgcolor": "#E5ECF6",
          "polar": {
           "angularaxis": {
            "gridcolor": "white",
            "linecolor": "white",
            "ticks": ""
           },
           "bgcolor": "#E5ECF6",
           "radialaxis": {
            "gridcolor": "white",
            "linecolor": "white",
            "ticks": ""
           }
          },
          "scene": {
           "xaxis": {
            "backgroundcolor": "#E5ECF6",
            "gridcolor": "white",
            "gridwidth": 2,
            "linecolor": "white",
            "showbackground": true,
            "ticks": "",
            "zerolinecolor": "white"
           },
           "yaxis": {
            "backgroundcolor": "#E5ECF6",
            "gridcolor": "white",
            "gridwidth": 2,
            "linecolor": "white",
            "showbackground": true,
            "ticks": "",
            "zerolinecolor": "white"
           },
           "zaxis": {
            "backgroundcolor": "#E5ECF6",
            "gridcolor": "white",
            "gridwidth": 2,
            "linecolor": "white",
            "showbackground": true,
            "ticks": "",
            "zerolinecolor": "white"
           }
          },
          "shapedefaults": {
           "line": {
            "color": "#2a3f5f"
           }
          },
          "ternary": {
           "aaxis": {
            "gridcolor": "white",
            "linecolor": "white",
            "ticks": ""
           },
           "baxis": {
            "gridcolor": "white",
            "linecolor": "white",
            "ticks": ""
           },
           "bgcolor": "#E5ECF6",
           "caxis": {
            "gridcolor": "white",
            "linecolor": "white",
            "ticks": ""
           }
          },
          "title": {
           "x": 0.05
          },
          "xaxis": {
           "automargin": true,
           "gridcolor": "white",
           "linecolor": "white",
           "ticks": "",
           "title": {
            "standoff": 15
           },
           "zerolinecolor": "white",
           "zerolinewidth": 2
          },
          "yaxis": {
           "automargin": true,
           "gridcolor": "white",
           "linecolor": "white",
           "ticks": "",
           "title": {
            "standoff": 15
           },
           "zerolinecolor": "white",
           "zerolinewidth": 2
          }
         }
        },
        "xaxis": {
         "anchor": "y",
         "domain": [
          0,
          1
         ],
         "title": {
          "text": "Date"
         }
        },
        "yaxis": {
         "anchor": "x",
         "domain": [
          0,
          1
         ],
         "title": {
          "text": "Close"
         }
        }
       }
      }
     },
     "metadata": {},
     "output_type": "display_data"
    }
   ],
   "source": [
    "px.scatter(fbdaily2013, x='Date', y='Close', color='Close')"
   ]
  },
  {
   "cell_type": "code",
   "execution_count": null,
   "metadata": {},
   "outputs": [],
   "source": []
  },
  {
   "cell_type": "code",
   "execution_count": null,
   "metadata": {},
   "outputs": [],
   "source": []
  }
 ],
 "metadata": {
  "interpreter": {
   "hash": "f2d5c377ddb99c1428f5e55e91375d1523909d7f7dc08e1a38f5468989b40b95"
  },
  "kernelspec": {
   "display_name": "Python 3 (ipykernel)",
   "language": "python",
   "name": "python3"
  },
  "language_info": {
   "codemirror_mode": {
    "name": "ipython",
    "version": 3
   },
   "file_extension": ".py",
   "mimetype": "text/x-python",
   "name": "python",
   "nbconvert_exporter": "python",
   "pygments_lexer": "ipython3",
   "version": "3.7.11"
  }
 },
 "nbformat": 4,
 "nbformat_minor": 4
}
