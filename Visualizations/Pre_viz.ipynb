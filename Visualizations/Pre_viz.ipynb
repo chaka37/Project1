{
 "cells": [
  {
   "cell_type": "code",
   "execution_count": 11,
   "metadata": {},
   "outputs": [],
   "source": [
    "import pandas as pd\n",
    "import plotly.express as px\n",
    "import os\n",
    "from pathlib import Path"
   ]
  },
  {
   "cell_type": "code",
   "execution_count": 12,
   "metadata": {},
   "outputs": [
    {
     "data": {
      "text/html": [
       "<div>\n",
       "<style scoped>\n",
       "    .dataframe tbody tr th:only-of-type {\n",
       "        vertical-align: middle;\n",
       "    }\n",
       "\n",
       "    .dataframe tbody tr th {\n",
       "        vertical-align: top;\n",
       "    }\n",
       "\n",
       "    .dataframe thead th {\n",
       "        text-align: right;\n",
       "    }\n",
       "</style>\n",
       "<table border=\"1\" class=\"dataframe\">\n",
       "  <thead>\n",
       "    <tr style=\"text-align: right;\">\n",
       "      <th></th>\n",
       "      <th>Unnamed: 0</th>\n",
       "      <th>Unnamed: 0.1</th>\n",
       "      <th>Company Name</th>\n",
       "      <th>Year of Breach</th>\n",
       "      <th>Date Made Public</th>\n",
       "      <th>Data Loss</th>\n",
       "      <th>Total Records</th>\n",
       "      <th>Type of Organization</th>\n",
       "      <th>Type of Breach</th>\n",
       "      <th>City</th>\n",
       "      <th>State</th>\n",
       "      <th>Description of Incident</th>\n",
       "      <th>Information Source</th>\n",
       "    </tr>\n",
       "  </thead>\n",
       "  <tbody>\n",
       "    <tr>\n",
       "      <th>0</th>\n",
       "      <td>0</td>\n",
       "      <td>0.0</td>\n",
       "      <td>000webhost</td>\n",
       "      <td>2015</td>\n",
       "      <td>2015.0</td>\n",
       "      <td>NaN</td>\n",
       "      <td>13545468</td>\n",
       "      <td>NaN</td>\n",
       "      <td>NaN</td>\n",
       "      <td>NaN</td>\n",
       "      <td>NaN</td>\n",
       "      <td>NaN</td>\n",
       "      <td>NaN</td>\n",
       "    </tr>\n",
       "    <tr>\n",
       "      <th>1</th>\n",
       "      <td>1</td>\n",
       "      <td>1.0</td>\n",
       "      <td>17Media</td>\n",
       "      <td>2016</td>\n",
       "      <td>2016.0</td>\n",
       "      <td>NaN</td>\n",
       "      <td>4009640</td>\n",
       "      <td>NaN</td>\n",
       "      <td>NaN</td>\n",
       "      <td>NaN</td>\n",
       "      <td>NaN</td>\n",
       "      <td>NaN</td>\n",
       "      <td>NaN</td>\n",
       "    </tr>\n",
       "    <tr>\n",
       "      <th>2</th>\n",
       "      <td>2</td>\n",
       "      <td>2.0</td>\n",
       "      <td>AcneOrg</td>\n",
       "      <td>2014</td>\n",
       "      <td>2016.0</td>\n",
       "      <td>NaN</td>\n",
       "      <td>432943</td>\n",
       "      <td>NaN</td>\n",
       "      <td>NaN</td>\n",
       "      <td>NaN</td>\n",
       "      <td>NaN</td>\n",
       "      <td>NaN</td>\n",
       "      <td>NaN</td>\n",
       "    </tr>\n",
       "    <tr>\n",
       "      <th>3</th>\n",
       "      <td>3</td>\n",
       "      <td>3.0</td>\n",
       "      <td>Adobe</td>\n",
       "      <td>2013</td>\n",
       "      <td>2013.0</td>\n",
       "      <td>NaN</td>\n",
       "      <td>152445165</td>\n",
       "      <td>NaN</td>\n",
       "      <td>NaN</td>\n",
       "      <td>NaN</td>\n",
       "      <td>NaN</td>\n",
       "      <td>NaN</td>\n",
       "      <td>NaN</td>\n",
       "    </tr>\n",
       "    <tr>\n",
       "      <th>4</th>\n",
       "      <td>4</td>\n",
       "      <td>4.0</td>\n",
       "      <td>AdultFriendFinder</td>\n",
       "      <td>2015</td>\n",
       "      <td>2015.0</td>\n",
       "      <td>NaN</td>\n",
       "      <td>3867997</td>\n",
       "      <td>NaN</td>\n",
       "      <td>NaN</td>\n",
       "      <td>NaN</td>\n",
       "      <td>NaN</td>\n",
       "      <td>NaN</td>\n",
       "      <td>NaN</td>\n",
       "    </tr>\n",
       "  </tbody>\n",
       "</table>\n",
       "</div>"
      ],
      "text/plain": [
       "   Unnamed: 0  Unnamed: 0.1       Company Name Year of Breach  \\\n",
       "0           0           0.0         000webhost           2015   \n",
       "1           1           1.0            17Media           2016   \n",
       "2           2           2.0            AcneOrg           2014   \n",
       "3           3           3.0              Adobe           2013   \n",
       "4           4           4.0  AdultFriendFinder           2015   \n",
       "\n",
       "   Date Made Public Data Loss Total Records Type of Organization  \\\n",
       "0            2015.0       NaN      13545468                  NaN   \n",
       "1            2016.0       NaN       4009640                  NaN   \n",
       "2            2016.0       NaN        432943                  NaN   \n",
       "3            2013.0       NaN     152445165                  NaN   \n",
       "4            2015.0       NaN       3867997                  NaN   \n",
       "\n",
       "  Type of Breach City State Description of Incident Information Source  \n",
       "0            NaN  NaN   NaN                     NaN                NaN  \n",
       "1            NaN  NaN   NaN                     NaN                NaN  \n",
       "2            NaN  NaN   NaN                     NaN                NaN  \n",
       "3            NaN  NaN   NaN                     NaN                NaN  \n",
       "4            NaN  NaN   NaN                     NaN                NaN  "
      ]
     },
     "execution_count": 12,
     "metadata": {},
     "output_type": "execute_result"
    }
   ],
   "source": [
    "csvpath = Path(\"../data/clean data/Data_Breaches.csv\")\n",
    "Data_Breaches = pd.read_csv(csvpath)\n",
    "Data_Breaches.head()"
   ]
  },
  {
   "cell_type": "code",
   "execution_count": 13,
   "metadata": {},
   "outputs": [
    {
     "data": {
      "text/plain": [
       "HACK    140\n",
       "STAT     37\n",
       "DISC     13\n",
       "INSD     10\n",
       "PHYS      1\n",
       "UNKN      1\n",
       "Name: Type of Breach, dtype: int64"
      ]
     },
     "execution_count": 13,
     "metadata": {},
     "output_type": "execute_result"
    }
   ],
   "source": [
    "Data_Breaches[\"Type of Breach\"].value_counts()"
   ]
  },
  {
   "cell_type": "code",
   "execution_count": 14,
   "metadata": {},
   "outputs": [],
   "source": [
    "## Group Type of Organizationon on total records lost, Bar chart to show data\n",
    "\n",
    "#records_lost = Data_Breaches.groupby('Type of Organization').sum().sort_values(\"Total Records\", ascending=False)\n",
    "#records_lost = records_lost.reset_index()\n",
    "#records_lost\n",
    "#px.bar(x='Type of Organization', y='Total Records', data_frame=records_lost, title=\"Most Affected Organization\")"
   ]
  },
  {
   "cell_type": "code",
   "execution_count": null,
   "metadata": {},
   "outputs": [],
   "source": [
    "## Group total records lost by year, bar chart to show data\n",
    "\n",
    "#records_by_year = Data_Breaches.groupby('Year of Breach').sum().sort_values('Total Records', ascending=False)\n",
    "#records_by_year = records_by_year.reset_index()\n",
    "#px.bar(x='Year of Breach', y='Total Records', data_frame=records_by_year, title=\"Total Records Lost by Year\")"
   ]
  },
  {
   "cell_type": "code",
   "execution_count": null,
   "metadata": {},
   "outputs": [],
   "source": [
    "#Sunburst plot showing the type of breach by sector\n",
    "\n",
    "#fig_1 =px.sunburst(Data_Breaches, path=[\"Type of Organization\",\"Type of Breach\"], values='Total Records', width = 500, height = 500, title = \"Type of Breaches for each Sector\")\n",
    "#fig_1.show()"
   ]
  },
  {
   "cell_type": "code",
   "execution_count": null,
   "metadata": {},
   "outputs": [],
   "source": [
    "## Histogram showing year of breach, total records, and type of breach\n",
    "\n",
    "#fig_2 = px.histogram(Data_Breaches, x=\"Year of Breach\", y=\"Total Records\", histfunc=\"count\", color=\"Type of Breach\", labels={'x':'Year', 'y':'Total Records'}).update_xaxes(categoryorder='total descending')\n",
    "#fig_2.show()"
   ]
  }
 ],
 "metadata": {
  "interpreter": {
   "hash": "4640647035ecb5c49acd4af03da0e0aaf2f75da291538d1bb40f009c27bfdbe9"
  },
  "kernelspec": {
   "display_name": "Python 3.7.11 ('pyvizenv')",
   "language": "python",
   "name": "python3"
  },
  "language_info": {
   "codemirror_mode": {
    "name": "ipython",
    "version": 3
   },
   "file_extension": ".py",
   "mimetype": "text/x-python",
   "name": "python",
   "nbconvert_exporter": "python",
   "pygments_lexer": "ipython3",
   "version": "3.7.11"
  },
  "orig_nbformat": 4
 },
 "nbformat": 4,
 "nbformat_minor": 2
}
